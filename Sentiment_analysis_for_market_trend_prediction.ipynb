{
  "nbformat": 4,
  "nbformat_minor": 0,
  "metadata": {
    "colab": {
      "provenance": [],
      "gpuType": "T4"
    },
    "kernelspec": {
      "name": "python3",
      "display_name": "Python 3"
    },
    "language_info": {
      "name": "python"
    },
    "widgets": {
      "application/vnd.jupyter.widget-state+json": {
        "fe16c8b13d7c4c92b0388824f5e85d79": {
          "model_module": "@jupyter-widgets/controls",
          "model_name": "HBoxModel",
          "model_module_version": "1.5.0",
          "state": {
            "_dom_classes": [],
            "_model_module": "@jupyter-widgets/controls",
            "_model_module_version": "1.5.0",
            "_model_name": "HBoxModel",
            "_view_count": null,
            "_view_module": "@jupyter-widgets/controls",
            "_view_module_version": "1.5.0",
            "_view_name": "HBoxView",
            "box_style": "",
            "children": [
              "IPY_MODEL_417bc999e30e4a69afbc5b96de9f46fb",
              "IPY_MODEL_98b8ea6d691a4b9d8be2735495180614",
              "IPY_MODEL_0e8494fc767e420587932bd33435904e"
            ],
            "layout": "IPY_MODEL_c317f01e9d2b4444b46a29cdc4e27529"
          }
        },
        "417bc999e30e4a69afbc5b96de9f46fb": {
          "model_module": "@jupyter-widgets/controls",
          "model_name": "HTMLModel",
          "model_module_version": "1.5.0",
          "state": {
            "_dom_classes": [],
            "_model_module": "@jupyter-widgets/controls",
            "_model_module_version": "1.5.0",
            "_model_name": "HTMLModel",
            "_view_count": null,
            "_view_module": "@jupyter-widgets/controls",
            "_view_module_version": "1.5.0",
            "_view_name": "HTMLView",
            "description": "",
            "description_tooltip": null,
            "layout": "IPY_MODEL_ce5d612548d14278893e74d0686e2c1f",
            "placeholder": "​",
            "style": "IPY_MODEL_ce8ddf21649245b893a1b58a3413e682",
            "value": "config.json: 100%"
          }
        },
        "98b8ea6d691a4b9d8be2735495180614": {
          "model_module": "@jupyter-widgets/controls",
          "model_name": "FloatProgressModel",
          "model_module_version": "1.5.0",
          "state": {
            "_dom_classes": [],
            "_model_module": "@jupyter-widgets/controls",
            "_model_module_version": "1.5.0",
            "_model_name": "FloatProgressModel",
            "_view_count": null,
            "_view_module": "@jupyter-widgets/controls",
            "_view_module_version": "1.5.0",
            "_view_name": "ProgressView",
            "bar_style": "success",
            "description": "",
            "description_tooltip": null,
            "layout": "IPY_MODEL_5375e9bbd863476eae083b52a9fecb3e",
            "max": 1585,
            "min": 0,
            "orientation": "horizontal",
            "style": "IPY_MODEL_a336f245aac147d7bbc29ec7e9650316",
            "value": 1585
          }
        },
        "0e8494fc767e420587932bd33435904e": {
          "model_module": "@jupyter-widgets/controls",
          "model_name": "HTMLModel",
          "model_module_version": "1.5.0",
          "state": {
            "_dom_classes": [],
            "_model_module": "@jupyter-widgets/controls",
            "_model_module_version": "1.5.0",
            "_model_name": "HTMLModel",
            "_view_count": null,
            "_view_module": "@jupyter-widgets/controls",
            "_view_module_version": "1.5.0",
            "_view_name": "HTMLView",
            "description": "",
            "description_tooltip": null,
            "layout": "IPY_MODEL_91e7adebcfb34310928483393d25ce88",
            "placeholder": "​",
            "style": "IPY_MODEL_f4d0d44a6ce8406a9fe9d9c3f0447f9b",
            "value": " 1.58k/1.58k [00:00&lt;00:00, 32.0kB/s]"
          }
        },
        "c317f01e9d2b4444b46a29cdc4e27529": {
          "model_module": "@jupyter-widgets/base",
          "model_name": "LayoutModel",
          "model_module_version": "1.2.0",
          "state": {
            "_model_module": "@jupyter-widgets/base",
            "_model_module_version": "1.2.0",
            "_model_name": "LayoutModel",
            "_view_count": null,
            "_view_module": "@jupyter-widgets/base",
            "_view_module_version": "1.2.0",
            "_view_name": "LayoutView",
            "align_content": null,
            "align_items": null,
            "align_self": null,
            "border": null,
            "bottom": null,
            "display": null,
            "flex": null,
            "flex_flow": null,
            "grid_area": null,
            "grid_auto_columns": null,
            "grid_auto_flow": null,
            "grid_auto_rows": null,
            "grid_column": null,
            "grid_gap": null,
            "grid_row": null,
            "grid_template_areas": null,
            "grid_template_columns": null,
            "grid_template_rows": null,
            "height": null,
            "justify_content": null,
            "justify_items": null,
            "left": null,
            "margin": null,
            "max_height": null,
            "max_width": null,
            "min_height": null,
            "min_width": null,
            "object_fit": null,
            "object_position": null,
            "order": null,
            "overflow": null,
            "overflow_x": null,
            "overflow_y": null,
            "padding": null,
            "right": null,
            "top": null,
            "visibility": null,
            "width": null
          }
        },
        "ce5d612548d14278893e74d0686e2c1f": {
          "model_module": "@jupyter-widgets/base",
          "model_name": "LayoutModel",
          "model_module_version": "1.2.0",
          "state": {
            "_model_module": "@jupyter-widgets/base",
            "_model_module_version": "1.2.0",
            "_model_name": "LayoutModel",
            "_view_count": null,
            "_view_module": "@jupyter-widgets/base",
            "_view_module_version": "1.2.0",
            "_view_name": "LayoutView",
            "align_content": null,
            "align_items": null,
            "align_self": null,
            "border": null,
            "bottom": null,
            "display": null,
            "flex": null,
            "flex_flow": null,
            "grid_area": null,
            "grid_auto_columns": null,
            "grid_auto_flow": null,
            "grid_auto_rows": null,
            "grid_column": null,
            "grid_gap": null,
            "grid_row": null,
            "grid_template_areas": null,
            "grid_template_columns": null,
            "grid_template_rows": null,
            "height": null,
            "justify_content": null,
            "justify_items": null,
            "left": null,
            "margin": null,
            "max_height": null,
            "max_width": null,
            "min_height": null,
            "min_width": null,
            "object_fit": null,
            "object_position": null,
            "order": null,
            "overflow": null,
            "overflow_x": null,
            "overflow_y": null,
            "padding": null,
            "right": null,
            "top": null,
            "visibility": null,
            "width": null
          }
        },
        "ce8ddf21649245b893a1b58a3413e682": {
          "model_module": "@jupyter-widgets/controls",
          "model_name": "DescriptionStyleModel",
          "model_module_version": "1.5.0",
          "state": {
            "_model_module": "@jupyter-widgets/controls",
            "_model_module_version": "1.5.0",
            "_model_name": "DescriptionStyleModel",
            "_view_count": null,
            "_view_module": "@jupyter-widgets/base",
            "_view_module_version": "1.2.0",
            "_view_name": "StyleView",
            "description_width": ""
          }
        },
        "5375e9bbd863476eae083b52a9fecb3e": {
          "model_module": "@jupyter-widgets/base",
          "model_name": "LayoutModel",
          "model_module_version": "1.2.0",
          "state": {
            "_model_module": "@jupyter-widgets/base",
            "_model_module_version": "1.2.0",
            "_model_name": "LayoutModel",
            "_view_count": null,
            "_view_module": "@jupyter-widgets/base",
            "_view_module_version": "1.2.0",
            "_view_name": "LayoutView",
            "align_content": null,
            "align_items": null,
            "align_self": null,
            "border": null,
            "bottom": null,
            "display": null,
            "flex": null,
            "flex_flow": null,
            "grid_area": null,
            "grid_auto_columns": null,
            "grid_auto_flow": null,
            "grid_auto_rows": null,
            "grid_column": null,
            "grid_gap": null,
            "grid_row": null,
            "grid_template_areas": null,
            "grid_template_columns": null,
            "grid_template_rows": null,
            "height": null,
            "justify_content": null,
            "justify_items": null,
            "left": null,
            "margin": null,
            "max_height": null,
            "max_width": null,
            "min_height": null,
            "min_width": null,
            "object_fit": null,
            "object_position": null,
            "order": null,
            "overflow": null,
            "overflow_x": null,
            "overflow_y": null,
            "padding": null,
            "right": null,
            "top": null,
            "visibility": null,
            "width": null
          }
        },
        "a336f245aac147d7bbc29ec7e9650316": {
          "model_module": "@jupyter-widgets/controls",
          "model_name": "ProgressStyleModel",
          "model_module_version": "1.5.0",
          "state": {
            "_model_module": "@jupyter-widgets/controls",
            "_model_module_version": "1.5.0",
            "_model_name": "ProgressStyleModel",
            "_view_count": null,
            "_view_module": "@jupyter-widgets/base",
            "_view_module_version": "1.2.0",
            "_view_name": "StyleView",
            "bar_color": null,
            "description_width": ""
          }
        },
        "91e7adebcfb34310928483393d25ce88": {
          "model_module": "@jupyter-widgets/base",
          "model_name": "LayoutModel",
          "model_module_version": "1.2.0",
          "state": {
            "_model_module": "@jupyter-widgets/base",
            "_model_module_version": "1.2.0",
            "_model_name": "LayoutModel",
            "_view_count": null,
            "_view_module": "@jupyter-widgets/base",
            "_view_module_version": "1.2.0",
            "_view_name": "LayoutView",
            "align_content": null,
            "align_items": null,
            "align_self": null,
            "border": null,
            "bottom": null,
            "display": null,
            "flex": null,
            "flex_flow": null,
            "grid_area": null,
            "grid_auto_columns": null,
            "grid_auto_flow": null,
            "grid_auto_rows": null,
            "grid_column": null,
            "grid_gap": null,
            "grid_row": null,
            "grid_template_areas": null,
            "grid_template_columns": null,
            "grid_template_rows": null,
            "height": null,
            "justify_content": null,
            "justify_items": null,
            "left": null,
            "margin": null,
            "max_height": null,
            "max_width": null,
            "min_height": null,
            "min_width": null,
            "object_fit": null,
            "object_position": null,
            "order": null,
            "overflow": null,
            "overflow_x": null,
            "overflow_y": null,
            "padding": null,
            "right": null,
            "top": null,
            "visibility": null,
            "width": null
          }
        },
        "f4d0d44a6ce8406a9fe9d9c3f0447f9b": {
          "model_module": "@jupyter-widgets/controls",
          "model_name": "DescriptionStyleModel",
          "model_module_version": "1.5.0",
          "state": {
            "_model_module": "@jupyter-widgets/controls",
            "_model_module_version": "1.5.0",
            "_model_name": "DescriptionStyleModel",
            "_view_count": null,
            "_view_module": "@jupyter-widgets/base",
            "_view_module_version": "1.2.0",
            "_view_name": "StyleView",
            "description_width": ""
          }
        },
        "b0b03d6084cd4071a870a8eb2731fef0": {
          "model_module": "@jupyter-widgets/controls",
          "model_name": "HBoxModel",
          "model_module_version": "1.5.0",
          "state": {
            "_dom_classes": [],
            "_model_module": "@jupyter-widgets/controls",
            "_model_module_version": "1.5.0",
            "_model_name": "HBoxModel",
            "_view_count": null,
            "_view_module": "@jupyter-widgets/controls",
            "_view_module_version": "1.5.0",
            "_view_name": "HBoxView",
            "box_style": "",
            "children": [
              "IPY_MODEL_d7a04b39720a4a1fb93051a5e7d7b125",
              "IPY_MODEL_14e5c49eae954f0e8f1cca4a9ba74afd",
              "IPY_MODEL_818f1a11ce3d45d3b189701d4a8513e4"
            ],
            "layout": "IPY_MODEL_25fd66440df54ca3837a721794004bb4"
          }
        },
        "d7a04b39720a4a1fb93051a5e7d7b125": {
          "model_module": "@jupyter-widgets/controls",
          "model_name": "HTMLModel",
          "model_module_version": "1.5.0",
          "state": {
            "_dom_classes": [],
            "_model_module": "@jupyter-widgets/controls",
            "_model_module_version": "1.5.0",
            "_model_name": "HTMLModel",
            "_view_count": null,
            "_view_module": "@jupyter-widgets/controls",
            "_view_module_version": "1.5.0",
            "_view_name": "HTMLView",
            "description": "",
            "description_tooltip": null,
            "layout": "IPY_MODEL_7919c09dfa814278986bc1d129f41697",
            "placeholder": "​",
            "style": "IPY_MODEL_714e74b775a647028e4dfb3da9b2ee95",
            "value": "model.safetensors: 100%"
          }
        },
        "14e5c49eae954f0e8f1cca4a9ba74afd": {
          "model_module": "@jupyter-widgets/controls",
          "model_name": "FloatProgressModel",
          "model_module_version": "1.5.0",
          "state": {
            "_dom_classes": [],
            "_model_module": "@jupyter-widgets/controls",
            "_model_module_version": "1.5.0",
            "_model_name": "FloatProgressModel",
            "_view_count": null,
            "_view_module": "@jupyter-widgets/controls",
            "_view_module_version": "1.5.0",
            "_view_name": "ProgressView",
            "bar_style": "success",
            "description": "",
            "description_tooltip": null,
            "layout": "IPY_MODEL_392a2fc5c6c64726bac678d0c375381f",
            "max": 1625222120,
            "min": 0,
            "orientation": "horizontal",
            "style": "IPY_MODEL_95d28c4a65ce4fb19725825a5726dec7",
            "value": 1625222120
          }
        },
        "818f1a11ce3d45d3b189701d4a8513e4": {
          "model_module": "@jupyter-widgets/controls",
          "model_name": "HTMLModel",
          "model_module_version": "1.5.0",
          "state": {
            "_dom_classes": [],
            "_model_module": "@jupyter-widgets/controls",
            "_model_module_version": "1.5.0",
            "_model_name": "HTMLModel",
            "_view_count": null,
            "_view_module": "@jupyter-widgets/controls",
            "_view_module_version": "1.5.0",
            "_view_name": "HTMLView",
            "description": "",
            "description_tooltip": null,
            "layout": "IPY_MODEL_cba646ec5c514793bd371305655ec61b",
            "placeholder": "​",
            "style": "IPY_MODEL_b78d689d94e842878974e55f0ea945e8",
            "value": " 1.63G/1.63G [00:18&lt;00:00, 138MB/s]"
          }
        },
        "25fd66440df54ca3837a721794004bb4": {
          "model_module": "@jupyter-widgets/base",
          "model_name": "LayoutModel",
          "model_module_version": "1.2.0",
          "state": {
            "_model_module": "@jupyter-widgets/base",
            "_model_module_version": "1.2.0",
            "_model_name": "LayoutModel",
            "_view_count": null,
            "_view_module": "@jupyter-widgets/base",
            "_view_module_version": "1.2.0",
            "_view_name": "LayoutView",
            "align_content": null,
            "align_items": null,
            "align_self": null,
            "border": null,
            "bottom": null,
            "display": null,
            "flex": null,
            "flex_flow": null,
            "grid_area": null,
            "grid_auto_columns": null,
            "grid_auto_flow": null,
            "grid_auto_rows": null,
            "grid_column": null,
            "grid_gap": null,
            "grid_row": null,
            "grid_template_areas": null,
            "grid_template_columns": null,
            "grid_template_rows": null,
            "height": null,
            "justify_content": null,
            "justify_items": null,
            "left": null,
            "margin": null,
            "max_height": null,
            "max_width": null,
            "min_height": null,
            "min_width": null,
            "object_fit": null,
            "object_position": null,
            "order": null,
            "overflow": null,
            "overflow_x": null,
            "overflow_y": null,
            "padding": null,
            "right": null,
            "top": null,
            "visibility": null,
            "width": null
          }
        },
        "7919c09dfa814278986bc1d129f41697": {
          "model_module": "@jupyter-widgets/base",
          "model_name": "LayoutModel",
          "model_module_version": "1.2.0",
          "state": {
            "_model_module": "@jupyter-widgets/base",
            "_model_module_version": "1.2.0",
            "_model_name": "LayoutModel",
            "_view_count": null,
            "_view_module": "@jupyter-widgets/base",
            "_view_module_version": "1.2.0",
            "_view_name": "LayoutView",
            "align_content": null,
            "align_items": null,
            "align_self": null,
            "border": null,
            "bottom": null,
            "display": null,
            "flex": null,
            "flex_flow": null,
            "grid_area": null,
            "grid_auto_columns": null,
            "grid_auto_flow": null,
            "grid_auto_rows": null,
            "grid_column": null,
            "grid_gap": null,
            "grid_row": null,
            "grid_template_areas": null,
            "grid_template_columns": null,
            "grid_template_rows": null,
            "height": null,
            "justify_content": null,
            "justify_items": null,
            "left": null,
            "margin": null,
            "max_height": null,
            "max_width": null,
            "min_height": null,
            "min_width": null,
            "object_fit": null,
            "object_position": null,
            "order": null,
            "overflow": null,
            "overflow_x": null,
            "overflow_y": null,
            "padding": null,
            "right": null,
            "top": null,
            "visibility": null,
            "width": null
          }
        },
        "714e74b775a647028e4dfb3da9b2ee95": {
          "model_module": "@jupyter-widgets/controls",
          "model_name": "DescriptionStyleModel",
          "model_module_version": "1.5.0",
          "state": {
            "_model_module": "@jupyter-widgets/controls",
            "_model_module_version": "1.5.0",
            "_model_name": "DescriptionStyleModel",
            "_view_count": null,
            "_view_module": "@jupyter-widgets/base",
            "_view_module_version": "1.2.0",
            "_view_name": "StyleView",
            "description_width": ""
          }
        },
        "392a2fc5c6c64726bac678d0c375381f": {
          "model_module": "@jupyter-widgets/base",
          "model_name": "LayoutModel",
          "model_module_version": "1.2.0",
          "state": {
            "_model_module": "@jupyter-widgets/base",
            "_model_module_version": "1.2.0",
            "_model_name": "LayoutModel",
            "_view_count": null,
            "_view_module": "@jupyter-widgets/base",
            "_view_module_version": "1.2.0",
            "_view_name": "LayoutView",
            "align_content": null,
            "align_items": null,
            "align_self": null,
            "border": null,
            "bottom": null,
            "display": null,
            "flex": null,
            "flex_flow": null,
            "grid_area": null,
            "grid_auto_columns": null,
            "grid_auto_flow": null,
            "grid_auto_rows": null,
            "grid_column": null,
            "grid_gap": null,
            "grid_row": null,
            "grid_template_areas": null,
            "grid_template_columns": null,
            "grid_template_rows": null,
            "height": null,
            "justify_content": null,
            "justify_items": null,
            "left": null,
            "margin": null,
            "max_height": null,
            "max_width": null,
            "min_height": null,
            "min_width": null,
            "object_fit": null,
            "object_position": null,
            "order": null,
            "overflow": null,
            "overflow_x": null,
            "overflow_y": null,
            "padding": null,
            "right": null,
            "top": null,
            "visibility": null,
            "width": null
          }
        },
        "95d28c4a65ce4fb19725825a5726dec7": {
          "model_module": "@jupyter-widgets/controls",
          "model_name": "ProgressStyleModel",
          "model_module_version": "1.5.0",
          "state": {
            "_model_module": "@jupyter-widgets/controls",
            "_model_module_version": "1.5.0",
            "_model_name": "ProgressStyleModel",
            "_view_count": null,
            "_view_module": "@jupyter-widgets/base",
            "_view_module_version": "1.2.0",
            "_view_name": "StyleView",
            "bar_color": null,
            "description_width": ""
          }
        },
        "cba646ec5c514793bd371305655ec61b": {
          "model_module": "@jupyter-widgets/base",
          "model_name": "LayoutModel",
          "model_module_version": "1.2.0",
          "state": {
            "_model_module": "@jupyter-widgets/base",
            "_model_module_version": "1.2.0",
            "_model_name": "LayoutModel",
            "_view_count": null,
            "_view_module": "@jupyter-widgets/base",
            "_view_module_version": "1.2.0",
            "_view_name": "LayoutView",
            "align_content": null,
            "align_items": null,
            "align_self": null,
            "border": null,
            "bottom": null,
            "display": null,
            "flex": null,
            "flex_flow": null,
            "grid_area": null,
            "grid_auto_columns": null,
            "grid_auto_flow": null,
            "grid_auto_rows": null,
            "grid_column": null,
            "grid_gap": null,
            "grid_row": null,
            "grid_template_areas": null,
            "grid_template_columns": null,
            "grid_template_rows": null,
            "height": null,
            "justify_content": null,
            "justify_items": null,
            "left": null,
            "margin": null,
            "max_height": null,
            "max_width": null,
            "min_height": null,
            "min_width": null,
            "object_fit": null,
            "object_position": null,
            "order": null,
            "overflow": null,
            "overflow_x": null,
            "overflow_y": null,
            "padding": null,
            "right": null,
            "top": null,
            "visibility": null,
            "width": null
          }
        },
        "b78d689d94e842878974e55f0ea945e8": {
          "model_module": "@jupyter-widgets/controls",
          "model_name": "DescriptionStyleModel",
          "model_module_version": "1.5.0",
          "state": {
            "_model_module": "@jupyter-widgets/controls",
            "_model_module_version": "1.5.0",
            "_model_name": "DescriptionStyleModel",
            "_view_count": null,
            "_view_module": "@jupyter-widgets/base",
            "_view_module_version": "1.2.0",
            "_view_name": "StyleView",
            "description_width": ""
          }
        },
        "aa82e3bca08342dbba681b5330a4b562": {
          "model_module": "@jupyter-widgets/controls",
          "model_name": "HBoxModel",
          "model_module_version": "1.5.0",
          "state": {
            "_dom_classes": [],
            "_model_module": "@jupyter-widgets/controls",
            "_model_module_version": "1.5.0",
            "_model_name": "HBoxModel",
            "_view_count": null,
            "_view_module": "@jupyter-widgets/controls",
            "_view_module_version": "1.5.0",
            "_view_name": "HBoxView",
            "box_style": "",
            "children": [
              "IPY_MODEL_f3281153b0aa4dbaadeb3a65483a60bb",
              "IPY_MODEL_475c9e6d433b4927b78e66205e0acd18",
              "IPY_MODEL_0fffc023d53f4237beacd279269c81c4"
            ],
            "layout": "IPY_MODEL_af95eb95ec76488ba71079e83fb28c82"
          }
        },
        "f3281153b0aa4dbaadeb3a65483a60bb": {
          "model_module": "@jupyter-widgets/controls",
          "model_name": "HTMLModel",
          "model_module_version": "1.5.0",
          "state": {
            "_dom_classes": [],
            "_model_module": "@jupyter-widgets/controls",
            "_model_module_version": "1.5.0",
            "_model_name": "HTMLModel",
            "_view_count": null,
            "_view_module": "@jupyter-widgets/controls",
            "_view_module_version": "1.5.0",
            "_view_name": "HTMLView",
            "description": "",
            "description_tooltip": null,
            "layout": "IPY_MODEL_f6588d8a1f8242c586447dda4265d32e",
            "placeholder": "​",
            "style": "IPY_MODEL_2d28e2e053c544caabe63358b64c8e6a",
            "value": "generation_config.json: 100%"
          }
        },
        "475c9e6d433b4927b78e66205e0acd18": {
          "model_module": "@jupyter-widgets/controls",
          "model_name": "FloatProgressModel",
          "model_module_version": "1.5.0",
          "state": {
            "_dom_classes": [],
            "_model_module": "@jupyter-widgets/controls",
            "_model_module_version": "1.5.0",
            "_model_name": "FloatProgressModel",
            "_view_count": null,
            "_view_module": "@jupyter-widgets/controls",
            "_view_module_version": "1.5.0",
            "_view_name": "ProgressView",
            "bar_style": "success",
            "description": "",
            "description_tooltip": null,
            "layout": "IPY_MODEL_eaaef1aed21f44b5a31dc3ab6b641c03",
            "max": 363,
            "min": 0,
            "orientation": "horizontal",
            "style": "IPY_MODEL_241daf674d834eaa8abe67a6d028aa64",
            "value": 363
          }
        },
        "0fffc023d53f4237beacd279269c81c4": {
          "model_module": "@jupyter-widgets/controls",
          "model_name": "HTMLModel",
          "model_module_version": "1.5.0",
          "state": {
            "_dom_classes": [],
            "_model_module": "@jupyter-widgets/controls",
            "_model_module_version": "1.5.0",
            "_model_name": "HTMLModel",
            "_view_count": null,
            "_view_module": "@jupyter-widgets/controls",
            "_view_module_version": "1.5.0",
            "_view_name": "HTMLView",
            "description": "",
            "description_tooltip": null,
            "layout": "IPY_MODEL_db1cb84f5c6349fbbad1327848b44d8d",
            "placeholder": "​",
            "style": "IPY_MODEL_7227c0dcae414caa9ad20006b315c6b9",
            "value": " 363/363 [00:00&lt;00:00, 6.22kB/s]"
          }
        },
        "af95eb95ec76488ba71079e83fb28c82": {
          "model_module": "@jupyter-widgets/base",
          "model_name": "LayoutModel",
          "model_module_version": "1.2.0",
          "state": {
            "_model_module": "@jupyter-widgets/base",
            "_model_module_version": "1.2.0",
            "_model_name": "LayoutModel",
            "_view_count": null,
            "_view_module": "@jupyter-widgets/base",
            "_view_module_version": "1.2.0",
            "_view_name": "LayoutView",
            "align_content": null,
            "align_items": null,
            "align_self": null,
            "border": null,
            "bottom": null,
            "display": null,
            "flex": null,
            "flex_flow": null,
            "grid_area": null,
            "grid_auto_columns": null,
            "grid_auto_flow": null,
            "grid_auto_rows": null,
            "grid_column": null,
            "grid_gap": null,
            "grid_row": null,
            "grid_template_areas": null,
            "grid_template_columns": null,
            "grid_template_rows": null,
            "height": null,
            "justify_content": null,
            "justify_items": null,
            "left": null,
            "margin": null,
            "max_height": null,
            "max_width": null,
            "min_height": null,
            "min_width": null,
            "object_fit": null,
            "object_position": null,
            "order": null,
            "overflow": null,
            "overflow_x": null,
            "overflow_y": null,
            "padding": null,
            "right": null,
            "top": null,
            "visibility": null,
            "width": null
          }
        },
        "f6588d8a1f8242c586447dda4265d32e": {
          "model_module": "@jupyter-widgets/base",
          "model_name": "LayoutModel",
          "model_module_version": "1.2.0",
          "state": {
            "_model_module": "@jupyter-widgets/base",
            "_model_module_version": "1.2.0",
            "_model_name": "LayoutModel",
            "_view_count": null,
            "_view_module": "@jupyter-widgets/base",
            "_view_module_version": "1.2.0",
            "_view_name": "LayoutView",
            "align_content": null,
            "align_items": null,
            "align_self": null,
            "border": null,
            "bottom": null,
            "display": null,
            "flex": null,
            "flex_flow": null,
            "grid_area": null,
            "grid_auto_columns": null,
            "grid_auto_flow": null,
            "grid_auto_rows": null,
            "grid_column": null,
            "grid_gap": null,
            "grid_row": null,
            "grid_template_areas": null,
            "grid_template_columns": null,
            "grid_template_rows": null,
            "height": null,
            "justify_content": null,
            "justify_items": null,
            "left": null,
            "margin": null,
            "max_height": null,
            "max_width": null,
            "min_height": null,
            "min_width": null,
            "object_fit": null,
            "object_position": null,
            "order": null,
            "overflow": null,
            "overflow_x": null,
            "overflow_y": null,
            "padding": null,
            "right": null,
            "top": null,
            "visibility": null,
            "width": null
          }
        },
        "2d28e2e053c544caabe63358b64c8e6a": {
          "model_module": "@jupyter-widgets/controls",
          "model_name": "DescriptionStyleModel",
          "model_module_version": "1.5.0",
          "state": {
            "_model_module": "@jupyter-widgets/controls",
            "_model_module_version": "1.5.0",
            "_model_name": "DescriptionStyleModel",
            "_view_count": null,
            "_view_module": "@jupyter-widgets/base",
            "_view_module_version": "1.2.0",
            "_view_name": "StyleView",
            "description_width": ""
          }
        },
        "eaaef1aed21f44b5a31dc3ab6b641c03": {
          "model_module": "@jupyter-widgets/base",
          "model_name": "LayoutModel",
          "model_module_version": "1.2.0",
          "state": {
            "_model_module": "@jupyter-widgets/base",
            "_model_module_version": "1.2.0",
            "_model_name": "LayoutModel",
            "_view_count": null,
            "_view_module": "@jupyter-widgets/base",
            "_view_module_version": "1.2.0",
            "_view_name": "LayoutView",
            "align_content": null,
            "align_items": null,
            "align_self": null,
            "border": null,
            "bottom": null,
            "display": null,
            "flex": null,
            "flex_flow": null,
            "grid_area": null,
            "grid_auto_columns": null,
            "grid_auto_flow": null,
            "grid_auto_rows": null,
            "grid_column": null,
            "grid_gap": null,
            "grid_row": null,
            "grid_template_areas": null,
            "grid_template_columns": null,
            "grid_template_rows": null,
            "height": null,
            "justify_content": null,
            "justify_items": null,
            "left": null,
            "margin": null,
            "max_height": null,
            "max_width": null,
            "min_height": null,
            "min_width": null,
            "object_fit": null,
            "object_position": null,
            "order": null,
            "overflow": null,
            "overflow_x": null,
            "overflow_y": null,
            "padding": null,
            "right": null,
            "top": null,
            "visibility": null,
            "width": null
          }
        },
        "241daf674d834eaa8abe67a6d028aa64": {
          "model_module": "@jupyter-widgets/controls",
          "model_name": "ProgressStyleModel",
          "model_module_version": "1.5.0",
          "state": {
            "_model_module": "@jupyter-widgets/controls",
            "_model_module_version": "1.5.0",
            "_model_name": "ProgressStyleModel",
            "_view_count": null,
            "_view_module": "@jupyter-widgets/base",
            "_view_module_version": "1.2.0",
            "_view_name": "StyleView",
            "bar_color": null,
            "description_width": ""
          }
        },
        "db1cb84f5c6349fbbad1327848b44d8d": {
          "model_module": "@jupyter-widgets/base",
          "model_name": "LayoutModel",
          "model_module_version": "1.2.0",
          "state": {
            "_model_module": "@jupyter-widgets/base",
            "_model_module_version": "1.2.0",
            "_model_name": "LayoutModel",
            "_view_count": null,
            "_view_module": "@jupyter-widgets/base",
            "_view_module_version": "1.2.0",
            "_view_name": "LayoutView",
            "align_content": null,
            "align_items": null,
            "align_self": null,
            "border": null,
            "bottom": null,
            "display": null,
            "flex": null,
            "flex_flow": null,
            "grid_area": null,
            "grid_auto_columns": null,
            "grid_auto_flow": null,
            "grid_auto_rows": null,
            "grid_column": null,
            "grid_gap": null,
            "grid_row": null,
            "grid_template_areas": null,
            "grid_template_columns": null,
            "grid_template_rows": null,
            "height": null,
            "justify_content": null,
            "justify_items": null,
            "left": null,
            "margin": null,
            "max_height": null,
            "max_width": null,
            "min_height": null,
            "min_width": null,
            "object_fit": null,
            "object_position": null,
            "order": null,
            "overflow": null,
            "overflow_x": null,
            "overflow_y": null,
            "padding": null,
            "right": null,
            "top": null,
            "visibility": null,
            "width": null
          }
        },
        "7227c0dcae414caa9ad20006b315c6b9": {
          "model_module": "@jupyter-widgets/controls",
          "model_name": "DescriptionStyleModel",
          "model_module_version": "1.5.0",
          "state": {
            "_model_module": "@jupyter-widgets/controls",
            "_model_module_version": "1.5.0",
            "_model_name": "DescriptionStyleModel",
            "_view_count": null,
            "_view_module": "@jupyter-widgets/base",
            "_view_module_version": "1.2.0",
            "_view_name": "StyleView",
            "description_width": ""
          }
        },
        "1e241829c33d4f1db2ebdd5ada925624": {
          "model_module": "@jupyter-widgets/controls",
          "model_name": "HBoxModel",
          "model_module_version": "1.5.0",
          "state": {
            "_dom_classes": [],
            "_model_module": "@jupyter-widgets/controls",
            "_model_module_version": "1.5.0",
            "_model_name": "HBoxModel",
            "_view_count": null,
            "_view_module": "@jupyter-widgets/controls",
            "_view_module_version": "1.5.0",
            "_view_name": "HBoxView",
            "box_style": "",
            "children": [
              "IPY_MODEL_05a816efcb5340ad80cbd6c2db32d88f",
              "IPY_MODEL_13ec8a9f362c40c98f09099639b5dfe6",
              "IPY_MODEL_e611d4a8e7da4e5282ef4c0a6bce957b"
            ],
            "layout": "IPY_MODEL_b7bc1e5b53f84fc6af2155d6addde422"
          }
        },
        "05a816efcb5340ad80cbd6c2db32d88f": {
          "model_module": "@jupyter-widgets/controls",
          "model_name": "HTMLModel",
          "model_module_version": "1.5.0",
          "state": {
            "_dom_classes": [],
            "_model_module": "@jupyter-widgets/controls",
            "_model_module_version": "1.5.0",
            "_model_name": "HTMLModel",
            "_view_count": null,
            "_view_module": "@jupyter-widgets/controls",
            "_view_module_version": "1.5.0",
            "_view_name": "HTMLView",
            "description": "",
            "description_tooltip": null,
            "layout": "IPY_MODEL_c11fd8fd49de4c1a8ce0979a5da5f1dc",
            "placeholder": "​",
            "style": "IPY_MODEL_c07311a3312a4047aa108d14b0c6bc72",
            "value": "vocab.json: 100%"
          }
        },
        "13ec8a9f362c40c98f09099639b5dfe6": {
          "model_module": "@jupyter-widgets/controls",
          "model_name": "FloatProgressModel",
          "model_module_version": "1.5.0",
          "state": {
            "_dom_classes": [],
            "_model_module": "@jupyter-widgets/controls",
            "_model_module_version": "1.5.0",
            "_model_name": "FloatProgressModel",
            "_view_count": null,
            "_view_module": "@jupyter-widgets/controls",
            "_view_module_version": "1.5.0",
            "_view_name": "ProgressView",
            "bar_style": "success",
            "description": "",
            "description_tooltip": null,
            "layout": "IPY_MODEL_b056d26adc1746f38ad09b0506a8e7a2",
            "max": 898823,
            "min": 0,
            "orientation": "horizontal",
            "style": "IPY_MODEL_17a63e34594b4753a7fa32290a359665",
            "value": 898823
          }
        },
        "e611d4a8e7da4e5282ef4c0a6bce957b": {
          "model_module": "@jupyter-widgets/controls",
          "model_name": "HTMLModel",
          "model_module_version": "1.5.0",
          "state": {
            "_dom_classes": [],
            "_model_module": "@jupyter-widgets/controls",
            "_model_module_version": "1.5.0",
            "_model_name": "HTMLModel",
            "_view_count": null,
            "_view_module": "@jupyter-widgets/controls",
            "_view_module_version": "1.5.0",
            "_view_name": "HTMLView",
            "description": "",
            "description_tooltip": null,
            "layout": "IPY_MODEL_dff6b0fc4b584115af372140734a9325",
            "placeholder": "​",
            "style": "IPY_MODEL_4718c4b30819473fb7e382d1af79c704",
            "value": " 899k/899k [00:00&lt;00:00, 5.13MB/s]"
          }
        },
        "b7bc1e5b53f84fc6af2155d6addde422": {
          "model_module": "@jupyter-widgets/base",
          "model_name": "LayoutModel",
          "model_module_version": "1.2.0",
          "state": {
            "_model_module": "@jupyter-widgets/base",
            "_model_module_version": "1.2.0",
            "_model_name": "LayoutModel",
            "_view_count": null,
            "_view_module": "@jupyter-widgets/base",
            "_view_module_version": "1.2.0",
            "_view_name": "LayoutView",
            "align_content": null,
            "align_items": null,
            "align_self": null,
            "border": null,
            "bottom": null,
            "display": null,
            "flex": null,
            "flex_flow": null,
            "grid_area": null,
            "grid_auto_columns": null,
            "grid_auto_flow": null,
            "grid_auto_rows": null,
            "grid_column": null,
            "grid_gap": null,
            "grid_row": null,
            "grid_template_areas": null,
            "grid_template_columns": null,
            "grid_template_rows": null,
            "height": null,
            "justify_content": null,
            "justify_items": null,
            "left": null,
            "margin": null,
            "max_height": null,
            "max_width": null,
            "min_height": null,
            "min_width": null,
            "object_fit": null,
            "object_position": null,
            "order": null,
            "overflow": null,
            "overflow_x": null,
            "overflow_y": null,
            "padding": null,
            "right": null,
            "top": null,
            "visibility": null,
            "width": null
          }
        },
        "c11fd8fd49de4c1a8ce0979a5da5f1dc": {
          "model_module": "@jupyter-widgets/base",
          "model_name": "LayoutModel",
          "model_module_version": "1.2.0",
          "state": {
            "_model_module": "@jupyter-widgets/base",
            "_model_module_version": "1.2.0",
            "_model_name": "LayoutModel",
            "_view_count": null,
            "_view_module": "@jupyter-widgets/base",
            "_view_module_version": "1.2.0",
            "_view_name": "LayoutView",
            "align_content": null,
            "align_items": null,
            "align_self": null,
            "border": null,
            "bottom": null,
            "display": null,
            "flex": null,
            "flex_flow": null,
            "grid_area": null,
            "grid_auto_columns": null,
            "grid_auto_flow": null,
            "grid_auto_rows": null,
            "grid_column": null,
            "grid_gap": null,
            "grid_row": null,
            "grid_template_areas": null,
            "grid_template_columns": null,
            "grid_template_rows": null,
            "height": null,
            "justify_content": null,
            "justify_items": null,
            "left": null,
            "margin": null,
            "max_height": null,
            "max_width": null,
            "min_height": null,
            "min_width": null,
            "object_fit": null,
            "object_position": null,
            "order": null,
            "overflow": null,
            "overflow_x": null,
            "overflow_y": null,
            "padding": null,
            "right": null,
            "top": null,
            "visibility": null,
            "width": null
          }
        },
        "c07311a3312a4047aa108d14b0c6bc72": {
          "model_module": "@jupyter-widgets/controls",
          "model_name": "DescriptionStyleModel",
          "model_module_version": "1.5.0",
          "state": {
            "_model_module": "@jupyter-widgets/controls",
            "_model_module_version": "1.5.0",
            "_model_name": "DescriptionStyleModel",
            "_view_count": null,
            "_view_module": "@jupyter-widgets/base",
            "_view_module_version": "1.2.0",
            "_view_name": "StyleView",
            "description_width": ""
          }
        },
        "b056d26adc1746f38ad09b0506a8e7a2": {
          "model_module": "@jupyter-widgets/base",
          "model_name": "LayoutModel",
          "model_module_version": "1.2.0",
          "state": {
            "_model_module": "@jupyter-widgets/base",
            "_model_module_version": "1.2.0",
            "_model_name": "LayoutModel",
            "_view_count": null,
            "_view_module": "@jupyter-widgets/base",
            "_view_module_version": "1.2.0",
            "_view_name": "LayoutView",
            "align_content": null,
            "align_items": null,
            "align_self": null,
            "border": null,
            "bottom": null,
            "display": null,
            "flex": null,
            "flex_flow": null,
            "grid_area": null,
            "grid_auto_columns": null,
            "grid_auto_flow": null,
            "grid_auto_rows": null,
            "grid_column": null,
            "grid_gap": null,
            "grid_row": null,
            "grid_template_areas": null,
            "grid_template_columns": null,
            "grid_template_rows": null,
            "height": null,
            "justify_content": null,
            "justify_items": null,
            "left": null,
            "margin": null,
            "max_height": null,
            "max_width": null,
            "min_height": null,
            "min_width": null,
            "object_fit": null,
            "object_position": null,
            "order": null,
            "overflow": null,
            "overflow_x": null,
            "overflow_y": null,
            "padding": null,
            "right": null,
            "top": null,
            "visibility": null,
            "width": null
          }
        },
        "17a63e34594b4753a7fa32290a359665": {
          "model_module": "@jupyter-widgets/controls",
          "model_name": "ProgressStyleModel",
          "model_module_version": "1.5.0",
          "state": {
            "_model_module": "@jupyter-widgets/controls",
            "_model_module_version": "1.5.0",
            "_model_name": "ProgressStyleModel",
            "_view_count": null,
            "_view_module": "@jupyter-widgets/base",
            "_view_module_version": "1.2.0",
            "_view_name": "StyleView",
            "bar_color": null,
            "description_width": ""
          }
        },
        "dff6b0fc4b584115af372140734a9325": {
          "model_module": "@jupyter-widgets/base",
          "model_name": "LayoutModel",
          "model_module_version": "1.2.0",
          "state": {
            "_model_module": "@jupyter-widgets/base",
            "_model_module_version": "1.2.0",
            "_model_name": "LayoutModel",
            "_view_count": null,
            "_view_module": "@jupyter-widgets/base",
            "_view_module_version": "1.2.0",
            "_view_name": "LayoutView",
            "align_content": null,
            "align_items": null,
            "align_self": null,
            "border": null,
            "bottom": null,
            "display": null,
            "flex": null,
            "flex_flow": null,
            "grid_area": null,
            "grid_auto_columns": null,
            "grid_auto_flow": null,
            "grid_auto_rows": null,
            "grid_column": null,
            "grid_gap": null,
            "grid_row": null,
            "grid_template_areas": null,
            "grid_template_columns": null,
            "grid_template_rows": null,
            "height": null,
            "justify_content": null,
            "justify_items": null,
            "left": null,
            "margin": null,
            "max_height": null,
            "max_width": null,
            "min_height": null,
            "min_width": null,
            "object_fit": null,
            "object_position": null,
            "order": null,
            "overflow": null,
            "overflow_x": null,
            "overflow_y": null,
            "padding": null,
            "right": null,
            "top": null,
            "visibility": null,
            "width": null
          }
        },
        "4718c4b30819473fb7e382d1af79c704": {
          "model_module": "@jupyter-widgets/controls",
          "model_name": "DescriptionStyleModel",
          "model_module_version": "1.5.0",
          "state": {
            "_model_module": "@jupyter-widgets/controls",
            "_model_module_version": "1.5.0",
            "_model_name": "DescriptionStyleModel",
            "_view_count": null,
            "_view_module": "@jupyter-widgets/base",
            "_view_module_version": "1.2.0",
            "_view_name": "StyleView",
            "description_width": ""
          }
        },
        "72b98d98326a40b38de718b64e0bda52": {
          "model_module": "@jupyter-widgets/controls",
          "model_name": "HBoxModel",
          "model_module_version": "1.5.0",
          "state": {
            "_dom_classes": [],
            "_model_module": "@jupyter-widgets/controls",
            "_model_module_version": "1.5.0",
            "_model_name": "HBoxModel",
            "_view_count": null,
            "_view_module": "@jupyter-widgets/controls",
            "_view_module_version": "1.5.0",
            "_view_name": "HBoxView",
            "box_style": "",
            "children": [
              "IPY_MODEL_db54bc8cf06e4bdb95085e20cb3be356",
              "IPY_MODEL_569523e34f71475798a729b4fa68c7aa",
              "IPY_MODEL_ab77dd31379d44a684311c5b8735f1dc"
            ],
            "layout": "IPY_MODEL_a9443e84f62a45ec91ebc1ff1e00f9f6"
          }
        },
        "db54bc8cf06e4bdb95085e20cb3be356": {
          "model_module": "@jupyter-widgets/controls",
          "model_name": "HTMLModel",
          "model_module_version": "1.5.0",
          "state": {
            "_dom_classes": [],
            "_model_module": "@jupyter-widgets/controls",
            "_model_module_version": "1.5.0",
            "_model_name": "HTMLModel",
            "_view_count": null,
            "_view_module": "@jupyter-widgets/controls",
            "_view_module_version": "1.5.0",
            "_view_name": "HTMLView",
            "description": "",
            "description_tooltip": null,
            "layout": "IPY_MODEL_472b22b0da584bfb9bc3a04e7fc50af3",
            "placeholder": "​",
            "style": "IPY_MODEL_bb7b9b3f34b74ef99c8124b76e3a8fa6",
            "value": "merges.txt: 100%"
          }
        },
        "569523e34f71475798a729b4fa68c7aa": {
          "model_module": "@jupyter-widgets/controls",
          "model_name": "FloatProgressModel",
          "model_module_version": "1.5.0",
          "state": {
            "_dom_classes": [],
            "_model_module": "@jupyter-widgets/controls",
            "_model_module_version": "1.5.0",
            "_model_name": "FloatProgressModel",
            "_view_count": null,
            "_view_module": "@jupyter-widgets/controls",
            "_view_module_version": "1.5.0",
            "_view_name": "ProgressView",
            "bar_style": "success",
            "description": "",
            "description_tooltip": null,
            "layout": "IPY_MODEL_04e0b809bc52436f867be210aa9c9b38",
            "max": 456318,
            "min": 0,
            "orientation": "horizontal",
            "style": "IPY_MODEL_8ffb94911e234b46934da15be3f4b7d9",
            "value": 456318
          }
        },
        "ab77dd31379d44a684311c5b8735f1dc": {
          "model_module": "@jupyter-widgets/controls",
          "model_name": "HTMLModel",
          "model_module_version": "1.5.0",
          "state": {
            "_dom_classes": [],
            "_model_module": "@jupyter-widgets/controls",
            "_model_module_version": "1.5.0",
            "_model_name": "HTMLModel",
            "_view_count": null,
            "_view_module": "@jupyter-widgets/controls",
            "_view_module_version": "1.5.0",
            "_view_name": "HTMLView",
            "description": "",
            "description_tooltip": null,
            "layout": "IPY_MODEL_983c71e5ee574b1f887c17fdd8c12ec3",
            "placeholder": "​",
            "style": "IPY_MODEL_561320d83bef437da131b713d8f9849a",
            "value": " 456k/456k [00:00&lt;00:00, 6.21MB/s]"
          }
        },
        "a9443e84f62a45ec91ebc1ff1e00f9f6": {
          "model_module": "@jupyter-widgets/base",
          "model_name": "LayoutModel",
          "model_module_version": "1.2.0",
          "state": {
            "_model_module": "@jupyter-widgets/base",
            "_model_module_version": "1.2.0",
            "_model_name": "LayoutModel",
            "_view_count": null,
            "_view_module": "@jupyter-widgets/base",
            "_view_module_version": "1.2.0",
            "_view_name": "LayoutView",
            "align_content": null,
            "align_items": null,
            "align_self": null,
            "border": null,
            "bottom": null,
            "display": null,
            "flex": null,
            "flex_flow": null,
            "grid_area": null,
            "grid_auto_columns": null,
            "grid_auto_flow": null,
            "grid_auto_rows": null,
            "grid_column": null,
            "grid_gap": null,
            "grid_row": null,
            "grid_template_areas": null,
            "grid_template_columns": null,
            "grid_template_rows": null,
            "height": null,
            "justify_content": null,
            "justify_items": null,
            "left": null,
            "margin": null,
            "max_height": null,
            "max_width": null,
            "min_height": null,
            "min_width": null,
            "object_fit": null,
            "object_position": null,
            "order": null,
            "overflow": null,
            "overflow_x": null,
            "overflow_y": null,
            "padding": null,
            "right": null,
            "top": null,
            "visibility": null,
            "width": null
          }
        },
        "472b22b0da584bfb9bc3a04e7fc50af3": {
          "model_module": "@jupyter-widgets/base",
          "model_name": "LayoutModel",
          "model_module_version": "1.2.0",
          "state": {
            "_model_module": "@jupyter-widgets/base",
            "_model_module_version": "1.2.0",
            "_model_name": "LayoutModel",
            "_view_count": null,
            "_view_module": "@jupyter-widgets/base",
            "_view_module_version": "1.2.0",
            "_view_name": "LayoutView",
            "align_content": null,
            "align_items": null,
            "align_self": null,
            "border": null,
            "bottom": null,
            "display": null,
            "flex": null,
            "flex_flow": null,
            "grid_area": null,
            "grid_auto_columns": null,
            "grid_auto_flow": null,
            "grid_auto_rows": null,
            "grid_column": null,
            "grid_gap": null,
            "grid_row": null,
            "grid_template_areas": null,
            "grid_template_columns": null,
            "grid_template_rows": null,
            "height": null,
            "justify_content": null,
            "justify_items": null,
            "left": null,
            "margin": null,
            "max_height": null,
            "max_width": null,
            "min_height": null,
            "min_width": null,
            "object_fit": null,
            "object_position": null,
            "order": null,
            "overflow": null,
            "overflow_x": null,
            "overflow_y": null,
            "padding": null,
            "right": null,
            "top": null,
            "visibility": null,
            "width": null
          }
        },
        "bb7b9b3f34b74ef99c8124b76e3a8fa6": {
          "model_module": "@jupyter-widgets/controls",
          "model_name": "DescriptionStyleModel",
          "model_module_version": "1.5.0",
          "state": {
            "_model_module": "@jupyter-widgets/controls",
            "_model_module_version": "1.5.0",
            "_model_name": "DescriptionStyleModel",
            "_view_count": null,
            "_view_module": "@jupyter-widgets/base",
            "_view_module_version": "1.2.0",
            "_view_name": "StyleView",
            "description_width": ""
          }
        },
        "04e0b809bc52436f867be210aa9c9b38": {
          "model_module": "@jupyter-widgets/base",
          "model_name": "LayoutModel",
          "model_module_version": "1.2.0",
          "state": {
            "_model_module": "@jupyter-widgets/base",
            "_model_module_version": "1.2.0",
            "_model_name": "LayoutModel",
            "_view_count": null,
            "_view_module": "@jupyter-widgets/base",
            "_view_module_version": "1.2.0",
            "_view_name": "LayoutView",
            "align_content": null,
            "align_items": null,
            "align_self": null,
            "border": null,
            "bottom": null,
            "display": null,
            "flex": null,
            "flex_flow": null,
            "grid_area": null,
            "grid_auto_columns": null,
            "grid_auto_flow": null,
            "grid_auto_rows": null,
            "grid_column": null,
            "grid_gap": null,
            "grid_row": null,
            "grid_template_areas": null,
            "grid_template_columns": null,
            "grid_template_rows": null,
            "height": null,
            "justify_content": null,
            "justify_items": null,
            "left": null,
            "margin": null,
            "max_height": null,
            "max_width": null,
            "min_height": null,
            "min_width": null,
            "object_fit": null,
            "object_position": null,
            "order": null,
            "overflow": null,
            "overflow_x": null,
            "overflow_y": null,
            "padding": null,
            "right": null,
            "top": null,
            "visibility": null,
            "width": null
          }
        },
        "8ffb94911e234b46934da15be3f4b7d9": {
          "model_module": "@jupyter-widgets/controls",
          "model_name": "ProgressStyleModel",
          "model_module_version": "1.5.0",
          "state": {
            "_model_module": "@jupyter-widgets/controls",
            "_model_module_version": "1.5.0",
            "_model_name": "ProgressStyleModel",
            "_view_count": null,
            "_view_module": "@jupyter-widgets/base",
            "_view_module_version": "1.2.0",
            "_view_name": "StyleView",
            "bar_color": null,
            "description_width": ""
          }
        },
        "983c71e5ee574b1f887c17fdd8c12ec3": {
          "model_module": "@jupyter-widgets/base",
          "model_name": "LayoutModel",
          "model_module_version": "1.2.0",
          "state": {
            "_model_module": "@jupyter-widgets/base",
            "_model_module_version": "1.2.0",
            "_model_name": "LayoutModel",
            "_view_count": null,
            "_view_module": "@jupyter-widgets/base",
            "_view_module_version": "1.2.0",
            "_view_name": "LayoutView",
            "align_content": null,
            "align_items": null,
            "align_self": null,
            "border": null,
            "bottom": null,
            "display": null,
            "flex": null,
            "flex_flow": null,
            "grid_area": null,
            "grid_auto_columns": null,
            "grid_auto_flow": null,
            "grid_auto_rows": null,
            "grid_column": null,
            "grid_gap": null,
            "grid_row": null,
            "grid_template_areas": null,
            "grid_template_columns": null,
            "grid_template_rows": null,
            "height": null,
            "justify_content": null,
            "justify_items": null,
            "left": null,
            "margin": null,
            "max_height": null,
            "max_width": null,
            "min_height": null,
            "min_width": null,
            "object_fit": null,
            "object_position": null,
            "order": null,
            "overflow": null,
            "overflow_x": null,
            "overflow_y": null,
            "padding": null,
            "right": null,
            "top": null,
            "visibility": null,
            "width": null
          }
        },
        "561320d83bef437da131b713d8f9849a": {
          "model_module": "@jupyter-widgets/controls",
          "model_name": "DescriptionStyleModel",
          "model_module_version": "1.5.0",
          "state": {
            "_model_module": "@jupyter-widgets/controls",
            "_model_module_version": "1.5.0",
            "_model_name": "DescriptionStyleModel",
            "_view_count": null,
            "_view_module": "@jupyter-widgets/base",
            "_view_module_version": "1.2.0",
            "_view_name": "StyleView",
            "description_width": ""
          }
        },
        "56aaba757a8a45e294c0ae6f85633968": {
          "model_module": "@jupyter-widgets/controls",
          "model_name": "HBoxModel",
          "model_module_version": "1.5.0",
          "state": {
            "_dom_classes": [],
            "_model_module": "@jupyter-widgets/controls",
            "_model_module_version": "1.5.0",
            "_model_name": "HBoxModel",
            "_view_count": null,
            "_view_module": "@jupyter-widgets/controls",
            "_view_module_version": "1.5.0",
            "_view_name": "HBoxView",
            "box_style": "",
            "children": [
              "IPY_MODEL_ceee8bcc6c6b4e74b39452b136beb761",
              "IPY_MODEL_759f0022a0fc4e969265ce8d25054e03",
              "IPY_MODEL_9b5d3a322a84467cb0fcbc4e980b7d81"
            ],
            "layout": "IPY_MODEL_4a1c046e5f0f48c590fe1be3c221fe0d"
          }
        },
        "ceee8bcc6c6b4e74b39452b136beb761": {
          "model_module": "@jupyter-widgets/controls",
          "model_name": "HTMLModel",
          "model_module_version": "1.5.0",
          "state": {
            "_dom_classes": [],
            "_model_module": "@jupyter-widgets/controls",
            "_model_module_version": "1.5.0",
            "_model_name": "HTMLModel",
            "_view_count": null,
            "_view_module": "@jupyter-widgets/controls",
            "_view_module_version": "1.5.0",
            "_view_name": "HTMLView",
            "description": "",
            "description_tooltip": null,
            "layout": "IPY_MODEL_cc4bac9e677e4419b9587db060c35547",
            "placeholder": "​",
            "style": "IPY_MODEL_3f0f711e9f8d44a0b33c3bf14eee31d0",
            "value": "tokenizer.json: 100%"
          }
        },
        "759f0022a0fc4e969265ce8d25054e03": {
          "model_module": "@jupyter-widgets/controls",
          "model_name": "FloatProgressModel",
          "model_module_version": "1.5.0",
          "state": {
            "_dom_classes": [],
            "_model_module": "@jupyter-widgets/controls",
            "_model_module_version": "1.5.0",
            "_model_name": "FloatProgressModel",
            "_view_count": null,
            "_view_module": "@jupyter-widgets/controls",
            "_view_module_version": "1.5.0",
            "_view_name": "ProgressView",
            "bar_style": "success",
            "description": "",
            "description_tooltip": null,
            "layout": "IPY_MODEL_a290dc57c7b74d6b972bb271b4c38c4e",
            "max": 1355863,
            "min": 0,
            "orientation": "horizontal",
            "style": "IPY_MODEL_e1d5daa0f34a448a99439317d18e62cf",
            "value": 1355863
          }
        },
        "9b5d3a322a84467cb0fcbc4e980b7d81": {
          "model_module": "@jupyter-widgets/controls",
          "model_name": "HTMLModel",
          "model_module_version": "1.5.0",
          "state": {
            "_dom_classes": [],
            "_model_module": "@jupyter-widgets/controls",
            "_model_module_version": "1.5.0",
            "_model_name": "HTMLModel",
            "_view_count": null,
            "_view_module": "@jupyter-widgets/controls",
            "_view_module_version": "1.5.0",
            "_view_name": "HTMLView",
            "description": "",
            "description_tooltip": null,
            "layout": "IPY_MODEL_bbed71ae9f964a71b8c1acdc2789150d",
            "placeholder": "​",
            "style": "IPY_MODEL_5e68809ab12245cc9b39171639fe41a1",
            "value": " 1.36M/1.36M [00:00&lt;00:00, 9.20MB/s]"
          }
        },
        "4a1c046e5f0f48c590fe1be3c221fe0d": {
          "model_module": "@jupyter-widgets/base",
          "model_name": "LayoutModel",
          "model_module_version": "1.2.0",
          "state": {
            "_model_module": "@jupyter-widgets/base",
            "_model_module_version": "1.2.0",
            "_model_name": "LayoutModel",
            "_view_count": null,
            "_view_module": "@jupyter-widgets/base",
            "_view_module_version": "1.2.0",
            "_view_name": "LayoutView",
            "align_content": null,
            "align_items": null,
            "align_self": null,
            "border": null,
            "bottom": null,
            "display": null,
            "flex": null,
            "flex_flow": null,
            "grid_area": null,
            "grid_auto_columns": null,
            "grid_auto_flow": null,
            "grid_auto_rows": null,
            "grid_column": null,
            "grid_gap": null,
            "grid_row": null,
            "grid_template_areas": null,
            "grid_template_columns": null,
            "grid_template_rows": null,
            "height": null,
            "justify_content": null,
            "justify_items": null,
            "left": null,
            "margin": null,
            "max_height": null,
            "max_width": null,
            "min_height": null,
            "min_width": null,
            "object_fit": null,
            "object_position": null,
            "order": null,
            "overflow": null,
            "overflow_x": null,
            "overflow_y": null,
            "padding": null,
            "right": null,
            "top": null,
            "visibility": null,
            "width": null
          }
        },
        "cc4bac9e677e4419b9587db060c35547": {
          "model_module": "@jupyter-widgets/base",
          "model_name": "LayoutModel",
          "model_module_version": "1.2.0",
          "state": {
            "_model_module": "@jupyter-widgets/base",
            "_model_module_version": "1.2.0",
            "_model_name": "LayoutModel",
            "_view_count": null,
            "_view_module": "@jupyter-widgets/base",
            "_view_module_version": "1.2.0",
            "_view_name": "LayoutView",
            "align_content": null,
            "align_items": null,
            "align_self": null,
            "border": null,
            "bottom": null,
            "display": null,
            "flex": null,
            "flex_flow": null,
            "grid_area": null,
            "grid_auto_columns": null,
            "grid_auto_flow": null,
            "grid_auto_rows": null,
            "grid_column": null,
            "grid_gap": null,
            "grid_row": null,
            "grid_template_areas": null,
            "grid_template_columns": null,
            "grid_template_rows": null,
            "height": null,
            "justify_content": null,
            "justify_items": null,
            "left": null,
            "margin": null,
            "max_height": null,
            "max_width": null,
            "min_height": null,
            "min_width": null,
            "object_fit": null,
            "object_position": null,
            "order": null,
            "overflow": null,
            "overflow_x": null,
            "overflow_y": null,
            "padding": null,
            "right": null,
            "top": null,
            "visibility": null,
            "width": null
          }
        },
        "3f0f711e9f8d44a0b33c3bf14eee31d0": {
          "model_module": "@jupyter-widgets/controls",
          "model_name": "DescriptionStyleModel",
          "model_module_version": "1.5.0",
          "state": {
            "_model_module": "@jupyter-widgets/controls",
            "_model_module_version": "1.5.0",
            "_model_name": "DescriptionStyleModel",
            "_view_count": null,
            "_view_module": "@jupyter-widgets/base",
            "_view_module_version": "1.2.0",
            "_view_name": "StyleView",
            "description_width": ""
          }
        },
        "a290dc57c7b74d6b972bb271b4c38c4e": {
          "model_module": "@jupyter-widgets/base",
          "model_name": "LayoutModel",
          "model_module_version": "1.2.0",
          "state": {
            "_model_module": "@jupyter-widgets/base",
            "_model_module_version": "1.2.0",
            "_model_name": "LayoutModel",
            "_view_count": null,
            "_view_module": "@jupyter-widgets/base",
            "_view_module_version": "1.2.0",
            "_view_name": "LayoutView",
            "align_content": null,
            "align_items": null,
            "align_self": null,
            "border": null,
            "bottom": null,
            "display": null,
            "flex": null,
            "flex_flow": null,
            "grid_area": null,
            "grid_auto_columns": null,
            "grid_auto_flow": null,
            "grid_auto_rows": null,
            "grid_column": null,
            "grid_gap": null,
            "grid_row": null,
            "grid_template_areas": null,
            "grid_template_columns": null,
            "grid_template_rows": null,
            "height": null,
            "justify_content": null,
            "justify_items": null,
            "left": null,
            "margin": null,
            "max_height": null,
            "max_width": null,
            "min_height": null,
            "min_width": null,
            "object_fit": null,
            "object_position": null,
            "order": null,
            "overflow": null,
            "overflow_x": null,
            "overflow_y": null,
            "padding": null,
            "right": null,
            "top": null,
            "visibility": null,
            "width": null
          }
        },
        "e1d5daa0f34a448a99439317d18e62cf": {
          "model_module": "@jupyter-widgets/controls",
          "model_name": "ProgressStyleModel",
          "model_module_version": "1.5.0",
          "state": {
            "_model_module": "@jupyter-widgets/controls",
            "_model_module_version": "1.5.0",
            "_model_name": "ProgressStyleModel",
            "_view_count": null,
            "_view_module": "@jupyter-widgets/base",
            "_view_module_version": "1.2.0",
            "_view_name": "StyleView",
            "bar_color": null,
            "description_width": ""
          }
        },
        "bbed71ae9f964a71b8c1acdc2789150d": {
          "model_module": "@jupyter-widgets/base",
          "model_name": "LayoutModel",
          "model_module_version": "1.2.0",
          "state": {
            "_model_module": "@jupyter-widgets/base",
            "_model_module_version": "1.2.0",
            "_model_name": "LayoutModel",
            "_view_count": null,
            "_view_module": "@jupyter-widgets/base",
            "_view_module_version": "1.2.0",
            "_view_name": "LayoutView",
            "align_content": null,
            "align_items": null,
            "align_self": null,
            "border": null,
            "bottom": null,
            "display": null,
            "flex": null,
            "flex_flow": null,
            "grid_area": null,
            "grid_auto_columns": null,
            "grid_auto_flow": null,
            "grid_auto_rows": null,
            "grid_column": null,
            "grid_gap": null,
            "grid_row": null,
            "grid_template_areas": null,
            "grid_template_columns": null,
            "grid_template_rows": null,
            "height": null,
            "justify_content": null,
            "justify_items": null,
            "left": null,
            "margin": null,
            "max_height": null,
            "max_width": null,
            "min_height": null,
            "min_width": null,
            "object_fit": null,
            "object_position": null,
            "order": null,
            "overflow": null,
            "overflow_x": null,
            "overflow_y": null,
            "padding": null,
            "right": null,
            "top": null,
            "visibility": null,
            "width": null
          }
        },
        "5e68809ab12245cc9b39171639fe41a1": {
          "model_module": "@jupyter-widgets/controls",
          "model_name": "DescriptionStyleModel",
          "model_module_version": "1.5.0",
          "state": {
            "_model_module": "@jupyter-widgets/controls",
            "_model_module_version": "1.5.0",
            "_model_name": "DescriptionStyleModel",
            "_view_count": null,
            "_view_module": "@jupyter-widgets/base",
            "_view_module_version": "1.2.0",
            "_view_name": "StyleView",
            "description_width": ""
          }
        },
        "f76d06ab909e47b298d649925f496822": {
          "model_module": "@jupyter-widgets/controls",
          "model_name": "HBoxModel",
          "model_module_version": "1.5.0",
          "state": {
            "_dom_classes": [],
            "_model_module": "@jupyter-widgets/controls",
            "_model_module_version": "1.5.0",
            "_model_name": "HBoxModel",
            "_view_count": null,
            "_view_module": "@jupyter-widgets/controls",
            "_view_module_version": "1.5.0",
            "_view_name": "HBoxView",
            "box_style": "",
            "children": [
              "IPY_MODEL_ef8cbd1035854dd987480f36862bfae7",
              "IPY_MODEL_75a7a8b9077d42c481169a62fe0755f8",
              "IPY_MODEL_f0e2ff0e548a48d89de0c4d1d755a5c5"
            ],
            "layout": "IPY_MODEL_5eaa59a12ee149d6883b396a35931c9a"
          }
        },
        "ef8cbd1035854dd987480f36862bfae7": {
          "model_module": "@jupyter-widgets/controls",
          "model_name": "HTMLModel",
          "model_module_version": "1.5.0",
          "state": {
            "_dom_classes": [],
            "_model_module": "@jupyter-widgets/controls",
            "_model_module_version": "1.5.0",
            "_model_name": "HTMLModel",
            "_view_count": null,
            "_view_module": "@jupyter-widgets/controls",
            "_view_module_version": "1.5.0",
            "_view_name": "HTMLView",
            "description": "",
            "description_tooltip": null,
            "layout": "IPY_MODEL_7da34936846b4e258073944c11ece69f",
            "placeholder": "​",
            "style": "IPY_MODEL_9706eea817204083b18b4937c2b3e24f",
            "value": "config.json: 100%"
          }
        },
        "75a7a8b9077d42c481169a62fe0755f8": {
          "model_module": "@jupyter-widgets/controls",
          "model_name": "FloatProgressModel",
          "model_module_version": "1.5.0",
          "state": {
            "_dom_classes": [],
            "_model_module": "@jupyter-widgets/controls",
            "_model_module_version": "1.5.0",
            "_model_name": "FloatProgressModel",
            "_view_count": null,
            "_view_module": "@jupyter-widgets/controls",
            "_view_module_version": "1.5.0",
            "_view_name": "ProgressView",
            "bar_style": "success",
            "description": "",
            "description_tooltip": null,
            "layout": "IPY_MODEL_60e3e95caf99400cba793ffe702d374f",
            "max": 533,
            "min": 0,
            "orientation": "horizontal",
            "style": "IPY_MODEL_3aaaae2458e14e239b5d02f37d603ccc",
            "value": 533
          }
        },
        "f0e2ff0e548a48d89de0c4d1d755a5c5": {
          "model_module": "@jupyter-widgets/controls",
          "model_name": "HTMLModel",
          "model_module_version": "1.5.0",
          "state": {
            "_dom_classes": [],
            "_model_module": "@jupyter-widgets/controls",
            "_model_module_version": "1.5.0",
            "_model_name": "HTMLModel",
            "_view_count": null,
            "_view_module": "@jupyter-widgets/controls",
            "_view_module_version": "1.5.0",
            "_view_name": "HTMLView",
            "description": "",
            "description_tooltip": null,
            "layout": "IPY_MODEL_b741a20d1ba34bbfab60edbef3cc1189",
            "placeholder": "​",
            "style": "IPY_MODEL_80cfce6928b84312ad690cd9b8cfa85f",
            "value": " 533/533 [00:00&lt;00:00, 6.59kB/s]"
          }
        },
        "5eaa59a12ee149d6883b396a35931c9a": {
          "model_module": "@jupyter-widgets/base",
          "model_name": "LayoutModel",
          "model_module_version": "1.2.0",
          "state": {
            "_model_module": "@jupyter-widgets/base",
            "_model_module_version": "1.2.0",
            "_model_name": "LayoutModel",
            "_view_count": null,
            "_view_module": "@jupyter-widgets/base",
            "_view_module_version": "1.2.0",
            "_view_name": "LayoutView",
            "align_content": null,
            "align_items": null,
            "align_self": null,
            "border": null,
            "bottom": null,
            "display": null,
            "flex": null,
            "flex_flow": null,
            "grid_area": null,
            "grid_auto_columns": null,
            "grid_auto_flow": null,
            "grid_auto_rows": null,
            "grid_column": null,
            "grid_gap": null,
            "grid_row": null,
            "grid_template_areas": null,
            "grid_template_columns": null,
            "grid_template_rows": null,
            "height": null,
            "justify_content": null,
            "justify_items": null,
            "left": null,
            "margin": null,
            "max_height": null,
            "max_width": null,
            "min_height": null,
            "min_width": null,
            "object_fit": null,
            "object_position": null,
            "order": null,
            "overflow": null,
            "overflow_x": null,
            "overflow_y": null,
            "padding": null,
            "right": null,
            "top": null,
            "visibility": null,
            "width": null
          }
        },
        "7da34936846b4e258073944c11ece69f": {
          "model_module": "@jupyter-widgets/base",
          "model_name": "LayoutModel",
          "model_module_version": "1.2.0",
          "state": {
            "_model_module": "@jupyter-widgets/base",
            "_model_module_version": "1.2.0",
            "_model_name": "LayoutModel",
            "_view_count": null,
            "_view_module": "@jupyter-widgets/base",
            "_view_module_version": "1.2.0",
            "_view_name": "LayoutView",
            "align_content": null,
            "align_items": null,
            "align_self": null,
            "border": null,
            "bottom": null,
            "display": null,
            "flex": null,
            "flex_flow": null,
            "grid_area": null,
            "grid_auto_columns": null,
            "grid_auto_flow": null,
            "grid_auto_rows": null,
            "grid_column": null,
            "grid_gap": null,
            "grid_row": null,
            "grid_template_areas": null,
            "grid_template_columns": null,
            "grid_template_rows": null,
            "height": null,
            "justify_content": null,
            "justify_items": null,
            "left": null,
            "margin": null,
            "max_height": null,
            "max_width": null,
            "min_height": null,
            "min_width": null,
            "object_fit": null,
            "object_position": null,
            "order": null,
            "overflow": null,
            "overflow_x": null,
            "overflow_y": null,
            "padding": null,
            "right": null,
            "top": null,
            "visibility": null,
            "width": null
          }
        },
        "9706eea817204083b18b4937c2b3e24f": {
          "model_module": "@jupyter-widgets/controls",
          "model_name": "DescriptionStyleModel",
          "model_module_version": "1.5.0",
          "state": {
            "_model_module": "@jupyter-widgets/controls",
            "_model_module_version": "1.5.0",
            "_model_name": "DescriptionStyleModel",
            "_view_count": null,
            "_view_module": "@jupyter-widgets/base",
            "_view_module_version": "1.2.0",
            "_view_name": "StyleView",
            "description_width": ""
          }
        },
        "60e3e95caf99400cba793ffe702d374f": {
          "model_module": "@jupyter-widgets/base",
          "model_name": "LayoutModel",
          "model_module_version": "1.2.0",
          "state": {
            "_model_module": "@jupyter-widgets/base",
            "_model_module_version": "1.2.0",
            "_model_name": "LayoutModel",
            "_view_count": null,
            "_view_module": "@jupyter-widgets/base",
            "_view_module_version": "1.2.0",
            "_view_name": "LayoutView",
            "align_content": null,
            "align_items": null,
            "align_self": null,
            "border": null,
            "bottom": null,
            "display": null,
            "flex": null,
            "flex_flow": null,
            "grid_area": null,
            "grid_auto_columns": null,
            "grid_auto_flow": null,
            "grid_auto_rows": null,
            "grid_column": null,
            "grid_gap": null,
            "grid_row": null,
            "grid_template_areas": null,
            "grid_template_columns": null,
            "grid_template_rows": null,
            "height": null,
            "justify_content": null,
            "justify_items": null,
            "left": null,
            "margin": null,
            "max_height": null,
            "max_width": null,
            "min_height": null,
            "min_width": null,
            "object_fit": null,
            "object_position": null,
            "order": null,
            "overflow": null,
            "overflow_x": null,
            "overflow_y": null,
            "padding": null,
            "right": null,
            "top": null,
            "visibility": null,
            "width": null
          }
        },
        "3aaaae2458e14e239b5d02f37d603ccc": {
          "model_module": "@jupyter-widgets/controls",
          "model_name": "ProgressStyleModel",
          "model_module_version": "1.5.0",
          "state": {
            "_model_module": "@jupyter-widgets/controls",
            "_model_module_version": "1.5.0",
            "_model_name": "ProgressStyleModel",
            "_view_count": null,
            "_view_module": "@jupyter-widgets/base",
            "_view_module_version": "1.2.0",
            "_view_name": "StyleView",
            "bar_color": null,
            "description_width": ""
          }
        },
        "b741a20d1ba34bbfab60edbef3cc1189": {
          "model_module": "@jupyter-widgets/base",
          "model_name": "LayoutModel",
          "model_module_version": "1.2.0",
          "state": {
            "_model_module": "@jupyter-widgets/base",
            "_model_module_version": "1.2.0",
            "_model_name": "LayoutModel",
            "_view_count": null,
            "_view_module": "@jupyter-widgets/base",
            "_view_module_version": "1.2.0",
            "_view_name": "LayoutView",
            "align_content": null,
            "align_items": null,
            "align_self": null,
            "border": null,
            "bottom": null,
            "display": null,
            "flex": null,
            "flex_flow": null,
            "grid_area": null,
            "grid_auto_columns": null,
            "grid_auto_flow": null,
            "grid_auto_rows": null,
            "grid_column": null,
            "grid_gap": null,
            "grid_row": null,
            "grid_template_areas": null,
            "grid_template_columns": null,
            "grid_template_rows": null,
            "height": null,
            "justify_content": null,
            "justify_items": null,
            "left": null,
            "margin": null,
            "max_height": null,
            "max_width": null,
            "min_height": null,
            "min_width": null,
            "object_fit": null,
            "object_position": null,
            "order": null,
            "overflow": null,
            "overflow_x": null,
            "overflow_y": null,
            "padding": null,
            "right": null,
            "top": null,
            "visibility": null,
            "width": null
          }
        },
        "80cfce6928b84312ad690cd9b8cfa85f": {
          "model_module": "@jupyter-widgets/controls",
          "model_name": "DescriptionStyleModel",
          "model_module_version": "1.5.0",
          "state": {
            "_model_module": "@jupyter-widgets/controls",
            "_model_module_version": "1.5.0",
            "_model_name": "DescriptionStyleModel",
            "_view_count": null,
            "_view_module": "@jupyter-widgets/base",
            "_view_module_version": "1.2.0",
            "_view_name": "StyleView",
            "description_width": ""
          }
        },
        "2902153d05154b6ab7818ad9b89af866": {
          "model_module": "@jupyter-widgets/controls",
          "model_name": "HBoxModel",
          "model_module_version": "1.5.0",
          "state": {
            "_dom_classes": [],
            "_model_module": "@jupyter-widgets/controls",
            "_model_module_version": "1.5.0",
            "_model_name": "HBoxModel",
            "_view_count": null,
            "_view_module": "@jupyter-widgets/controls",
            "_view_module_version": "1.5.0",
            "_view_name": "HBoxView",
            "box_style": "",
            "children": [
              "IPY_MODEL_463dd9cb47c74099b22b2b35b188c60f",
              "IPY_MODEL_15c0755357d84506b1fd7ae7857136b3",
              "IPY_MODEL_d4f6ee83511c41ccbc4171b8ad46fa56"
            ],
            "layout": "IPY_MODEL_fdea72e408ab442ca6a2b1da30b27314"
          }
        },
        "463dd9cb47c74099b22b2b35b188c60f": {
          "model_module": "@jupyter-widgets/controls",
          "model_name": "HTMLModel",
          "model_module_version": "1.5.0",
          "state": {
            "_dom_classes": [],
            "_model_module": "@jupyter-widgets/controls",
            "_model_module_version": "1.5.0",
            "_model_name": "HTMLModel",
            "_view_count": null,
            "_view_module": "@jupyter-widgets/controls",
            "_view_module_version": "1.5.0",
            "_view_name": "HTMLView",
            "description": "",
            "description_tooltip": null,
            "layout": "IPY_MODEL_0ab6525454be448fbe432ee76e8b06c3",
            "placeholder": "​",
            "style": "IPY_MODEL_39f7c5b5f95d40d588404df9d19f6522",
            "value": "pytorch_model.bin: 100%"
          }
        },
        "15c0755357d84506b1fd7ae7857136b3": {
          "model_module": "@jupyter-widgets/controls",
          "model_name": "FloatProgressModel",
          "model_module_version": "1.5.0",
          "state": {
            "_dom_classes": [],
            "_model_module": "@jupyter-widgets/controls",
            "_model_module_version": "1.5.0",
            "_model_name": "FloatProgressModel",
            "_view_count": null,
            "_view_module": "@jupyter-widgets/controls",
            "_view_module_version": "1.5.0",
            "_view_name": "ProgressView",
            "bar_style": "success",
            "description": "",
            "description_tooltip": null,
            "layout": "IPY_MODEL_6bc8ee7f94dc417b8540adaaa463c03a",
            "max": 439101405,
            "min": 0,
            "orientation": "horizontal",
            "style": "IPY_MODEL_bf63b56f654243d180cac53912a8b255",
            "value": 439101405
          }
        },
        "d4f6ee83511c41ccbc4171b8ad46fa56": {
          "model_module": "@jupyter-widgets/controls",
          "model_name": "HTMLModel",
          "model_module_version": "1.5.0",
          "state": {
            "_dom_classes": [],
            "_model_module": "@jupyter-widgets/controls",
            "_model_module_version": "1.5.0",
            "_model_name": "HTMLModel",
            "_view_count": null,
            "_view_module": "@jupyter-widgets/controls",
            "_view_module_version": "1.5.0",
            "_view_name": "HTMLView",
            "description": "",
            "description_tooltip": null,
            "layout": "IPY_MODEL_80302c272d544565a5e0bc0b02228269",
            "placeholder": "​",
            "style": "IPY_MODEL_dd772bc002b140fb80ebd7f252000dcc",
            "value": " 439M/439M [00:03&lt;00:00, 67.0MB/s]"
          }
        },
        "fdea72e408ab442ca6a2b1da30b27314": {
          "model_module": "@jupyter-widgets/base",
          "model_name": "LayoutModel",
          "model_module_version": "1.2.0",
          "state": {
            "_model_module": "@jupyter-widgets/base",
            "_model_module_version": "1.2.0",
            "_model_name": "LayoutModel",
            "_view_count": null,
            "_view_module": "@jupyter-widgets/base",
            "_view_module_version": "1.2.0",
            "_view_name": "LayoutView",
            "align_content": null,
            "align_items": null,
            "align_self": null,
            "border": null,
            "bottom": null,
            "display": null,
            "flex": null,
            "flex_flow": null,
            "grid_area": null,
            "grid_auto_columns": null,
            "grid_auto_flow": null,
            "grid_auto_rows": null,
            "grid_column": null,
            "grid_gap": null,
            "grid_row": null,
            "grid_template_areas": null,
            "grid_template_columns": null,
            "grid_template_rows": null,
            "height": null,
            "justify_content": null,
            "justify_items": null,
            "left": null,
            "margin": null,
            "max_height": null,
            "max_width": null,
            "min_height": null,
            "min_width": null,
            "object_fit": null,
            "object_position": null,
            "order": null,
            "overflow": null,
            "overflow_x": null,
            "overflow_y": null,
            "padding": null,
            "right": null,
            "top": null,
            "visibility": null,
            "width": null
          }
        },
        "0ab6525454be448fbe432ee76e8b06c3": {
          "model_module": "@jupyter-widgets/base",
          "model_name": "LayoutModel",
          "model_module_version": "1.2.0",
          "state": {
            "_model_module": "@jupyter-widgets/base",
            "_model_module_version": "1.2.0",
            "_model_name": "LayoutModel",
            "_view_count": null,
            "_view_module": "@jupyter-widgets/base",
            "_view_module_version": "1.2.0",
            "_view_name": "LayoutView",
            "align_content": null,
            "align_items": null,
            "align_self": null,
            "border": null,
            "bottom": null,
            "display": null,
            "flex": null,
            "flex_flow": null,
            "grid_area": null,
            "grid_auto_columns": null,
            "grid_auto_flow": null,
            "grid_auto_rows": null,
            "grid_column": null,
            "grid_gap": null,
            "grid_row": null,
            "grid_template_areas": null,
            "grid_template_columns": null,
            "grid_template_rows": null,
            "height": null,
            "justify_content": null,
            "justify_items": null,
            "left": null,
            "margin": null,
            "max_height": null,
            "max_width": null,
            "min_height": null,
            "min_width": null,
            "object_fit": null,
            "object_position": null,
            "order": null,
            "overflow": null,
            "overflow_x": null,
            "overflow_y": null,
            "padding": null,
            "right": null,
            "top": null,
            "visibility": null,
            "width": null
          }
        },
        "39f7c5b5f95d40d588404df9d19f6522": {
          "model_module": "@jupyter-widgets/controls",
          "model_name": "DescriptionStyleModel",
          "model_module_version": "1.5.0",
          "state": {
            "_model_module": "@jupyter-widgets/controls",
            "_model_module_version": "1.5.0",
            "_model_name": "DescriptionStyleModel",
            "_view_count": null,
            "_view_module": "@jupyter-widgets/base",
            "_view_module_version": "1.2.0",
            "_view_name": "StyleView",
            "description_width": ""
          }
        },
        "6bc8ee7f94dc417b8540adaaa463c03a": {
          "model_module": "@jupyter-widgets/base",
          "model_name": "LayoutModel",
          "model_module_version": "1.2.0",
          "state": {
            "_model_module": "@jupyter-widgets/base",
            "_model_module_version": "1.2.0",
            "_model_name": "LayoutModel",
            "_view_count": null,
            "_view_module": "@jupyter-widgets/base",
            "_view_module_version": "1.2.0",
            "_view_name": "LayoutView",
            "align_content": null,
            "align_items": null,
            "align_self": null,
            "border": null,
            "bottom": null,
            "display": null,
            "flex": null,
            "flex_flow": null,
            "grid_area": null,
            "grid_auto_columns": null,
            "grid_auto_flow": null,
            "grid_auto_rows": null,
            "grid_column": null,
            "grid_gap": null,
            "grid_row": null,
            "grid_template_areas": null,
            "grid_template_columns": null,
            "grid_template_rows": null,
            "height": null,
            "justify_content": null,
            "justify_items": null,
            "left": null,
            "margin": null,
            "max_height": null,
            "max_width": null,
            "min_height": null,
            "min_width": null,
            "object_fit": null,
            "object_position": null,
            "order": null,
            "overflow": null,
            "overflow_x": null,
            "overflow_y": null,
            "padding": null,
            "right": null,
            "top": null,
            "visibility": null,
            "width": null
          }
        },
        "bf63b56f654243d180cac53912a8b255": {
          "model_module": "@jupyter-widgets/controls",
          "model_name": "ProgressStyleModel",
          "model_module_version": "1.5.0",
          "state": {
            "_model_module": "@jupyter-widgets/controls",
            "_model_module_version": "1.5.0",
            "_model_name": "ProgressStyleModel",
            "_view_count": null,
            "_view_module": "@jupyter-widgets/base",
            "_view_module_version": "1.2.0",
            "_view_name": "StyleView",
            "bar_color": null,
            "description_width": ""
          }
        },
        "80302c272d544565a5e0bc0b02228269": {
          "model_module": "@jupyter-widgets/base",
          "model_name": "LayoutModel",
          "model_module_version": "1.2.0",
          "state": {
            "_model_module": "@jupyter-widgets/base",
            "_model_module_version": "1.2.0",
            "_model_name": "LayoutModel",
            "_view_count": null,
            "_view_module": "@jupyter-widgets/base",
            "_view_module_version": "1.2.0",
            "_view_name": "LayoutView",
            "align_content": null,
            "align_items": null,
            "align_self": null,
            "border": null,
            "bottom": null,
            "display": null,
            "flex": null,
            "flex_flow": null,
            "grid_area": null,
            "grid_auto_columns": null,
            "grid_auto_flow": null,
            "grid_auto_rows": null,
            "grid_column": null,
            "grid_gap": null,
            "grid_row": null,
            "grid_template_areas": null,
            "grid_template_columns": null,
            "grid_template_rows": null,
            "height": null,
            "justify_content": null,
            "justify_items": null,
            "left": null,
            "margin": null,
            "max_height": null,
            "max_width": null,
            "min_height": null,
            "min_width": null,
            "object_fit": null,
            "object_position": null,
            "order": null,
            "overflow": null,
            "overflow_x": null,
            "overflow_y": null,
            "padding": null,
            "right": null,
            "top": null,
            "visibility": null,
            "width": null
          }
        },
        "dd772bc002b140fb80ebd7f252000dcc": {
          "model_module": "@jupyter-widgets/controls",
          "model_name": "DescriptionStyleModel",
          "model_module_version": "1.5.0",
          "state": {
            "_model_module": "@jupyter-widgets/controls",
            "_model_module_version": "1.5.0",
            "_model_name": "DescriptionStyleModel",
            "_view_count": null,
            "_view_module": "@jupyter-widgets/base",
            "_view_module_version": "1.2.0",
            "_view_name": "StyleView",
            "description_width": ""
          }
        },
        "f3efe322e4754c0293500871f3711f56": {
          "model_module": "@jupyter-widgets/controls",
          "model_name": "HBoxModel",
          "model_module_version": "1.5.0",
          "state": {
            "_dom_classes": [],
            "_model_module": "@jupyter-widgets/controls",
            "_model_module_version": "1.5.0",
            "_model_name": "HBoxModel",
            "_view_count": null,
            "_view_module": "@jupyter-widgets/controls",
            "_view_module_version": "1.5.0",
            "_view_name": "HBoxView",
            "box_style": "",
            "children": [
              "IPY_MODEL_7cbe29d3e4444a81b63db141732a1fbb",
              "IPY_MODEL_5823149c11424976a27ccca0665a1902",
              "IPY_MODEL_5ef534b81b914402b4371c8deaa6e4bb"
            ],
            "layout": "IPY_MODEL_336c7238dbcc4625a2c08f0b2fa319f7"
          }
        },
        "7cbe29d3e4444a81b63db141732a1fbb": {
          "model_module": "@jupyter-widgets/controls",
          "model_name": "HTMLModel",
          "model_module_version": "1.5.0",
          "state": {
            "_dom_classes": [],
            "_model_module": "@jupyter-widgets/controls",
            "_model_module_version": "1.5.0",
            "_model_name": "HTMLModel",
            "_view_count": null,
            "_view_module": "@jupyter-widgets/controls",
            "_view_module_version": "1.5.0",
            "_view_name": "HTMLView",
            "description": "",
            "description_tooltip": null,
            "layout": "IPY_MODEL_a3a9ba9705db4a32be1d79a6aac0b31c",
            "placeholder": "​",
            "style": "IPY_MODEL_270dcf8b1ef9496d811ac19eb09c7a66",
            "value": "vocab.txt: 100%"
          }
        },
        "5823149c11424976a27ccca0665a1902": {
          "model_module": "@jupyter-widgets/controls",
          "model_name": "FloatProgressModel",
          "model_module_version": "1.5.0",
          "state": {
            "_dom_classes": [],
            "_model_module": "@jupyter-widgets/controls",
            "_model_module_version": "1.5.0",
            "_model_name": "FloatProgressModel",
            "_view_count": null,
            "_view_module": "@jupyter-widgets/controls",
            "_view_module_version": "1.5.0",
            "_view_name": "ProgressView",
            "bar_style": "success",
            "description": "",
            "description_tooltip": null,
            "layout": "IPY_MODEL_b6d93c74d21f46a792d7c922c6ecceda",
            "max": 226122,
            "min": 0,
            "orientation": "horizontal",
            "style": "IPY_MODEL_f6decfba64ec4dde9abaaee05eae854c",
            "value": 226122
          }
        },
        "5ef534b81b914402b4371c8deaa6e4bb": {
          "model_module": "@jupyter-widgets/controls",
          "model_name": "HTMLModel",
          "model_module_version": "1.5.0",
          "state": {
            "_dom_classes": [],
            "_model_module": "@jupyter-widgets/controls",
            "_model_module_version": "1.5.0",
            "_model_name": "HTMLModel",
            "_view_count": null,
            "_view_module": "@jupyter-widgets/controls",
            "_view_module_version": "1.5.0",
            "_view_name": "HTMLView",
            "description": "",
            "description_tooltip": null,
            "layout": "IPY_MODEL_43d89b8592164528b12aacd88bf223ab",
            "placeholder": "​",
            "style": "IPY_MODEL_2730b3e86f734e9ea95db10ef96df58a",
            "value": " 226k/226k [00:00&lt;00:00, 6.23MB/s]"
          }
        },
        "336c7238dbcc4625a2c08f0b2fa319f7": {
          "model_module": "@jupyter-widgets/base",
          "model_name": "LayoutModel",
          "model_module_version": "1.2.0",
          "state": {
            "_model_module": "@jupyter-widgets/base",
            "_model_module_version": "1.2.0",
            "_model_name": "LayoutModel",
            "_view_count": null,
            "_view_module": "@jupyter-widgets/base",
            "_view_module_version": "1.2.0",
            "_view_name": "LayoutView",
            "align_content": null,
            "align_items": null,
            "align_self": null,
            "border": null,
            "bottom": null,
            "display": null,
            "flex": null,
            "flex_flow": null,
            "grid_area": null,
            "grid_auto_columns": null,
            "grid_auto_flow": null,
            "grid_auto_rows": null,
            "grid_column": null,
            "grid_gap": null,
            "grid_row": null,
            "grid_template_areas": null,
            "grid_template_columns": null,
            "grid_template_rows": null,
            "height": null,
            "justify_content": null,
            "justify_items": null,
            "left": null,
            "margin": null,
            "max_height": null,
            "max_width": null,
            "min_height": null,
            "min_width": null,
            "object_fit": null,
            "object_position": null,
            "order": null,
            "overflow": null,
            "overflow_x": null,
            "overflow_y": null,
            "padding": null,
            "right": null,
            "top": null,
            "visibility": null,
            "width": null
          }
        },
        "a3a9ba9705db4a32be1d79a6aac0b31c": {
          "model_module": "@jupyter-widgets/base",
          "model_name": "LayoutModel",
          "model_module_version": "1.2.0",
          "state": {
            "_model_module": "@jupyter-widgets/base",
            "_model_module_version": "1.2.0",
            "_model_name": "LayoutModel",
            "_view_count": null,
            "_view_module": "@jupyter-widgets/base",
            "_view_module_version": "1.2.0",
            "_view_name": "LayoutView",
            "align_content": null,
            "align_items": null,
            "align_self": null,
            "border": null,
            "bottom": null,
            "display": null,
            "flex": null,
            "flex_flow": null,
            "grid_area": null,
            "grid_auto_columns": null,
            "grid_auto_flow": null,
            "grid_auto_rows": null,
            "grid_column": null,
            "grid_gap": null,
            "grid_row": null,
            "grid_template_areas": null,
            "grid_template_columns": null,
            "grid_template_rows": null,
            "height": null,
            "justify_content": null,
            "justify_items": null,
            "left": null,
            "margin": null,
            "max_height": null,
            "max_width": null,
            "min_height": null,
            "min_width": null,
            "object_fit": null,
            "object_position": null,
            "order": null,
            "overflow": null,
            "overflow_x": null,
            "overflow_y": null,
            "padding": null,
            "right": null,
            "top": null,
            "visibility": null,
            "width": null
          }
        },
        "270dcf8b1ef9496d811ac19eb09c7a66": {
          "model_module": "@jupyter-widgets/controls",
          "model_name": "DescriptionStyleModel",
          "model_module_version": "1.5.0",
          "state": {
            "_model_module": "@jupyter-widgets/controls",
            "_model_module_version": "1.5.0",
            "_model_name": "DescriptionStyleModel",
            "_view_count": null,
            "_view_module": "@jupyter-widgets/base",
            "_view_module_version": "1.2.0",
            "_view_name": "StyleView",
            "description_width": ""
          }
        },
        "b6d93c74d21f46a792d7c922c6ecceda": {
          "model_module": "@jupyter-widgets/base",
          "model_name": "LayoutModel",
          "model_module_version": "1.2.0",
          "state": {
            "_model_module": "@jupyter-widgets/base",
            "_model_module_version": "1.2.0",
            "_model_name": "LayoutModel",
            "_view_count": null,
            "_view_module": "@jupyter-widgets/base",
            "_view_module_version": "1.2.0",
            "_view_name": "LayoutView",
            "align_content": null,
            "align_items": null,
            "align_self": null,
            "border": null,
            "bottom": null,
            "display": null,
            "flex": null,
            "flex_flow": null,
            "grid_area": null,
            "grid_auto_columns": null,
            "grid_auto_flow": null,
            "grid_auto_rows": null,
            "grid_column": null,
            "grid_gap": null,
            "grid_row": null,
            "grid_template_areas": null,
            "grid_template_columns": null,
            "grid_template_rows": null,
            "height": null,
            "justify_content": null,
            "justify_items": null,
            "left": null,
            "margin": null,
            "max_height": null,
            "max_width": null,
            "min_height": null,
            "min_width": null,
            "object_fit": null,
            "object_position": null,
            "order": null,
            "overflow": null,
            "overflow_x": null,
            "overflow_y": null,
            "padding": null,
            "right": null,
            "top": null,
            "visibility": null,
            "width": null
          }
        },
        "f6decfba64ec4dde9abaaee05eae854c": {
          "model_module": "@jupyter-widgets/controls",
          "model_name": "ProgressStyleModel",
          "model_module_version": "1.5.0",
          "state": {
            "_model_module": "@jupyter-widgets/controls",
            "_model_module_version": "1.5.0",
            "_model_name": "ProgressStyleModel",
            "_view_count": null,
            "_view_module": "@jupyter-widgets/base",
            "_view_module_version": "1.2.0",
            "_view_name": "StyleView",
            "bar_color": null,
            "description_width": ""
          }
        },
        "43d89b8592164528b12aacd88bf223ab": {
          "model_module": "@jupyter-widgets/base",
          "model_name": "LayoutModel",
          "model_module_version": "1.2.0",
          "state": {
            "_model_module": "@jupyter-widgets/base",
            "_model_module_version": "1.2.0",
            "_model_name": "LayoutModel",
            "_view_count": null,
            "_view_module": "@jupyter-widgets/base",
            "_view_module_version": "1.2.0",
            "_view_name": "LayoutView",
            "align_content": null,
            "align_items": null,
            "align_self": null,
            "border": null,
            "bottom": null,
            "display": null,
            "flex": null,
            "flex_flow": null,
            "grid_area": null,
            "grid_auto_columns": null,
            "grid_auto_flow": null,
            "grid_auto_rows": null,
            "grid_column": null,
            "grid_gap": null,
            "grid_row": null,
            "grid_template_areas": null,
            "grid_template_columns": null,
            "grid_template_rows": null,
            "height": null,
            "justify_content": null,
            "justify_items": null,
            "left": null,
            "margin": null,
            "max_height": null,
            "max_width": null,
            "min_height": null,
            "min_width": null,
            "object_fit": null,
            "object_position": null,
            "order": null,
            "overflow": null,
            "overflow_x": null,
            "overflow_y": null,
            "padding": null,
            "right": null,
            "top": null,
            "visibility": null,
            "width": null
          }
        },
        "2730b3e86f734e9ea95db10ef96df58a": {
          "model_module": "@jupyter-widgets/controls",
          "model_name": "DescriptionStyleModel",
          "model_module_version": "1.5.0",
          "state": {
            "_model_module": "@jupyter-widgets/controls",
            "_model_module_version": "1.5.0",
            "_model_name": "DescriptionStyleModel",
            "_view_count": null,
            "_view_module": "@jupyter-widgets/base",
            "_view_module_version": "1.2.0",
            "_view_name": "StyleView",
            "description_width": ""
          }
        }
      }
    },
    "accelerator": "GPU"
  },
  "cells": [
    {
      "cell_type": "markdown",
      "source": [
        "# **Sentiment analysis for market trend prediction**"
      ],
      "metadata": {
        "id": "UT3dxAapD262"
      }
    },
    {
      "cell_type": "markdown",
      "metadata": {
        "id": "yhhwwcCc-EKS"
      },
      "source": [
        "# **Step 1: Data Loading and Exploration**"
      ]
    },
    {
      "cell_type": "markdown",
      "metadata": {
        "id": "FdFHcvOHZM0o"
      },
      "source": [
        "**Dataset Description**\n",
        "\n",
        "**Description:**\n",
        "\n",
        "There are two channels of data provided in this dataset:\n",
        "\n",
        "**News data:** The news headlines are from Reddit. They are ranked by reddit users' votes, and only the top 25 headlines are considered for a single date.\n",
        "(Range: 2008-06-08 to 2015-07-01)\n",
        "\n",
        "**Stock data:** Dow Jones Industrial Average (DJIA) is used to \"prove the concept\".\n",
        "(Range: 2008-08-08 to 2015-07-01)"
      ]
    },
    {
      "cell_type": "markdown",
      "metadata": {
        "id": "MRsB4wXDZfMN"
      },
      "source": [
        "**Files**\n",
        "\n",
        "**Combined_News_DJIA.csv**- Contain news ranked from top to bottom based on their relevance (25 lines for each date)\n",
        "**RedditNews.csv**- Contain top 25 news headlines for each date                                                 \n",
        "**DJIA_table.csv** - stock price data                          \n",
        "**Test_dates.csv**- dates for prediction"
      ]
    },
    {
      "cell_type": "markdown",
      "metadata": {
        "id": "tEtk8SvZaK6s"
      },
      "source": [
        "**Columns**                                             \n",
        "**Combined_News_DJIA.csv(train)**\n",
        "\n",
        "Date - date on which the news is published\n",
        "\n",
        "Label - \"1\" when DJIA Adj Close value rose or stayed as the same, \"0\" when DJIA Adj Close value decreased.\n",
        "\n",
        "Top1 - Top25 - Top25 news headlines on that particular date\n",
        "\n",
        "**RedditNews.csv(train)**\n",
        "\n",
        "Date - date on which the news is published\n",
        "\n",
        "News - news headlines on that particular date\n",
        "\n",
        "**DJIA_table.csv(train)**\n",
        "\n",
        "Date - date\n",
        "\n",
        "Open - Opening price of stock\n",
        "\n",
        "High - Highest price of stock on that particular date\n",
        "\n",
        "Low - Lowest price of stock on that particular date\n",
        "\n",
        "Close - Closing price of stock\n",
        "\n",
        "Volume - The number of trades registered\n",
        "\n",
        "Adj Close - Adjusted Closing price\n",
        "\n",
        "**Test_DJIA_dates.csv**\n",
        "\n",
        "Date - dates for prediction\n",
        "\n",
        "Open - Opening price of stock\n",
        "\n",
        "High - Highest price of stock on that particular date\n",
        "\n",
        "Low - Lowest price of stock on that particular date\n",
        "\n",
        "Volume - The number of trades registered\n",
        "\n",
        "**Test_Combined_news.csv**\n",
        "\n",
        "Date - date on which the news is published\n",
        "\n",
        "Label - \"1\" when DJIA Adj Close value rose or stayed as the same, \"0\" when DJIA Adj Close value decreased.\n",
        "\n",
        "Top1 - Top25 - Top25 news headlines on that particular date\n",
        "\n",
        "**Test_Redit_news.csv**\n",
        "\n",
        "Date - dates for prediction\n",
        "\n",
        "News -- news headlines on that particular date\n",
        "\n"
      ]
    },
    {
      "cell_type": "markdown",
      "metadata": {
        "id": "ck3iasgwathP"
      },
      "source": [
        "**What is DJIA ?**"
      ]
    },
    {
      "cell_type": "markdown",
      "metadata": {
        "id": "nt-PUVLfY4Hc"
      },
      "source": [
        "The **Dow Jones Industrial Average (DJIA)** is a stock market index that measures the performance of 30 large, well-known U.S. companies. It is one of the oldest and most widely followed stock market indices in the world.\n",
        "\n",
        "The DJIA is calculated as the sum of the closing prices of the 30 component stocks, divided by the divisor. The divisor is adjusted periodically to account for stock splits, dividends, and other corporate actions.\n",
        "\n",
        "The DJIA is often used as a benchmark for the overall health of the U.S. economy. It is also used by investors to track the performance of their portfolios and to make investment decisions."
      ]
    },
    {
      "cell_type": "markdown",
      "source": [
        "# Importing Libraries"
      ],
      "metadata": {
        "id": "ujd6Ao7wFbOb"
      }
    },
    {
      "cell_type": "code",
      "execution_count": null,
      "metadata": {
        "id": "oDmesHwisgMW"
      },
      "outputs": [],
      "source": [
        "import pandas as pd\n",
        "import numpy as np\n",
        "from sklearn.model_selection import train_test_split\n",
        "from sklearn.metrics import mean_squared_error\n",
        "from transformers import pipeline  # For sentiment analysis with Transformers\n"
      ]
    },
    {
      "cell_type": "markdown",
      "metadata": {
        "id": "UFWRZxQe7o4b"
      },
      "source": [
        "# Load the datasets"
      ]
    },
    {
      "cell_type": "code",
      "source": [
        "train_news = pd.read_csv('Combined_News_DJIA(train).csv')\n",
        "train_djia = pd.read_csv('DJIA_table(train).csv')\n",
        "test_news = pd.read_csv('Test_Combined_News.csv')\n",
        "test_djia = pd.read_csv('Test_DJIA_Table.csv')\n"
      ],
      "metadata": {
        "id": "UaSgeekQtYK8"
      },
      "execution_count": null,
      "outputs": []
    },
    {
      "cell_type": "markdown",
      "source": [
        "# Date Conversion and Error Handling"
      ],
      "metadata": {
        "id": "FLm1Ken1FpEG"
      }
    },
    {
      "cell_type": "code",
      "source": [
        "# Use 'mixed' format and errors='coerce' to handle inconsistencies\n",
        "train_news['Date'] = pd.to_datetime(train_news['Date'], dayfirst=True, errors='coerce')\n",
        "train_djia['Date'] = pd.to_datetime(train_djia['Date'], dayfirst=True, errors='coerce')\n",
        "test_news['Date'] = pd.to_datetime(test_news['Date'], dayfirst=True, errors='coerce')\n",
        "test_djia['Date'] = pd.to_datetime(test_djia['Date'], dayfirst=True, errors='coerce')\n",
        "\n",
        "\n"
      ],
      "metadata": {
        "id": "JayVUAyBXT7m"
      },
      "execution_count": null,
      "outputs": []
    },
    {
      "cell_type": "markdown",
      "source": [
        "# Converting Date Columns to Datetime Format"
      ],
      "metadata": {
        "id": "vCFwcALrFrBF"
      }
    },
    {
      "cell_type": "code",
      "source": [
        "train_news['Date'] = pd.to_datetime(train_news['Date'])\n",
        "train_djia['Date'] = pd.to_datetime(train_djia['Date'])\n",
        "test_news['Date'] = pd.to_datetime(test_news['Date'])\n",
        "test_djia['Date'] = pd.to_datetime(test_djia['Date'])\n"
      ],
      "metadata": {
        "id": "WURbMCyvtkHz"
      },
      "execution_count": null,
      "outputs": []
    },
    {
      "cell_type": "markdown",
      "source": [
        "# Sentiment Analysis and Summarization of News Headlines Using BART and FinBERT"
      ],
      "metadata": {
        "id": "74klReKvF8wK"
      }
    },
    {
      "cell_type": "code",
      "source": [
        "pip install nltk\n"
      ],
      "metadata": {
        "colab": {
          "base_uri": "https://localhost:8080/"
        },
        "id": "M_4DrmIVuu0m",
        "outputId": "111ad3e6-2dcd-496a-c56c-ae5efb509f11"
      },
      "execution_count": null,
      "outputs": [
        {
          "output_type": "stream",
          "name": "stdout",
          "text": [
            "Requirement already satisfied: nltk in /usr/local/lib/python3.10/dist-packages (3.8.1)\n",
            "Requirement already satisfied: click in /usr/local/lib/python3.10/dist-packages (from nltk) (8.1.7)\n",
            "Requirement already satisfied: joblib in /usr/local/lib/python3.10/dist-packages (from nltk) (1.4.2)\n",
            "Requirement already satisfied: regex>=2021.8.3 in /usr/local/lib/python3.10/dist-packages (from nltk) (2024.9.11)\n",
            "Requirement already satisfied: tqdm in /usr/local/lib/python3.10/dist-packages (from nltk) (4.66.5)\n"
          ]
        }
      ]
    },
    {
      "cell_type": "code",
      "source": [
        "pip install transformers torch sentencepiece\n"
      ],
      "metadata": {
        "colab": {
          "base_uri": "https://localhost:8080/"
        },
        "id": "cYy7YxSWvoEl",
        "outputId": "002634f6-7a66-4102-e424-a5c795317fea"
      },
      "execution_count": null,
      "outputs": [
        {
          "output_type": "stream",
          "name": "stdout",
          "text": [
            "Requirement already satisfied: transformers in /usr/local/lib/python3.10/dist-packages (4.44.2)\n",
            "Requirement already satisfied: torch in /usr/local/lib/python3.10/dist-packages (2.4.1+cu121)\n",
            "Requirement already satisfied: sentencepiece in /usr/local/lib/python3.10/dist-packages (0.2.0)\n",
            "Requirement already satisfied: filelock in /usr/local/lib/python3.10/dist-packages (from transformers) (3.16.1)\n",
            "Requirement already satisfied: huggingface-hub<1.0,>=0.23.2 in /usr/local/lib/python3.10/dist-packages (from transformers) (0.24.7)\n",
            "Requirement already satisfied: numpy>=1.17 in /usr/local/lib/python3.10/dist-packages (from transformers) (1.26.4)\n",
            "Requirement already satisfied: packaging>=20.0 in /usr/local/lib/python3.10/dist-packages (from transformers) (24.1)\n",
            "Requirement already satisfied: pyyaml>=5.1 in /usr/local/lib/python3.10/dist-packages (from transformers) (6.0.2)\n",
            "Requirement already satisfied: regex!=2019.12.17 in /usr/local/lib/python3.10/dist-packages (from transformers) (2024.9.11)\n",
            "Requirement already satisfied: requests in /usr/local/lib/python3.10/dist-packages (from transformers) (2.32.3)\n",
            "Requirement already satisfied: safetensors>=0.4.1 in /usr/local/lib/python3.10/dist-packages (from transformers) (0.4.5)\n",
            "Requirement already satisfied: tokenizers<0.20,>=0.19 in /usr/local/lib/python3.10/dist-packages (from transformers) (0.19.1)\n",
            "Requirement already satisfied: tqdm>=4.27 in /usr/local/lib/python3.10/dist-packages (from transformers) (4.66.5)\n",
            "Requirement already satisfied: typing-extensions>=4.8.0 in /usr/local/lib/python3.10/dist-packages (from torch) (4.12.2)\n",
            "Requirement already satisfied: sympy in /usr/local/lib/python3.10/dist-packages (from torch) (1.13.3)\n",
            "Requirement already satisfied: networkx in /usr/local/lib/python3.10/dist-packages (from torch) (3.3)\n",
            "Requirement already satisfied: jinja2 in /usr/local/lib/python3.10/dist-packages (from torch) (3.1.4)\n",
            "Requirement already satisfied: fsspec in /usr/local/lib/python3.10/dist-packages (from torch) (2024.6.1)\n",
            "Requirement already satisfied: MarkupSafe>=2.0 in /usr/local/lib/python3.10/dist-packages (from jinja2->torch) (2.1.5)\n",
            "Requirement already satisfied: charset-normalizer<4,>=2 in /usr/local/lib/python3.10/dist-packages (from requests->transformers) (3.3.2)\n",
            "Requirement already satisfied: idna<4,>=2.5 in /usr/local/lib/python3.10/dist-packages (from requests->transformers) (3.10)\n",
            "Requirement already satisfied: urllib3<3,>=1.21.1 in /usr/local/lib/python3.10/dist-packages (from requests->transformers) (2.2.3)\n",
            "Requirement already satisfied: certifi>=2017.4.17 in /usr/local/lib/python3.10/dist-packages (from requests->transformers) (2024.8.30)\n",
            "Requirement already satisfied: mpmath<1.4,>=1.1.0 in /usr/local/lib/python3.10/dist-packages (from sympy->torch) (1.3.0)\n"
          ]
        }
      ]
    },
    {
      "cell_type": "code",
      "source": [
        "pip install tqdm\n"
      ],
      "metadata": {
        "colab": {
          "base_uri": "https://localhost:8080/"
        },
        "id": "wxwIRZsDvu0u",
        "outputId": "2b056c4e-ab89-4827-95f0-5d0259428456"
      },
      "execution_count": null,
      "outputs": [
        {
          "output_type": "stream",
          "name": "stdout",
          "text": [
            "Requirement already satisfied: tqdm in /usr/local/lib/python3.10/dist-packages (4.66.5)\n"
          ]
        }
      ]
    },
    {
      "cell_type": "code",
      "source": [
        "# Import necessary libraries\n",
        "import pandas as pd\n",
        "import torch\n",
        "from transformers import BartForConditionalGeneration, BartTokenizer, BertForSequenceClassification, BertTokenizer\n",
        "from tqdm import tqdm  # Import tqdm for progress bar\n",
        "\n",
        "# Check for GPU availability\n",
        "device = 'cuda' if torch.cuda.is_available() else 'cpu'\n",
        "print(f\"Using device: {device}\")\n",
        "\n",
        "# Load the BART model and tokenizer for summarization\n",
        "bart_model = BartForConditionalGeneration.from_pretrained('facebook/bart-large-cnn').to(device)\n",
        "bart_tokenizer = BartTokenizer.from_pretrained('facebook/bart-large-cnn')\n",
        "\n",
        "# Load the FinBERT model and tokenizer for sentiment analysis\n",
        "finbert_model = BertForSequenceClassification.from_pretrained('yiyanghkust/finbert-tone').to(device)\n",
        "finbert_tokenizer = BertTokenizer.from_pretrained('yiyanghkust/finbert-tone')\n",
        "\n",
        "# Step 1: Combine the top 25 headlines into a single column\n",
        "headline_columns = ['Top' + str(i) for i in range(1, 26)]\n",
        "train_news['Combined_Headlines'] = train_news[headline_columns].apply(lambda row: ' '.join(str(val) for val in row if val), axis=1)\n",
        "\n",
        "# Function to summarize text using BART\n",
        "def summarize_text_bart(text, max_length=512, min_length=50):\n",
        "    inputs = bart_tokenizer([text], max_length=1024, return_tensors='pt', truncation=True).to(device)\n",
        "    summary_ids = bart_model.generate(inputs['input_ids'], max_length=max_length, min_length=min_length, length_penalty=2.0, num_beams=4, early_stopping=True)\n",
        "    summary = bart_tokenizer.decode(summary_ids[0], skip_special_tokens=True)\n",
        "    return summary\n",
        "\n",
        "# Function to get sentiment score using FinBERT\n",
        "def get_finbert_sentiment(text):\n",
        "    inputs = finbert_tokenizer(text, return_tensors='pt', truncation=True, max_length=512).to(device)\n",
        "    with torch.no_grad():\n",
        "        outputs = finbert_model(**inputs)\n",
        "    sentiment_scores = outputs.logits.softmax(dim=-1).cpu().numpy()\n",
        "    return sentiment_scores  # Returns probabilities for positive, neutral, negative\n",
        "\n",
        "# Step 2: Apply summarization and sentiment analysis to the combined headlines with progress bar\n",
        "tqdm.pandas(desc=\"Processing News Headlines\")  # Set up progress bar description\n",
        "\n",
        "# Summarize the headlines\n",
        "train_news['Summary'] = train_news['Combined_Headlines'].progress_apply(summarize_text_bart)\n",
        "\n",
        "# Get sentiment scores for the summary\n",
        "train_news['Sentiment_Scores'] = train_news['Summary'].progress_apply(get_finbert_sentiment)\n",
        "\n",
        "# Extract sentiment labels based on highest score\n",
        "def extract_sentiment_label(scores):\n",
        "    labels = ['negative', 'neutral', 'positive']\n",
        "    return labels[scores.argmax()]\n",
        "\n",
        "# Apply the function to get sentiment labels\n",
        "train_news['Sentiment_Label'] = train_news['Sentiment_Scores'].apply(lambda x: extract_sentiment_label(x))\n",
        "\n",
        "# Print the first few rows of the updated DataFrame\n",
        "print(train_news[['Date', 'Combined_Headlines', 'Summary', 'Sentiment_Scores', 'Sentiment_Label']].head())\n",
        "\n",
        "# Count the occurrences of each sentiment label\n",
        "sentiment_counts = train_news['Sentiment_Label'].value_counts()\n",
        "print(\"\\nSentiment Counts:\")\n",
        "print(sentiment_counts)\n",
        "\n",
        "# Optionally, save the results to a new CSV file\n",
        "train_news.to_csv('train_news_with_sentiment.csv', index=False)\n"
      ],
      "metadata": {
        "colab": {
          "base_uri": "https://localhost:8080/",
          "height": 984,
          "referenced_widgets": [
            "fe16c8b13d7c4c92b0388824f5e85d79",
            "417bc999e30e4a69afbc5b96de9f46fb",
            "98b8ea6d691a4b9d8be2735495180614",
            "0e8494fc767e420587932bd33435904e",
            "c317f01e9d2b4444b46a29cdc4e27529",
            "ce5d612548d14278893e74d0686e2c1f",
            "ce8ddf21649245b893a1b58a3413e682",
            "5375e9bbd863476eae083b52a9fecb3e",
            "a336f245aac147d7bbc29ec7e9650316",
            "91e7adebcfb34310928483393d25ce88",
            "f4d0d44a6ce8406a9fe9d9c3f0447f9b",
            "b0b03d6084cd4071a870a8eb2731fef0",
            "d7a04b39720a4a1fb93051a5e7d7b125",
            "14e5c49eae954f0e8f1cca4a9ba74afd",
            "818f1a11ce3d45d3b189701d4a8513e4",
            "25fd66440df54ca3837a721794004bb4",
            "7919c09dfa814278986bc1d129f41697",
            "714e74b775a647028e4dfb3da9b2ee95",
            "392a2fc5c6c64726bac678d0c375381f",
            "95d28c4a65ce4fb19725825a5726dec7",
            "cba646ec5c514793bd371305655ec61b",
            "b78d689d94e842878974e55f0ea945e8",
            "aa82e3bca08342dbba681b5330a4b562",
            "f3281153b0aa4dbaadeb3a65483a60bb",
            "475c9e6d433b4927b78e66205e0acd18",
            "0fffc023d53f4237beacd279269c81c4",
            "af95eb95ec76488ba71079e83fb28c82",
            "f6588d8a1f8242c586447dda4265d32e",
            "2d28e2e053c544caabe63358b64c8e6a",
            "eaaef1aed21f44b5a31dc3ab6b641c03",
            "241daf674d834eaa8abe67a6d028aa64",
            "db1cb84f5c6349fbbad1327848b44d8d",
            "7227c0dcae414caa9ad20006b315c6b9",
            "1e241829c33d4f1db2ebdd5ada925624",
            "05a816efcb5340ad80cbd6c2db32d88f",
            "13ec8a9f362c40c98f09099639b5dfe6",
            "e611d4a8e7da4e5282ef4c0a6bce957b",
            "b7bc1e5b53f84fc6af2155d6addde422",
            "c11fd8fd49de4c1a8ce0979a5da5f1dc",
            "c07311a3312a4047aa108d14b0c6bc72",
            "b056d26adc1746f38ad09b0506a8e7a2",
            "17a63e34594b4753a7fa32290a359665",
            "dff6b0fc4b584115af372140734a9325",
            "4718c4b30819473fb7e382d1af79c704",
            "72b98d98326a40b38de718b64e0bda52",
            "db54bc8cf06e4bdb95085e20cb3be356",
            "569523e34f71475798a729b4fa68c7aa",
            "ab77dd31379d44a684311c5b8735f1dc",
            "a9443e84f62a45ec91ebc1ff1e00f9f6",
            "472b22b0da584bfb9bc3a04e7fc50af3",
            "bb7b9b3f34b74ef99c8124b76e3a8fa6",
            "04e0b809bc52436f867be210aa9c9b38",
            "8ffb94911e234b46934da15be3f4b7d9",
            "983c71e5ee574b1f887c17fdd8c12ec3",
            "561320d83bef437da131b713d8f9849a",
            "56aaba757a8a45e294c0ae6f85633968",
            "ceee8bcc6c6b4e74b39452b136beb761",
            "759f0022a0fc4e969265ce8d25054e03",
            "9b5d3a322a84467cb0fcbc4e980b7d81",
            "4a1c046e5f0f48c590fe1be3c221fe0d",
            "cc4bac9e677e4419b9587db060c35547",
            "3f0f711e9f8d44a0b33c3bf14eee31d0",
            "a290dc57c7b74d6b972bb271b4c38c4e",
            "e1d5daa0f34a448a99439317d18e62cf",
            "bbed71ae9f964a71b8c1acdc2789150d",
            "5e68809ab12245cc9b39171639fe41a1",
            "f76d06ab909e47b298d649925f496822",
            "ef8cbd1035854dd987480f36862bfae7",
            "75a7a8b9077d42c481169a62fe0755f8",
            "f0e2ff0e548a48d89de0c4d1d755a5c5",
            "5eaa59a12ee149d6883b396a35931c9a",
            "7da34936846b4e258073944c11ece69f",
            "9706eea817204083b18b4937c2b3e24f",
            "60e3e95caf99400cba793ffe702d374f",
            "3aaaae2458e14e239b5d02f37d603ccc",
            "b741a20d1ba34bbfab60edbef3cc1189",
            "80cfce6928b84312ad690cd9b8cfa85f",
            "2902153d05154b6ab7818ad9b89af866",
            "463dd9cb47c74099b22b2b35b188c60f",
            "15c0755357d84506b1fd7ae7857136b3",
            "d4f6ee83511c41ccbc4171b8ad46fa56",
            "fdea72e408ab442ca6a2b1da30b27314",
            "0ab6525454be448fbe432ee76e8b06c3",
            "39f7c5b5f95d40d588404df9d19f6522",
            "6bc8ee7f94dc417b8540adaaa463c03a",
            "bf63b56f654243d180cac53912a8b255",
            "80302c272d544565a5e0bc0b02228269",
            "dd772bc002b140fb80ebd7f252000dcc",
            "f3efe322e4754c0293500871f3711f56",
            "7cbe29d3e4444a81b63db141732a1fbb",
            "5823149c11424976a27ccca0665a1902",
            "5ef534b81b914402b4371c8deaa6e4bb",
            "336c7238dbcc4625a2c08f0b2fa319f7",
            "a3a9ba9705db4a32be1d79a6aac0b31c",
            "270dcf8b1ef9496d811ac19eb09c7a66",
            "b6d93c74d21f46a792d7c922c6ecceda",
            "f6decfba64ec4dde9abaaee05eae854c",
            "43d89b8592164528b12aacd88bf223ab",
            "2730b3e86f734e9ea95db10ef96df58a"
          ]
        },
        "id": "JdPmDIZ6zo3k",
        "outputId": "757b09f3-eb40-4493-b9e9-0c81ce7a1eea"
      },
      "execution_count": null,
      "outputs": [
        {
          "output_type": "stream",
          "name": "stdout",
          "text": [
            "Using device: cuda\n"
          ]
        },
        {
          "output_type": "stream",
          "name": "stderr",
          "text": [
            "/usr/local/lib/python3.10/dist-packages/huggingface_hub/utils/_token.py:89: UserWarning: \n",
            "The secret `HF_TOKEN` does not exist in your Colab secrets.\n",
            "To authenticate with the Hugging Face Hub, create a token in your settings tab (https://huggingface.co/settings/tokens), set it as secret in your Google Colab and restart your session.\n",
            "You will be able to reuse this secret in all of your notebooks.\n",
            "Please note that authentication is recommended but still optional to access public models or datasets.\n",
            "  warnings.warn(\n"
          ]
        },
        {
          "output_type": "display_data",
          "data": {
            "text/plain": [
              "config.json:   0%|          | 0.00/1.58k [00:00<?, ?B/s]"
            ],
            "application/vnd.jupyter.widget-view+json": {
              "version_major": 2,
              "version_minor": 0,
              "model_id": "fe16c8b13d7c4c92b0388824f5e85d79"
            }
          },
          "metadata": {}
        },
        {
          "output_type": "display_data",
          "data": {
            "text/plain": [
              "model.safetensors:   0%|          | 0.00/1.63G [00:00<?, ?B/s]"
            ],
            "application/vnd.jupyter.widget-view+json": {
              "version_major": 2,
              "version_minor": 0,
              "model_id": "b0b03d6084cd4071a870a8eb2731fef0"
            }
          },
          "metadata": {}
        },
        {
          "output_type": "display_data",
          "data": {
            "text/plain": [
              "generation_config.json:   0%|          | 0.00/363 [00:00<?, ?B/s]"
            ],
            "application/vnd.jupyter.widget-view+json": {
              "version_major": 2,
              "version_minor": 0,
              "model_id": "aa82e3bca08342dbba681b5330a4b562"
            }
          },
          "metadata": {}
        },
        {
          "output_type": "display_data",
          "data": {
            "text/plain": [
              "vocab.json:   0%|          | 0.00/899k [00:00<?, ?B/s]"
            ],
            "application/vnd.jupyter.widget-view+json": {
              "version_major": 2,
              "version_minor": 0,
              "model_id": "1e241829c33d4f1db2ebdd5ada925624"
            }
          },
          "metadata": {}
        },
        {
          "output_type": "display_data",
          "data": {
            "text/plain": [
              "merges.txt:   0%|          | 0.00/456k [00:00<?, ?B/s]"
            ],
            "application/vnd.jupyter.widget-view+json": {
              "version_major": 2,
              "version_minor": 0,
              "model_id": "72b98d98326a40b38de718b64e0bda52"
            }
          },
          "metadata": {}
        },
        {
          "output_type": "display_data",
          "data": {
            "text/plain": [
              "tokenizer.json:   0%|          | 0.00/1.36M [00:00<?, ?B/s]"
            ],
            "application/vnd.jupyter.widget-view+json": {
              "version_major": 2,
              "version_minor": 0,
              "model_id": "56aaba757a8a45e294c0ae6f85633968"
            }
          },
          "metadata": {}
        },
        {
          "output_type": "stream",
          "name": "stderr",
          "text": [
            "/usr/local/lib/python3.10/dist-packages/transformers/tokenization_utils_base.py:1601: FutureWarning: `clean_up_tokenization_spaces` was not set. It will be set to `True` by default. This behavior will be depracted in transformers v4.45, and will be then set to `False` by default. For more details check this issue: https://github.com/huggingface/transformers/issues/31884\n",
            "  warnings.warn(\n"
          ]
        },
        {
          "output_type": "display_data",
          "data": {
            "text/plain": [
              "config.json:   0%|          | 0.00/533 [00:00<?, ?B/s]"
            ],
            "application/vnd.jupyter.widget-view+json": {
              "version_major": 2,
              "version_minor": 0,
              "model_id": "f76d06ab909e47b298d649925f496822"
            }
          },
          "metadata": {}
        },
        {
          "output_type": "display_data",
          "data": {
            "text/plain": [
              "pytorch_model.bin:   0%|          | 0.00/439M [00:00<?, ?B/s]"
            ],
            "application/vnd.jupyter.widget-view+json": {
              "version_major": 2,
              "version_minor": 0,
              "model_id": "2902153d05154b6ab7818ad9b89af866"
            }
          },
          "metadata": {}
        },
        {
          "output_type": "display_data",
          "data": {
            "text/plain": [
              "vocab.txt:   0%|          | 0.00/226k [00:00<?, ?B/s]"
            ],
            "application/vnd.jupyter.widget-view+json": {
              "version_major": 2,
              "version_minor": 0,
              "model_id": "f3efe322e4754c0293500871f3711f56"
            }
          },
          "metadata": {}
        },
        {
          "output_type": "stream",
          "name": "stderr",
          "text": [
            "Processing News Headlines: 100%|██████████| 1989/1989 [35:36<00:00,  1.07s/it]\n",
            "Processing News Headlines: 100%|██████████| 1989/1989 [00:21<00:00, 94.53it/s]\n"
          ]
        },
        {
          "output_type": "stream",
          "name": "stdout",
          "text": [
            "        Date                                 Combined_Headlines  \\\n",
            "0 2008-08-08  b\"Georgia 'downs two Russian warplanes' as cou...   \n",
            "1 2008-11-08  b'Why wont America and Nato help us? If they w...   \n",
            "2 2008-12-08  b'Remember that adorable 9-year-old who sang a...   \n",
            "3        NaT  b' U.S. refuses Israel weapons to attack Iran:...   \n",
            "4        NaT  b'All the experts admit that we should legalis...   \n",
            "\n",
            "                                             Summary  \\\n",
            "0  b'Georgia 'downs two Russian warplanes' as cou...   \n",
            "1  b'Why wont America and Nato help us? If they w...   \n",
            "2  b'Remember that adorable 9-year-old who sang a...   \n",
            "3  b' U.S. refuses Israel weapons to attack Iran:...   \n",
            "4  b'Russia exaggerated the death toll in South O...   \n",
            "\n",
            "                              Sentiment_Scores Sentiment_Label  \n",
            "0  [[0.9994881, 5.9377857e-05, 0.00045247356]]        negative  \n",
            "1      [[0.9542639, 0.0051106424, 0.04062541]]        negative  \n",
            "2  [[4.0641502e-05, 1.5689764e-05, 0.9999436]]        positive  \n",
            "3     [[0.17462407, 0.0030707174, 0.82230526]]        positive  \n",
            "4     [[0.94849205, 0.025964057, 0.025543865]]        negative  \n",
            "\n",
            "Sentiment Counts:\n",
            "Sentiment_Label\n",
            "negative    1320\n",
            "positive     558\n",
            "neutral      111\n",
            "Name: count, dtype: int64\n"
          ]
        }
      ]
    },
    {
      "cell_type": "markdown",
      "source": [
        "# Encoding Sentiment Labels into Numerical Values"
      ],
      "metadata": {
        "id": "-h64DnwMGkbJ"
      }
    },
    {
      "cell_type": "code",
      "source": [
        "# Encode sentiment labels into numerical values\n",
        "sentiment_mapping = {'positive': 1, 'neutral': 0, 'negative': -1}\n",
        "train_news['Sentiment_Encoded'] = train_news['Sentiment_Label'].replace(sentiment_mapping)\n",
        "\n",
        "# Check the first few rows of the updated DataFrame\n",
        "print(train_news[['Date', 'Combined_Headlines', 'Sentiment_Label', 'Sentiment_Encoded']].head())\n"
      ],
      "metadata": {
        "id": "XtjOGUDe839W",
        "colab": {
          "base_uri": "https://localhost:8080/"
        },
        "outputId": "38040b95-6763-4fac-8fd7-4140080d5443"
      },
      "execution_count": null,
      "outputs": [
        {
          "output_type": "stream",
          "name": "stdout",
          "text": [
            "        Date                                 Combined_Headlines  \\\n",
            "0 2008-08-08  b\"Georgia 'downs two Russian warplanes' as cou...   \n",
            "1 2008-11-08  b'Why wont America and Nato help us? If they w...   \n",
            "2 2008-12-08  b'Remember that adorable 9-year-old who sang a...   \n",
            "3        NaT  b' U.S. refuses Israel weapons to attack Iran:...   \n",
            "4        NaT  b'All the experts admit that we should legalis...   \n",
            "\n",
            "  Sentiment_Label  Sentiment_Encoded  \n",
            "0        negative                 -1  \n",
            "1        negative                 -1  \n",
            "2        positive                  1  \n",
            "3        positive                  1  \n",
            "4        negative                 -1  \n"
          ]
        }
      ]
    },
    {
      "cell_type": "markdown",
      "source": [
        "# Merging News and Stock Data by Date"
      ],
      "metadata": {
        "id": "_O-_A56uGzxd"
      }
    },
    {
      "cell_type": "code",
      "source": [
        "# Load the stock data (assuming it's already loaded in 'train_djia')\n",
        "# train_djia = pd.read_csv('DJIA_table.csv')  # If not loaded yet\n",
        "\n",
        "# Ensure the Date columns are in datetime format for both datasets\n",
        "train_djia['Date'] = pd.to_datetime(train_djia['Date'])\n",
        "\n",
        "# Merge the datasets on the 'Date' column\n",
        "merged_data = pd.merge(train_news, train_djia, on='Date', how='inner')\n",
        "\n",
        "# Check the first few rows of the merged DataFrame\n",
        "print(merged_data.head())\n"
      ],
      "metadata": {
        "id": "7B2PkU2L9J-m",
        "colab": {
          "base_uri": "https://localhost:8080/"
        },
        "outputId": "ab0c8318-e189-4016-c4e7-28c805daeaa0"
      },
      "execution_count": null,
      "outputs": [
        {
          "output_type": "stream",
          "name": "stdout",
          "text": [
            "        Date  Label                                               Top1  \\\n",
            "0 2008-08-08      0  b\"Georgia 'downs two Russian warplanes' as cou...   \n",
            "1 2008-12-08      0  b'Remember that adorable 9-year-old who sang a...   \n",
            "2 2008-09-09      0  b'I love the world: Thai Prime Minister Samak ...   \n",
            "3 2008-10-09      1  b'Dutch to ban burkas when picking children up...   \n",
            "4 2008-12-09      0     b\"OPEC finished??  Saudi Arabia says 'LATER!'\"   \n",
            "\n",
            "                                                Top2  \\\n",
            "0            b'BREAKING: Musharraf to be impeached.'   \n",
            "1                 b\"Russia 'ends Georgia operation'\"   \n",
            "2  b\"French revolt over Edvige: Nicolas Sarkozy's...   \n",
            "3  b\"For 21 years a British man has refused to bu...   \n",
            "4  b'Putin may strip CNN of its Russian broadcast...   \n",
            "\n",
            "                                                Top3  \\\n",
            "0  b'Russia Today: Columns of troops roll into So...   \n",
            "1  b'\"If we had no sexual harassment we would hav...   \n",
            "2  b'Terrorists Fail! \"Time to Carry Liquids on P...   \n",
            "3    b'War Nerd - Ossetia: all over but the whining'   \n",
            "4  b'Putin on Georgia: \"What did you want us to d...   \n",
            "\n",
            "                                                Top4  \\\n",
            "0  b'Russian tanks are moving towards the capital...   \n",
            "1  b\"Al-Qa'eda is losing support in Iraq because ...   \n",
            "2  b\"If you think 9/11 was an inside job, you'll ...   \n",
            "3  b'North Korean Leader Kim Jong-il is Confirmed...   \n",
            "4  b'Chavez said the U.S. ambassador has 72 hours...   \n",
            "\n",
            "                                                Top5  \\\n",
            "0  b\"Afghan children raped with 'impunity,' U.N. ...   \n",
            "1  b'Ceasefire in Georgia: Putin Outmaneuvers the...   \n",
            "2  b\"The Dalai Lama's brother has died--pretty in...   \n",
            "3         b'Polish PM Wants Child Abusers Castrated'   \n",
            "4  b'87 000 British tourists trapped abroad after...   \n",
            "\n",
            "                                                Top6  \\\n",
            "0  b'150 Russian tanks have entered South Ossetia...   \n",
            "1  b'Why Microsoft and Intel tried to kill the XO...   \n",
            "2  b\"North Korea's Kim Jong Il may have had a str...   \n",
            "3               b'Russian bombers land in Venezuela'   \n",
            "4  b\"'Who the **** are you to lecture me?': Russi...   \n",
            "\n",
            "                                                Top7  \\\n",
            "0  b\"Breaking: Georgia invades South Ossetia, Rus...   \n",
            "1  b'Stratfor: The Russo-Georgian War and the Bal...   \n",
            "2  b\"How the KGB (and friends) took over Russia's...   \n",
            "3         b'Devastating Landslide Kills 56 in China'   \n",
            "4  b'President Hugo Chavez ordered the U.S. ambas...   \n",
            "\n",
            "                                                Top8  ...  \\\n",
            "0  b\"The 'enemy combatent' trials are nothing but...  ...   \n",
            "1  b\"I'm Trying to Get a Sense of This Whole Geor...  ...   \n",
            "2  b'80% of artists would get &lt;30/year from co...  ...   \n",
            "3  b'Iran demands UN investigate Israeli \"threats...  ...   \n",
            "4  b'Russian Poll: 84% Say Truth About 9/11 Being...  ...   \n",
            "\n",
            "                                             Summary  \\\n",
            "0  b'Georgia 'downs two Russian warplanes' as cou...   \n",
            "1  b'Remember that adorable 9-year-old who sang a...   \n",
            "2  b'I love the world: Thai Prime Minister Samak ...   \n",
            "3  b'Dutch to ban burkas when picking children up...   \n",
            "4  b'Putin may strip CNN of its Russian broadcast...   \n",
            "\n",
            "                               Sentiment_Scores Sentiment_Label  \\\n",
            "0   [[0.9994881, 5.9377857e-05, 0.00045247356]]        negative   \n",
            "1   [[4.0641502e-05, 1.5689764e-05, 0.9999436]]        positive   \n",
            "2        [[0.5583709, 0.006167466, 0.43546164]]        negative   \n",
            "3      [[0.54642826, 0.0001102843, 0.45346147]]        negative   \n",
            "4  [[0.99963224, 2.3972738e-05, 0.00034381435]]        negative   \n",
            "\n",
            "  Sentiment_Encoded          Open          High           Low         Close  \\\n",
            "0                -1  11432.089840  11759.959960  11388.040040  11734.320310   \n",
            "1                 1   8637.650391   9026.410156   8637.490234   8934.179688   \n",
            "2                -1  11514.730470  11577.500000  11230.730470  11230.730470   \n",
            "3                -1   9261.690430   9448.139648   8579.190430   8579.190430   \n",
            "4                -1   8934.099609   8934.099609   8651.740234   8691.330078   \n",
            "\n",
            "      Volume     Adj Close  \n",
            "0  212830000  11734.320310  \n",
            "1  358970000   8934.179688  \n",
            "2  257300000  11230.730470  \n",
            "3  436740000   8579.190430  \n",
            "4  284950000   8691.330078  \n",
            "\n",
            "[5 rows x 38 columns]\n"
          ]
        }
      ]
    },
    {
      "cell_type": "markdown",
      "source": [
        "# Preparing Final Dataset for Model Training"
      ],
      "metadata": {
        "id": "XjHYtf9IHOSU"
      }
    },
    {
      "cell_type": "code",
      "source": [
        "# Selecting relevant features for modeling\n",
        "features = ['Open', 'High', 'Low', 'Volume', 'Sentiment_Scores']\n",
        "target = 'Adj Close'  # Target variable to predict\n",
        "\n",
        "# Create the final dataset with selected features and target\n",
        "final_data = merged_data[features + [target]]\n",
        "\n",
        "# Check the first few rows of the final dataset\n",
        "print(final_data.head())\n"
      ],
      "metadata": {
        "id": "W_q9EM_s-mu_",
        "colab": {
          "base_uri": "https://localhost:8080/"
        },
        "outputId": "503a492e-7005-4762-f27a-ccffb0b9f92b"
      },
      "execution_count": null,
      "outputs": [
        {
          "output_type": "stream",
          "name": "stdout",
          "text": [
            "           Open          High           Low     Volume  \\\n",
            "0  11432.089840  11759.959960  11388.040040  212830000   \n",
            "1   8637.650391   9026.410156   8637.490234  358970000   \n",
            "2  11514.730470  11577.500000  11230.730470  257300000   \n",
            "3   9261.690430   9448.139648   8579.190430  436740000   \n",
            "4   8934.099609   8934.099609   8651.740234  284950000   \n",
            "\n",
            "                               Sentiment_Scores     Adj Close  \n",
            "0   [[0.9994881, 5.9377857e-05, 0.00045247356]]  11734.320310  \n",
            "1   [[4.0641502e-05, 1.5689764e-05, 0.9999436]]   8934.179688  \n",
            "2        [[0.5583709, 0.006167466, 0.43546164]]  11230.730470  \n",
            "3      [[0.54642826, 0.0001102843, 0.45346147]]   8579.190430  \n",
            "4  [[0.99963224, 2.3972738e-05, 0.00034381435]]   8691.330078  \n"
          ]
        }
      ]
    },
    {
      "cell_type": "markdown",
      "source": [
        "# **Random Forest**"
      ],
      "metadata": {
        "id": "MFQAOlhTHeul"
      }
    },
    {
      "cell_type": "markdown",
      "source": [
        "# Training and Evaluating a Random Forest Regression Model"
      ],
      "metadata": {
        "id": "J0Qe5A1qHbMB"
      }
    },
    {
      "cell_type": "code",
      "source": [
        "import pandas as pd\n",
        "from sklearn.model_selection import train_test_split\n",
        "from sklearn.ensemble import RandomForestRegressor\n",
        "from sklearn.metrics import mean_squared_error\n",
        "\n",
        "# Load your merged dataset (assuming it's already done)\n",
        "# merged_data = pd.read_csv('your_merged_data.csv')  # Uncomment if loading from CSV\n",
        "\n",
        "# Select features and target\n",
        "features = ['Open', 'High', 'Low', 'Volume', 'Sentiment_Encoded']  # Adjust as needed\n",
        "target = 'Adj Close'\n",
        "\n",
        "X = merged_data[features]\n",
        "y = merged_data[target]\n",
        "\n",
        "# Split the data\n",
        "X_train, X_val, y_train, y_val = train_test_split(X, y, test_size=0.2, random_state=42)\n",
        "\n",
        "print(\"Training set size:\", X_train.shape)\n",
        "print(\"Validation set size:\", X_val.shape)\n",
        "\n",
        "# Train the regression model\n",
        "model = RandomForestRegressor(n_estimators=100, random_state=42)  # Change model as needed\n",
        "model.fit(X_train, y_train)\n",
        "\n",
        "# Evaluate the model\n",
        "y_pred = model.predict(X_val)\n",
        "mse = mean_squared_error(y_val, y_pred)\n",
        "print(f'Mean Squared Error (MSE): {mse:.2f}')\n"
      ],
      "metadata": {
        "id": "oO6UtcOE_Ihl",
        "colab": {
          "base_uri": "https://localhost:8080/"
        },
        "outputId": "afef5f96-58a5-4d3d-f85c-866bed4f9060"
      },
      "execution_count": null,
      "outputs": [
        {
          "output_type": "stream",
          "name": "stdout",
          "text": [
            "Training set size: (408, 5)\n",
            "Validation set size: (103, 5)\n",
            "Mean Squared Error (MSE): 7589.65\n"
          ]
        }
      ]
    },
    {
      "cell_type": "markdown",
      "source": [
        "# Evaluating Model Performance: MSE and Adj Close Value Range Analysis"
      ],
      "metadata": {
        "id": "x3y_wy2SHu_5"
      }
    },
    {
      "cell_type": "code",
      "source": [
        "# Find the minimum and maximum of the Adj Close column\n",
        "min_adj_close = merged_data[target].min()\n",
        "max_adj_close = merged_data[target].max()\n",
        "\n",
        "# Calculate the range of Adj Close values\n",
        "range_adj_close = max_adj_close - min_adj_close\n",
        "\n",
        "# Compare the MSE to the range\n",
        "mse_fraction_of_range = mse / range_adj_close\n",
        "\n",
        "print(f'Minimum Adj Close Value: {min_adj_close}')\n",
        "print(f'Maximum Adj Close Value: {max_adj_close}')\n",
        "print(f'Range of Adj Close Values: {range_adj_close:.2f}')\n",
        "print(f'Mean Squared Error (MSE): {mse:.2f}')\n",
        "print(f'MSE as a Fraction of Adj Close Range: {mse_fraction_of_range:.6f}')\n"
      ],
      "metadata": {
        "id": "cECbBaU7UIKK",
        "colab": {
          "base_uri": "https://localhost:8080/"
        },
        "outputId": "58c82f6a-70bb-4c98-b3d2-0e983962a25f"
      },
      "execution_count": null,
      "outputs": [
        {
          "output_type": "stream",
          "name": "stdout",
          "text": [
            "Minimum Adj Close Value: 6547.049805\n",
            "Maximum Adj Close Value: 18288.63086\n",
            "Range of Adj Close Values: 11741.58\n",
            "Mean Squared Error (MSE): 7589.65\n",
            "MSE as a Fraction of Adj Close Range: 0.646391\n"
          ]
        }
      ]
    },
    {
      "cell_type": "markdown",
      "source": [
        "# Visualization of Predicted vs Actual Adjusted Close Prices"
      ],
      "metadata": {
        "id": "CumKujwwIHdC"
      }
    },
    {
      "cell_type": "markdown",
      "source": [
        "Analyzing the scatter plot of predicted versus actual adjusted close prices can provide valuable insights into the performance of your regression model. Here’s how to interpret the visualization:\n",
        "\n",
        "1. Diagonal Line\n",
        "The red dashed line represents the ideal scenario where predicted values perfectly match the actual values. If the points closely follow this line, it indicates good model performance.\n",
        "2. Point Distribution\n",
        "Clustered Points: If points cluster around the diagonal line, it suggests that the model is accurately predicting adjusted close prices.\n",
        "Wide Spread: A wide spread of points away from the diagonal indicates discrepancies between predicted and actual values, suggesting that the model may not be capturing certain trends or patterns effectively."
      ],
      "metadata": {
        "id": "Fa_x8VgoIJKq"
      }
    },
    {
      "cell_type": "code",
      "source": [
        "import matplotlib.pyplot as plt\n",
        "\n",
        "# Plot predicted vs actual values\n",
        "plt.figure(figsize=(12, 6))\n",
        "plt.scatter(y_val, y_pred, alpha=0.7)\n",
        "plt.plot([y_val.min(), y_val.max()], [y_val.min(), y_val.max()], 'r--')  # Diagonal line\n",
        "plt.title('Predicted vs Actual Adjusted Close Prices')\n",
        "plt.xlabel('Actual Adjusted Close Prices')\n",
        "plt.ylabel('Predicted Adjusted Close Prices')\n",
        "plt.show()\n"
      ],
      "metadata": {
        "id": "SgYCy7ZAArHG",
        "colab": {
          "base_uri": "https://localhost:8080/",
          "height": 475
        },
        "outputId": "ec027e15-0070-429e-d754-af91d21d2f37"
      },
      "execution_count": null,
      "outputs": [
        {
          "output_type": "display_data",
          "data": {
            "text/plain": [
              "<Figure size 1200x600 with 1 Axes>"
            ],
            "image/png": "[encoded data removed]"
          },
          "metadata": {}
        }
      ]
    },
    {
      "cell_type": "markdown",
      "source": [
        "# **Linear Regression**"
      ],
      "metadata": {
        "id": "LyUi2dzTd14C"
      }
    },
    {
      "cell_type": "markdown",
      "source": [
        "# Linear Regression Model: Training, Evaluation, and Performance Visualization"
      ],
      "metadata": {
        "id": "7ZsMmcD-fNfS"
      }
    },
    {
      "cell_type": "code",
      "source": [
        "import pandas as pd\n",
        "from sklearn.model_selection import train_test_split\n",
        "from sklearn.linear_model import LinearRegression\n",
        "from sklearn.metrics import mean_squared_error\n",
        "import matplotlib.pyplot as plt\n",
        "\n",
        "# Load your merged dataset (assuming it's already done)\n",
        "# merged_data = pd.read_csv('your_merged_data.csv')  # Uncomment if loading from CSV\n",
        "\n",
        "# Select features and target\n",
        "features = ['Open', 'High', 'Low', 'Volume', 'Sentiment_Encoded']  # Adjust as needed\n",
        "target = 'Adj Close'\n",
        "\n",
        "X = merged_data[features]\n",
        "y = merged_data[target]\n",
        "\n",
        "# Split the data\n",
        "X_train, X_val, y_train, y_val = train_test_split(X, y, test_size=0.2, random_state=42)\n",
        "\n",
        "print(\"Training set size:\", X_train.shape)\n",
        "print(\"Validation set size:\", X_val.shape)\n",
        "\n",
        "# Train the Linear Regression model\n",
        "linear_model = LinearRegression()\n",
        "linear_model.fit(X_train, y_train)\n",
        "\n",
        "# Evaluate the model\n",
        "y_pred_linear = linear_model.predict(X_val)\n",
        "mse_linear = mean_squared_error(y_val, y_pred_linear)\n",
        "print(f'Mean Squared Error (Linear Regression): {mse_linear:.2f}')\n",
        "\n",
        "# Plot predicted vs actual values\n",
        "plt.figure(figsize=(12, 6))\n",
        "plt.scatter(y_val, y_pred_linear, alpha=0.7)\n",
        "plt.plot([y_val.min(), y_val.max()], [y_val.min(), y_val.max()], 'r--')  # Diagonal line\n",
        "plt.title('Predicted vs Actual Adjusted Close Prices (Linear Regression)')\n",
        "plt.xlabel('Actual Adjusted Close Prices')\n",
        "plt.ylabel('Predicted Adjusted Close Prices')\n",
        "plt.show()\n"
      ],
      "metadata": {
        "id": "gaPDm7CPDgBD",
        "colab": {
          "base_uri": "https://localhost:8080/",
          "height": 527
        },
        "outputId": "bd4cdcb5-5282-4c06-f541-57f3f0321758"
      },
      "execution_count": null,
      "outputs": [
        {
          "output_type": "stream",
          "name": "stdout",
          "text": [
            "Training set size: (408, 5)\n",
            "Validation set size: (103, 5)\n",
            "Mean Squared Error (Linear Regression): 2372.34\n"
          ]
        },
        {
          "output_type": "display_data",
          "data": {
            "text/plain": [
              "<Figure size 1200x600 with 1 Axes>"
            ],
            "image/png": "[encoded data removed]"
          },
          "metadata": {}
        }
      ]
    },
    {
      "cell_type": "markdown",
      "source": [
        "# Range Comparison and MSE Fraction Calculation for Linear Regression"
      ],
      "metadata": {
        "id": "pT9mHNq0fe9c"
      }
    },
    {
      "cell_type": "code",
      "source": [
        "# Calculate the range of actual 'Adj Close' values in the validation set\n",
        "adj_close_min = y_val.min()\n",
        "adj_close_max = y_val.max()\n",
        "adj_close_range = adj_close_max - adj_close_min\n",
        "\n",
        "# Compare MSE to the range (using the original MSE value)\n",
        "mse_fraction = mse_linear / adj_close_range  # Use mse_linear for comparison\n",
        "\n",
        "print(f'Minimum Adj Close Value: {adj_close_min:.2f}')\n",
        "print(f'Maximum Adj Close Value: {adj_close_max:.2f}')\n",
        "print(f'Range of Adj Close Values: {adj_close_range:.2f}')\n",
        "print(f'Mean Squared Error (MSE): {mse_linear:.2f}')\n",
        "print(f'MSE as a Fraction of Adj Close Range: {mse_fraction:.9f}')\n"
      ],
      "metadata": {
        "id": "KmlW2xJ1SwHQ",
        "colab": {
          "base_uri": "https://localhost:8080/"
        },
        "outputId": "d5ec228b-0b25-4c85-c482-706f4a53fd94"
      },
      "execution_count": null,
      "outputs": [
        {
          "output_type": "stream",
          "name": "stdout",
          "text": [
            "Minimum Adj Close Value: 6547.05\n",
            "Maximum Adj Close Value: 18203.37\n",
            "Range of Adj Close Values: 11656.32\n",
            "Mean Squared Error (MSE): 2372.34\n",
            "MSE as a Fraction of Adj Close Range: 0.203523970\n"
          ]
        }
      ]
    },
    {
      "cell_type": "markdown",
      "source": [
        "# **Lasso Regression**"
      ],
      "metadata": {
        "id": "hFgoAm48h9xO"
      }
    },
    {
      "cell_type": "markdown",
      "source": [
        "# Training and Evaluation of Lasso Regression Model"
      ],
      "metadata": {
        "id": "JuzGTv0uiGel"
      }
    },
    {
      "cell_type": "code",
      "source": [
        "import pandas as pd\n",
        "from sklearn.model_selection import train_test_split\n",
        "from sklearn.linear_model import Lasso\n",
        "from sklearn.metrics import mean_squared_error\n",
        "import matplotlib.pyplot as plt\n",
        "\n",
        "# Load your merged dataset (assuming it's already done)\n",
        "# merged_data = pd.read_csv('train_news_with_sentiment.csv')  # Uncomment if loading from CSV\n",
        "\n",
        "# Select features and target\n",
        "features = ['Open', 'High', 'Low', 'Volume', 'Sentiment_Encoded']  # Adjust as needed\n",
        "target = 'Adj Close'\n",
        "\n",
        "X = merged_data[features]\n",
        "y = merged_data[target]\n",
        "\n",
        "# Split the data\n",
        "X_train, X_val, y_train, y_val = train_test_split(X, y, test_size=0.2, random_state=42)\n",
        "\n",
        "print(\"Training set size:\", X_train.shape)\n",
        "print(\"Validation set size:\", X_val.shape)\n",
        "\n",
        "# Train the Lasso Regression model\n",
        "lasso_model = Lasso(alpha=0.1)  # You can adjust alpha for regularization strength\n",
        "lasso_model.fit(X_train, y_train)\n",
        "\n",
        "# Evaluate the model\n",
        "y_pred_lasso = lasso_model.predict(X_val)\n",
        "mse_lasso = mean_squared_error(y_val, y_pred_lasso)\n",
        "print(f'Mean Squared Error (Lasso Regression): {mse_lasso:.2f}')\n"
      ],
      "metadata": {
        "id": "nooCqYUBEWeJ",
        "colab": {
          "base_uri": "https://localhost:8080/"
        },
        "outputId": "810339ee-f63c-49a1-caf8-dded13c77603"
      },
      "execution_count": null,
      "outputs": [
        {
          "output_type": "stream",
          "name": "stdout",
          "text": [
            "Training set size: (408, 5)\n",
            "Validation set size: (103, 5)\n",
            "Mean Squared Error (Lasso Regression): 4950.56\n"
          ]
        },
        {
          "output_type": "stream",
          "name": "stderr",
          "text": [
            "/usr/local/lib/python3.10/dist-packages/sklearn/linear_model/_coordinate_descent.py:697: ConvergenceWarning: Objective did not converge. You might want to increase the number of iterations, check the scale of the features or consider increasing regularisation. Duality gap: 1.289e+06, tolerance: 3.689e+05\n",
            "  model = cd_fast.enet_coordinate_descent(\n"
          ]
        }
      ]
    },
    {
      "cell_type": "markdown",
      "source": [
        "# Analyzing MSE as a Fraction of 'Adj Close' Value Range for Lasso Regression"
      ],
      "metadata": {
        "id": "s-sYIrwHiA-U"
      }
    },
    {
      "cell_type": "code",
      "source": [
        "# Calculate the range of actual 'Adj Close' values in the validation set\n",
        "adj_close_min = y_val.min()\n",
        "adj_close_max = y_val.max()\n",
        "adj_close_range = adj_close_max - adj_close_min\n",
        "\n",
        "# Compare MSE to the range\n",
        "mse_fraction = mse_lasso / adj_close_range\n",
        "\n",
        "print(f'Minimum Adj Close Value: {adj_close_min:.2f}')\n",
        "print(f'Maximum Adj Close Value: {adj_close_max:.2f}')\n",
        "print(f'Range of Adj Close Values: {adj_close_range:.2f}')\n",
        "print(f'Mean Squared Error (MSE): {mse_lasso:.2f}')\n",
        "print(f'MSE as a Fraction of Adj Close Range: {mse_fraction:.9f}')"
      ],
      "metadata": {
        "id": "u8ShQQGaXYXr",
        "colab": {
          "base_uri": "https://localhost:8080/"
        },
        "outputId": "bc2b9186-1c78-4179-ea54-9a9543884e21"
      },
      "execution_count": null,
      "outputs": [
        {
          "output_type": "stream",
          "name": "stdout",
          "text": [
            "Minimum Adj Close Value: 6547.05\n",
            "Maximum Adj Close Value: 18203.37\n",
            "Range of Adj Close Values: 11656.32\n",
            "Mean Squared Error (MSE): 4950.56\n",
            "MSE as a Fraction of Adj Close Range: 0.424710177\n"
          ]
        }
      ]
    },
    {
      "cell_type": "markdown",
      "source": [
        "# **Ridge Regression**"
      ],
      "metadata": {
        "id": "-Z2CvtLtmVGB"
      }
    },
    {
      "cell_type": "markdown",
      "source": [
        "# Ridge Regression: Predicted vs Actual Adjusted Close Prices and Model Evaluation\n"
      ],
      "metadata": {
        "id": "2IHblyo0mtgk"
      }
    },
    {
      "cell_type": "code",
      "source": [
        "import pandas as pd\n",
        "from sklearn.model_selection import train_test_split\n",
        "from sklearn.linear_model import Ridge\n",
        "from sklearn.metrics import mean_squared_error\n",
        "import matplotlib.pyplot as plt\n",
        "\n",
        "# Load your merged dataset (assuming it's already done)\n",
        "# merged_data = pd.read_csv('your_merged_data.csv')  # Uncomment if loading from CSV\n",
        "\n",
        "# Select features and target\n",
        "features = ['Open', 'High', 'Low', 'Volume', 'Sentiment_Encoded']  # Adjust as needed\n",
        "target = 'Adj Close'\n",
        "\n",
        "X = merged_data[features]\n",
        "y = merged_data[target]\n",
        "\n",
        "# Split the data into training and validation sets\n",
        "X_train, X_val, y_train, y_val = train_test_split(X, y, test_size=0.2, random_state=42)\n",
        "\n",
        "print(\"Training set size:\", X_train.shape)\n",
        "print(\"Validation set size:\", X_val.shape)\n",
        "\n",
        "# Train the Ridge Regression model\n",
        "ridge_model = Ridge(alpha=1.0)  # You can adjust alpha for regularization strength\n",
        "ridge_model.fit(X_train, y_train)\n",
        "\n",
        "# Evaluate the model\n",
        "y_pred_ridge = ridge_model.predict(X_val)\n",
        "mse_ridge = mean_squared_error(y_val, y_pred_ridge)\n",
        "print(f'Mean Squared Error (Ridge Regression): {mse_ridge:.2f}')\n",
        "\n",
        "# Plot predicted vs actual values\n",
        "plt.figure(figsize=(12, 6))\n",
        "plt.scatter(y_val, y_pred_ridge, alpha=0.7)\n",
        "plt.plot([y_val.min(), y_val.max()], [y_val.min(), y_val.max()], 'r--')  # Diagonal line\n",
        "plt.title('Predicted vs Actual Adjusted Close Prices (Ridge Regression)')\n",
        "plt.xlabel('Actual Adjusted Close Prices')\n",
        "plt.ylabel('Predicted Adjusted Close Prices')\n",
        "plt.show()\n"
      ],
      "metadata": {
        "id": "Rvm1G7BCa47v",
        "colab": {
          "base_uri": "https://localhost:8080/",
          "height": 582
        },
        "outputId": "960fa007-d3f4-4dc3-8261-56c0b33d0b46"
      },
      "execution_count": null,
      "outputs": [
        {
          "output_type": "stream",
          "name": "stdout",
          "text": [
            "Training set size: (408, 5)\n",
            "Validation set size: (103, 5)\n",
            "Mean Squared Error (Ridge Regression): 2372.32\n"
          ]
        },
        {
          "output_type": "stream",
          "name": "stderr",
          "text": [
            "/usr/local/lib/python3.10/dist-packages/sklearn/linear_model/_ridge.py:216: LinAlgWarning: Ill-conditioned matrix (rcond=1.03668e-16): result may not be accurate.\n",
            "  return linalg.solve(A, Xy, assume_a=\"pos\", overwrite_a=True).T\n"
          ]
        },
        {
          "output_type": "display_data",
          "data": {
            "text/plain": [
              "<Figure size 1200x600 with 1 Axes>"
            ],
            "image/png": "[encoded data removed]"
          },
          "metadata": {}
        }
      ]
    },
    {
      "cell_type": "markdown",
      "source": [
        "# Mean Squared Error (MSE) and Comparison to Adjusted Close Range"
      ],
      "metadata": {
        "id": "tDKkaSA-nLL8"
      }
    },
    {
      "cell_type": "code",
      "source": [
        "# Calculate the range of actual 'Adj Close' values in the validation set\n",
        "adj_close_min = y_val.min()\n",
        "adj_close_max = y_val.max()\n",
        "adj_close_range = adj_close_max - adj_close_min\n",
        "\n",
        "# Compare MSE to the range\n",
        "mse_fraction = mse_ridge / adj_close_range\n",
        "\n",
        "print(f'Minimum Adj Close Value: {adj_close_min:.2f}')\n",
        "print(f'Maximum Adj Close Value: {adj_close_max:.2f}')\n",
        "print(f'Range of Adj Close Values: {adj_close_range:.2f}')\n",
        "print(f'Mean Squared Error (MSE): {mse_ridge:.2f}')\n",
        "print(f'MSE as a Fraction of Adj Close Range: {mse_fraction:.9f}')"
      ],
      "metadata": {
        "id": "GT2qAyD5bXy5",
        "colab": {
          "base_uri": "https://localhost:8080/"
        },
        "outputId": "99ce5859-07d8-4dec-9453-69feccd45053"
      },
      "execution_count": null,
      "outputs": [
        {
          "output_type": "stream",
          "name": "stdout",
          "text": [
            "Minimum Adj Close Value: 6547.05\n",
            "Maximum Adj Close Value: 18203.37\n",
            "Range of Adj Close Values: 11656.32\n",
            "Mean Squared Error (MSE): 2372.32\n",
            "MSE as a Fraction of Adj Close Range: 0.203522641\n"
          ]
        }
      ]
    },
    {
      "cell_type": "markdown",
      "source": [
        "# Summarization and Sentiment Analysis of Test News Headlines Using BART and FinBERT\n",
        "\n",
        "\n",
        "\n",
        "\n",
        "\n",
        "\n"
      ],
      "metadata": {
        "id": "iqKyQ8jlnale"
      }
    },
    {
      "cell_type": "code",
      "source": [
        "# Import necessary libraries\n",
        "import pandas as pd\n",
        "import torch\n",
        "from transformers import BartForConditionalGeneration, BartTokenizer, BertForSequenceClassification, BertTokenizer\n",
        "from tqdm import tqdm  # Import tqdm for progress bar\n",
        "\n",
        "# Check for GPU availability\n",
        "device = 'cuda' if torch.cuda.is_available() else 'cpu'\n",
        "print(f\"Using device: {device}\")\n",
        "\n",
        "# Load the BART model and tokenizer for summarization\n",
        "bart_model = BartForConditionalGeneration.from_pretrained('facebook/bart-large-cnn').to(device)\n",
        "bart_tokenizer = BartTokenizer.from_pretrained('facebook/bart-large-cnn')\n",
        "\n",
        "# Load the FinBERT model and tokenizer for sentiment analysis\n",
        "finbert_model = BertForSequenceClassification.from_pretrained('yiyanghkust/finbert-tone').to(device)\n",
        "finbert_tokenizer = BertTokenizer.from_pretrained('yiyanghkust/finbert-tone')\n",
        "\n",
        "# Step 1: Load the Test Dataset\n",
        "test_news = pd.read_csv('Test_Combined_News.csv')\n",
        "\n",
        "# Combine the top 25 headlines into a single column\n",
        "headline_columns = ['Top' + str(i) for i in range(1, 26)]\n",
        "test_news['Combined_Headlines'] = test_news[headline_columns].apply(lambda row: ' '.join(str(val) for val in row if val), axis=1)\n",
        "\n",
        "# Function to summarize text using BART\n",
        "def summarize_text_bart(text, max_length=512, min_length=50):\n",
        "    inputs = bart_tokenizer([text], max_length=1024, return_tensors='pt', truncation=True).to(device)\n",
        "    summary_ids = bart_model.generate(inputs['input_ids'], max_length=max_length, min_length=min_length, length_penalty=2.0, num_beams=4, early_stopping=True)\n",
        "    summary = bart_tokenizer.decode(summary_ids[0], skip_special_tokens=True)\n",
        "    return summary\n",
        "\n",
        "# Function to get sentiment score using FinBERT\n",
        "def get_finbert_sentiment(text):\n",
        "    inputs = finbert_tokenizer(text, return_tensors='pt', truncation=True, max_length=512).to(device)\n",
        "    with torch.no_grad():\n",
        "        outputs = finbert_model(**inputs)\n",
        "    sentiment_scores = outputs.logits.softmax(dim=-1).cpu().numpy()\n",
        "    return sentiment_scores  # Returns probabilities for positive, neutral, negative\n",
        "\n",
        "# Step 2: Apply summarization and sentiment analysis to the combined headlines with progress bar\n",
        "tqdm.pandas(desc=\"Processing Test News Headlines\")  # Set up progress bar description\n",
        "\n",
        "# Summarize the headlines\n",
        "test_news['Summary'] = test_news['Combined_Headlines'].progress_apply(summarize_text_bart)\n",
        "\n",
        "# Get sentiment scores for the summary\n",
        "test_news['Sentiment_Scores'] = test_news['Summary'].progress_apply(get_finbert_sentiment)\n",
        "\n",
        "# Extract sentiment labels based on highest score\n",
        "def extract_sentiment_label(scores):\n",
        "    labels = ['negative', 'neutral', 'positive']\n",
        "    return labels[scores.argmax()]\n",
        "\n",
        "# Apply the function to get sentiment labels\n",
        "test_news['Sentiment_Label'] = test_news['Sentiment_Scores'].apply(lambda x: extract_sentiment_label(x))\n",
        "\n",
        "# Print the first few rows of the updated DataFrame\n",
        "print(test_news[['Date', 'Combined_Headlines', 'Summary', 'Sentiment_Scores', 'Sentiment_Label']].head())\n",
        "\n",
        "# Count the occurrences of each sentiment label\n",
        "sentiment_counts = test_news['Sentiment_Label'].value_counts()\n",
        "print(\"\\nSentiment Counts:\")\n",
        "print(sentiment_counts)\n",
        "\n",
        "# Optionally, save the results to a new CSV file\n",
        "test_news.to_csv('test_news_with_sentiment.csv', index=False)\n"
      ],
      "metadata": {
        "id": "P6J79f4NdnHS",
        "colab": {
          "base_uri": "https://localhost:8080/"
        },
        "outputId": "bac3cf62-b28f-4711-d33a-175249a244a0"
      },
      "execution_count": null,
      "outputs": [
        {
          "output_type": "stream",
          "name": "stdout",
          "text": [
            "Using device: cuda\n"
          ]
        },
        {
          "output_type": "stream",
          "name": "stderr",
          "text": [
            "/usr/local/lib/python3.10/dist-packages/transformers/tokenization_utils_base.py:1601: FutureWarning: `clean_up_tokenization_spaces` was not set. It will be set to `True` by default. This behavior will be depracted in transformers v4.45, and will be then set to `False` by default. For more details check this issue: https://github.com/huggingface/transformers/issues/31884\n",
            "  warnings.warn(\n",
            "Processing Test News Headlines: 100%|██████████| 126/126 [02:23<00:00,  1.14s/it]\n",
            "Processing Test News Headlines: 100%|██████████| 126/126 [00:01<00:00, 106.52it/s]"
          ]
        },
        {
          "output_type": "stream",
          "name": "stdout",
          "text": [
            "         Date                                 Combined_Headlines  \\\n",
            "0  04-01-2016  Saudi Arabia breaks off ties with Iran - Amid ...   \n",
            "1  05-01-2016  Dutch government backs strong encryption, cond...   \n",
            "2  06-01-2016  China shuts down stock market after 15 min 7% ...   \n",
            "3  07-01-2016  Reports of sexual assaults on women across Eur...   \n",
            "4  08-01-2016  El Chapo' Being Taken to Same Prison He Escape...   \n",
            "\n",
            "                                             Summary  \\\n",
            "0  Saudi Arabia breaks off ties with Iran - Amid ...   \n",
            "1  U.S. Justice Department has sued Volkswagen fo...   \n",
            "2  ZDF has apologised for delays in reporting on ...   \n",
            "3  Reports of sexual assaults on women across Eur...   \n",
            "4  A group of United Nations' experts have warned...   \n",
            "\n",
            "                             Sentiment_Scores Sentiment_Label  \n",
            "0    [[0.09364279, 0.00030377554, 0.9060534]]        positive  \n",
            "1     [[0.16428463, 0.003644578, 0.83207077]]        positive  \n",
            "2    [[0.032674357, 0.0146991545, 0.9526265]]        positive  \n",
            "3   [[0.999992, 4.417836e-07, 7.5447324e-06]]        negative  \n",
            "4  [[0.0035705974, 0.00016298234, 0.9962664]]        positive  \n",
            "\n",
            "Sentiment Counts:\n",
            "Sentiment_Label\n",
            "negative    84\n",
            "positive    36\n",
            "neutral      6\n",
            "Name: count, dtype: int64\n"
          ]
        },
        {
          "output_type": "stream",
          "name": "stderr",
          "text": [
            "\n"
          ]
        }
      ]
    },
    {
      "cell_type": "markdown",
      "source": [
        "# Merging Test Sentiment and Stock Price Data for DJIA Predictions"
      ],
      "metadata": {
        "id": "_j2ey-nfny5n"
      }
    },
    {
      "cell_type": "code",
      "source": [
        "import pandas as pd\n",
        "\n",
        "# Load the test sentiment data\n",
        "test_sentiment_data = pd.read_csv('test_news_with_sentiment.csv')\n",
        "\n",
        "# Load the test stock price data\n",
        "test_stock_prices = pd.read_csv('Test_DJIA_Table.csv')\n",
        "\n",
        "# Check the structure of both DataFrames\n",
        "print(\"Sentiment Data Columns:\", test_sentiment_data.columns)\n",
        "print(\"Stock Price Data Columns:\", test_stock_prices.columns)\n",
        "\n",
        "# Make sure the date columns are in datetime format for merging\n",
        "# Use dayfirst=True for \"DD-MM-YYYY\" format\n",
        "test_sentiment_data['Date'] = pd.to_datetime(test_sentiment_data['Date'], format='%d-%m-%Y', dayfirst=True)\n",
        "test_stock_prices['Date'] = pd.to_datetime(test_stock_prices['Date'], format='%d-%m-%Y', dayfirst=True)  # Assuming it's in YYYY-MM-DD format\n",
        "\n",
        "# Merge the two DataFrames on the 'Date' column\n",
        "merged_test_data = pd.merge(test_stock_prices, test_sentiment_data, on='Date', how='left')\n",
        "\n",
        "# Check the merged DataFrame\n",
        "print(\"Merged Test Data:\")\n",
        "print(merged_test_data.head())\n",
        "\n",
        "# Optionally, save the merged dataset to a new CSV file\n",
        "merged_test_data.to_csv('merged_test_data.csv', index=False)\n"
      ],
      "metadata": {
        "id": "WpI_E_YefLTG",
        "colab": {
          "base_uri": "https://localhost:8080/"
        },
        "outputId": "ee883fea-00a2-4909-f756-21e9473e2fc3"
      },
      "execution_count": null,
      "outputs": [
        {
          "output_type": "stream",
          "name": "stdout",
          "text": [
            "Sentiment Data Columns: Index(['Date', 'Label', 'Top1', 'Top2', 'Top3', 'Top4', 'Top5', 'Top6', 'Top7',\n",
            "       'Top8', 'Top9', 'Top10', 'Top11', 'Top12', 'Top13', 'Top14', 'Top15',\n",
            "       'Top16', 'Top17', 'Top18', 'Top19', 'Top20', 'Top21', 'Top22', 'Top23',\n",
            "       'Top24', 'Top25', 'Combined_Headlines', 'Summary', 'Sentiment_Scores',\n",
            "       'Sentiment_Label'],\n",
            "      dtype='object')\n",
            "Stock Price Data Columns: Index(['Date', 'Open', 'High', 'Low', 'Volume'], dtype='object')\n",
            "Merged Test Data:\n",
            "        Date         Open         High          Low     Volume  Label  \\\n",
            "0 2016-07-01  17924.24023  18002.38086  17916.91016   82160000      1   \n",
            "1 2016-06-30  17712.75977  17930.60938  17711.80078  133030000      1   \n",
            "2 2016-06-29  17456.01953  17704.50977  17456.01953  106380000      1   \n",
            "3 2016-06-28  17190.50977  17409.72070  17190.50977  112190000      1   \n",
            "4 2016-06-27  17355.21094  17355.21094  17063.08008  138740000      0   \n",
            "\n",
            "                                                Top1  \\\n",
            "0  A 117-year-old woman in Mexico City finally re...   \n",
            "1  Jamaica proposes marijuana dispensers for tour...   \n",
            "2                   Explosion At Airport In Istanbul   \n",
            "3  2,500 Scientists To Australia: If You Want To ...   \n",
            "4  Barclays and RBS shares suspended from trading...   \n",
            "\n",
            "                                                Top2  \\\n",
            "0   IMF chief backs Athens as permanent Olympic host   \n",
            "1  Stephen Hawking says pollution and 'stupidity'...   \n",
            "2  Yemeni former president: Terrorism is the offs...   \n",
            "3  The personal details of 112,000 French police ...   \n",
            "4  Pope says Church should ask forgiveness from g...   \n",
            "\n",
            "                                                Top3  \\\n",
            "0  The president of France says if Brexit won, so...   \n",
            "1  Boris Johnson says he will not run for Tory pa...   \n",
            "2  UK must accept freedom of movement to access E...   \n",
            "3  S&amp;P cuts United Kingdom sovereign credit r...   \n",
            "4  Poland 'shocked' by xenophobic abuse of Poles ...   \n",
            "\n",
            "                                                Top4  ...  \\\n",
            "0  British Man Who Must Give Police 24 Hours' Not...  ...   \n",
            "1  Six gay men in Ivory Coast were abused and for...  ...   \n",
            "2  Devastated: scientists too late to captive bre...  ...   \n",
            "3                Huge helium deposit found in Africa  ...   \n",
            "4  There will be no second referendum, cabinet ag...  ...   \n",
            "\n",
            "                                               Top20  \\\n",
            "0  Mass fish kill in Vietnam solved as Taiwan ste...   \n",
            "1  More Than 100 Nobel Laureates Call Out Greenpe...   \n",
            "2  Rupert Murdoch describes Brexit as 'wonderful'...   \n",
            "3  Palestinians stone Western Wall worshipers; po...   \n",
            "4  Edward Snowden lawyer vows new push for pardon...   \n",
            "\n",
            "                                               Top21  \\\n",
            "0  Philippines president Rodrigo Duterte urges pe...   \n",
            "1  British pedophile sentenced to 85 years in US ...   \n",
            "2       More than 40 killed in Yemen suicide attacks   \n",
            "3  Jean-Claude Juncker asks Farage: Why are you h...   \n",
            "4  Brexit opinion poll reveals majority don't wan...   \n",
            "\n",
            "                                               Top22  \\\n",
            "0  Spain arrests three Pakistanis accused of prom...   \n",
            "1  US permitted 1,200 offshore fracks in Gulf of ...   \n",
            "2  Google Found Disastrous Symantec and Norton Vu...   \n",
            "3  \"Romanians for Remainians\" offering a new home...   \n",
            "4  Conservative MP Leave Campaigner: \"The leave c...   \n",
            "\n",
            "                                               Top23  \\\n",
            "0  Venezuela, where anger over food shortages is ...   \n",
            "1  We will be swimming in ridicule - French beach...   \n",
            "2  Extremist violence on the rise in Germany: Dom...   \n",
            "3  Brexit: Gibraltar in talks with Scotland to st...   \n",
            "4  Economists predict UK recession, further weake...   \n",
            "\n",
            "                                               Top24  \\\n",
            "0  A Hindu temple worker has been killed by three...   \n",
            "1  UEFA says no minutes of silence for Istanbul v...   \n",
            "2  BBC News: Labour MPs pass Corbyn no-confidence...   \n",
            "3                   8 Suicide Bombers Strike Lebanon   \n",
            "4  New EU 'superstate plan by France, Germany: Cr...   \n",
            "\n",
            "                                               Top25  \\\n",
            "0  Ozone layer hole seems to be healing - US &amp...   \n",
            "1  Law Enforcement Sources: Gun Used in Paris Ter...   \n",
            "2  Tiny New Zealand town with 'too many jobs' lau...   \n",
            "3  Mexico's security forces routinely use 'sexual...   \n",
            "4  Pakistani clerics declare transgender marriage...   \n",
            "\n",
            "                                  Combined_Headlines  \\\n",
            "0  A 117-year-old woman in Mexico City finally re...   \n",
            "1  Jamaica proposes marijuana dispensers for tour...   \n",
            "2  Explosion At Airport In Istanbul Yemeni former...   \n",
            "3  2,500 Scientists To Australia: If You Want To ...   \n",
            "4  Barclays and RBS shares suspended from trading...   \n",
            "\n",
            "                                             Summary  \\\n",
            "0  A 117-year-old woman in Mexico City finally re...   \n",
            "1  Jamaica proposes marijuana dispensers for tour...   \n",
            "2  Australian conservationists spent 5 months obt...   \n",
            "3  Personal details of 112,000 French police offi...   \n",
            "4  Barclays and RBS shares suspended from trading...   \n",
            "\n",
            "                                Sentiment_Scores Sentiment_Label  \n",
            "0  [[2.3768439e-04 9.2758295e-05 9.9966955e-01]]        positive  \n",
            "1  [[1.3589903e-03 2.2826822e-05 9.9861813e-01]]        positive  \n",
            "2  [[9.9945050e-01 5.4480366e-05 4.9500994e-04]]        negative  \n",
            "3           [[0.00884683 0.00113959 0.9900136 ]]        positive  \n",
            "4  [[6.7485271e-05 7.0571623e-05 9.9986196e-01]]        positive  \n",
            "\n",
            "[5 rows x 35 columns]\n"
          ]
        }
      ]
    },
    {
      "cell_type": "markdown",
      "source": [
        "# Encoding Sentiment Labels into Numerical Values for Test Data"
      ],
      "metadata": {
        "id": "IIfWQzkln_bs"
      }
    },
    {
      "cell_type": "code",
      "source": [
        "# Encode sentiment labels into numerical values for the test data\n",
        "test_sentiment_mapping = {'positive': 1, 'neutral': 0, 'negative': -1}\n",
        "test_news['Sentiment_Encoded'] = test_news['Sentiment_Label'].replace(test_sentiment_mapping)\n",
        "\n",
        "# Check the first few rows of the updated test DataFrame\n",
        "print(test_news[['Date', 'Combined_Headlines', 'Sentiment_Label', 'Sentiment_Encoded']].head())\n"
      ],
      "metadata": {
        "id": "uVv7hCAKgOew",
        "colab": {
          "base_uri": "https://localhost:8080/"
        },
        "outputId": "d0e29886-059e-469c-cd2c-23cbe2d15a72"
      },
      "execution_count": null,
      "outputs": [
        {
          "output_type": "stream",
          "name": "stdout",
          "text": [
            "         Date                                 Combined_Headlines  \\\n",
            "0  04-01-2016  Saudi Arabia breaks off ties with Iran - Amid ...   \n",
            "1  05-01-2016  Dutch government backs strong encryption, cond...   \n",
            "2  06-01-2016  China shuts down stock market after 15 min 7% ...   \n",
            "3  07-01-2016  Reports of sexual assaults on women across Eur...   \n",
            "4  08-01-2016  El Chapo' Being Taken to Same Prison He Escape...   \n",
            "\n",
            "  Sentiment_Label  Sentiment_Encoded  \n",
            "0        positive                  1  \n",
            "1        positive                  1  \n",
            "2        positive                  1  \n",
            "3        negative                 -1  \n",
            "4        positive                  1  \n"
          ]
        }
      ]
    },
    {
      "cell_type": "markdown",
      "source": [
        "# Encoding Sentiment Labels and Preparing Test Data for Model Predictions"
      ],
      "metadata": {
        "id": "jU2JO_fqoQgV"
      }
    },
    {
      "cell_type": "code",
      "source": [
        "# Assuming test_sentiment_data is the DataFrame with sentiment scores and labels for the test dataset\n",
        "\n",
        "# Encode sentiment labels into numerical values for the test data\n",
        "sentiment_mapping = {'positive': 1, 'neutral': 0, 'negative': -1}\n",
        "test_sentiment_data['Sentiment_Encoded'] = test_sentiment_data['Sentiment_Label'].replace(sentiment_mapping)\n",
        "\n",
        "# Check the first few rows of the updated test DataFrame\n",
        "print(test_sentiment_data[['Date', 'Combined_Headlines', 'Sentiment_Label', 'Sentiment_Encoded']].head())\n",
        "\n",
        "# Select features for the test data\n",
        "test_features = ['Date', 'Open', 'High', 'Low', 'Volume', 'Sentiment_Encoded']\n",
        "# Merge with stock prices if necessary, and prepare the final test data\n",
        "test_data = test_stock_prices.merge(test_sentiment_data[['Date', 'Sentiment_Encoded']], on='Date', how='left')\n",
        "\n",
        "# Now, create a new DataFrame for the test features\n",
        "test_data = test_data[test_features]\n",
        "\n",
        "# Check the first few rows of the prepared test data\n",
        "print(test_data.head())\n"
      ],
      "metadata": {
        "id": "Mja4qA6hhFzC",
        "colab": {
          "base_uri": "https://localhost:8080/"
        },
        "outputId": "8bacb795-9a6f-4b1a-f123-2fffbefa4c85"
      },
      "execution_count": null,
      "outputs": [
        {
          "output_type": "stream",
          "name": "stdout",
          "text": [
            "        Date                                 Combined_Headlines  \\\n",
            "0 2016-01-04  Saudi Arabia breaks off ties with Iran - Amid ...   \n",
            "1 2016-01-05  Dutch government backs strong encryption, cond...   \n",
            "2 2016-01-06  China shuts down stock market after 15 min 7% ...   \n",
            "3 2016-01-07  Reports of sexual assaults on women across Eur...   \n",
            "4 2016-01-08  El Chapo' Being Taken to Same Prison He Escape...   \n",
            "\n",
            "  Sentiment_Label  Sentiment_Encoded  \n",
            "0        positive                  1  \n",
            "1        positive                  1  \n",
            "2        positive                  1  \n",
            "3        negative                 -1  \n",
            "4        positive                  1  \n",
            "        Date         Open         High          Low     Volume  \\\n",
            "0 2016-07-01  17924.24023  18002.38086  17916.91016   82160000   \n",
            "1 2016-06-30  17712.75977  17930.60938  17711.80078  133030000   \n",
            "2 2016-06-29  17456.01953  17704.50977  17456.01953  106380000   \n",
            "3 2016-06-28  17190.50977  17409.72070  17190.50977  112190000   \n",
            "4 2016-06-27  17355.21094  17355.21094  17063.08008  138740000   \n",
            "\n",
            "   Sentiment_Encoded  \n",
            "0                  1  \n",
            "1                  1  \n",
            "2                 -1  \n",
            "3                  1  \n",
            "4                  1  \n"
          ]
        }
      ]
    },
    {
      "cell_type": "markdown",
      "source": [
        "# **Linear Regression**"
      ],
      "metadata": {
        "id": "WzOdVX27ogRH"
      }
    },
    {
      "cell_type": "markdown",
      "source": [
        "# Predicting Adjusted Close Prices Using Linear Regression on Test Data"
      ],
      "metadata": {
        "id": "UafYoMK5ojAD"
      }
    },
    {
      "cell_type": "code",
      "source": [
        "import pandas as pd\n",
        "from sklearn.linear_model import LinearRegression\n",
        "from sklearn.metrics import mean_squared_error\n",
        "\n",
        "# Assuming you have already merged the sentiment data and stock prices into `test_data`\n",
        "\n",
        "# Prepare features for the test data\n",
        "features = ['Open', 'High', 'Low', 'Volume', 'Sentiment_Encoded']  # Use the same features as in training\n",
        "X_test = test_data[features]\n",
        "\n",
        "# Load the trained model (linear_model from your training phase)\n",
        "# If the model is already in your notebook, you can skip loading\n",
        "\n",
        "# Make predictions on the test data\n",
        "y_pred_test = linear_model.predict(X_test)\n",
        "\n",
        "# Create a DataFrame to hold the results\n",
        "results = test_data.copy()\n",
        "results['Predicted_Adj_Close'] = y_pred_test  # Add the predicted values to the results DataFrame\n",
        "\n",
        "# Print the first few rows of the results\n",
        "print(results[['Date', 'Predicted_Adj_Close']].head())\n",
        "\n",
        "# Optionally, save the results to a new CSV file\n",
        "results[['Date', 'Predicted_Adj_Close']].to_csv('test_predictions_linear_regression.csv', index=False)\n"
      ],
      "metadata": {
        "id": "3Usw1dmljoSH",
        "colab": {
          "base_uri": "https://localhost:8080/"
        },
        "outputId": "574ed857-40ea-4e8e-e450-87e007fa6e38"
      },
      "execution_count": null,
      "outputs": [
        {
          "output_type": "stream",
          "name": "stdout",
          "text": [
            "        Date  Predicted_Adj_Close\n",
            "0 2016-07-01         17995.780878\n",
            "1 2016-06-30         17905.369248\n",
            "2 2016-06-29         17669.129557\n",
            "3 2016-06-28         17385.177504\n",
            "4 2016-06-27         17122.319800\n"
          ]
        }
      ]
    },
    {
      "cell_type": "markdown",
      "source": [
        "# Loading and Displaying Predicted Adjusted Close Prices from CSV"
      ],
      "metadata": {
        "id": "WAhhoBVjpTGg"
      }
    },
    {
      "cell_type": "code",
      "source": [
        "import pandas as pd\n",
        "\n",
        "# Load the predictions from the CSV file\n",
        "predictions = pd.read_csv('test_predictions_linear_regression.csv')\n",
        "\n",
        "# Display the first few rows of the predictions DataFrame\n",
        "print(predictions.head())\n"
      ],
      "metadata": {
        "colab": {
          "base_uri": "https://localhost:8080/"
        },
        "id": "cvQMbH6ynr98",
        "outputId": "0a8a3ebd-7602-4f53-975f-4b5004d7be53"
      },
      "execution_count": null,
      "outputs": [
        {
          "output_type": "stream",
          "name": "stdout",
          "text": [
            "         Date  Predicted_Adj_Close\n",
            "0  2016-07-01         17995.780878\n",
            "1  2016-06-30         17905.369248\n",
            "2  2016-06-29         17669.129557\n",
            "3  2016-06-28         17385.177504\n",
            "4  2016-06-27         17122.319800\n"
          ]
        }
      ]
    },
    {
      "cell_type": "markdown",
      "source": [
        "# Fetching Historical DJIA Data from Yahoo Finance\n",
        "\n",
        "\n",
        "\n",
        "\n",
        "\n",
        "\n"
      ],
      "metadata": {
        "id": "PPt054vBpnWe"
      }
    },
    {
      "cell_type": "code",
      "source": [
        "import yfinance as yf\n",
        "\n",
        "# Convert the 'Date' column to datetime format\n",
        "predictions['Date'] = pd.to_datetime(predictions['Date'])\n",
        "\n",
        "# Define the date range based on predictions\n",
        "start_date = predictions['Date'].min()\n",
        "end_date = predictions['Date'].max()\n",
        "\n",
        "# Define the stock symbol for DJIA\n",
        "ticker = \"^DJI\"\n",
        "\n",
        "# Fetch historical data for DJIA from Yahoo Finance\n",
        "djia_data = yf.download(ticker, start=start_date, end=end_date)\n",
        "\n",
        "# Reset the index to have 'Date' as a column\n",
        "djia_data.reset_index(inplace=True)\n",
        "\n",
        "# Display the first few rows of the downloaded data\n",
        "print(djia_data.head())\n"
      ],
      "metadata": {
        "colab": {
          "base_uri": "https://localhost:8080/"
        },
        "id": "_GKtlyGznvbA",
        "outputId": "ee6fa16c-9e0c-4b4d-b52c-1d481835fa67"
      },
      "execution_count": null,
      "outputs": [
        {
          "output_type": "stream",
          "name": "stderr",
          "text": [
            "\r[*********************100%***********************]  1 of 1 completed"
          ]
        },
        {
          "output_type": "stream",
          "name": "stdout",
          "text": [
            "        Date          Open          High           Low         Close  \\\n",
            "0 2016-01-04  17405.480469  17405.480469  16957.630859  17148.939453   \n",
            "1 2016-01-05  17147.500000  17195.839844  17038.609375  17158.660156   \n",
            "2 2016-01-06  17154.830078  17154.830078  16817.619141  16906.509766   \n",
            "3 2016-01-07  16888.359375  16888.359375  16463.630859  16514.099609   \n",
            "4 2016-01-08  16519.169922  16651.890625  16314.570312  16346.450195   \n",
            "\n",
            "      Adj Close     Volume  \n",
            "0  17148.939453  148060000  \n",
            "1  17158.660156  105750000  \n",
            "2  16906.509766  120250000  \n",
            "3  16514.099609  176240000  \n",
            "4  16346.450195  141850000  \n"
          ]
        },
        {
          "output_type": "stream",
          "name": "stderr",
          "text": [
            "\n"
          ]
        }
      ]
    },
    {
      "cell_type": "markdown",
      "source": [
        "# Loading and Preparing Test DJIA Data"
      ],
      "metadata": {
        "id": "K6bGk-Mnpz24"
      }
    },
    {
      "cell_type": "code",
      "source": [
        "import pandas as pd\n",
        "\n",
        "# Load your test DJIA table (assuming it is a CSV file)\n",
        "test_djia_data = pd.read_csv('Test_DJIA_Table.csv')\n",
        "\n",
        "# Convert the 'Date' column to datetime format, specifying that the day comes first\n",
        "test_djia_data['Date'] = pd.to_datetime(test_djia_data['Date'], dayfirst=True)\n",
        "\n",
        "# Display the first few rows of the test DJIA table\n",
        "print(test_djia_data.head())\n"
      ],
      "metadata": {
        "colab": {
          "base_uri": "https://localhost:8080/"
        },
        "id": "i9rjTBbCoJRr",
        "outputId": "d1b66f04-eeed-4f5b-d966-dd9ab5d4e4a8"
      },
      "execution_count": null,
      "outputs": [
        {
          "output_type": "stream",
          "name": "stdout",
          "text": [
            "        Date         Open         High          Low     Volume\n",
            "0 2016-07-01  17924.24023  18002.38086  17916.91016   82160000\n",
            "1 2016-06-30  17712.75977  17930.60938  17711.80078  133030000\n",
            "2 2016-06-29  17456.01953  17704.50977  17456.01953  106380000\n",
            "3 2016-06-28  17190.50977  17409.72070  17190.50977  112190000\n",
            "4 2016-06-27  17355.21094  17355.21094  17063.08008  138740000\n"
          ]
        }
      ]
    },
    {
      "cell_type": "markdown",
      "source": [
        "# Merging Test DJIA Data with Yahoo Finance Data\n",
        "\n",
        "\n",
        "\n",
        "\n",
        "\n",
        "\n"
      ],
      "metadata": {
        "id": "cza85BazqNza"
      }
    },
    {
      "cell_type": "code",
      "source": [
        "# Merge the test DJIA data with the Yahoo Finance data on 'Date'\n",
        "merged_djia_data = pd.merge(test_djia_data,\n",
        "                             djia_data[['Date', 'Open', 'High', 'Low', 'Volume']],\n",
        "                             on='Date',\n",
        "                             how='left',\n",
        "                             suffixes=('_test', '_yahoo'))\n",
        "# Convert relevant columns to numeric, forcing errors to NaN\n",
        "numeric_columns = ['Open_test', 'High_test', 'Low_test', 'Volume_test',\n",
        "                   'Open_yahoo', 'High_yahoo', 'Low_yahoo', 'Volume_yahoo']\n",
        "for column in numeric_columns:\n",
        "    merged_djia_data[column] = pd.to_numeric(merged_djia_data[column], errors='coerce')\n",
        "# Round both test and Yahoo finance values to 5 decimal places for comparison\n",
        "for column in ['Open_test', 'High_test', 'Low_test', 'Open_yahoo', 'High_yahoo', 'Low_yahoo']:\n",
        "    merged_djia_data[column] = merged_djia_data[column].round(5)\n",
        "# Remove rows with NaN values\n",
        "merged_djia_data.dropna(inplace=True)\n",
        "\n",
        "# Convert Volume_yahoo to integer\n",
        "merged_djia_data['Volume_yahoo'] = merged_djia_data['Volume_yahoo'].astype(int)\n",
        "\n",
        "# Display the merged data to check for discrepancies\n",
        "print(merged_djia_data.head())\n"
      ],
      "metadata": {
        "colab": {
          "base_uri": "https://localhost:8080/"
        },
        "id": "a7wNDjgAoQzk",
        "outputId": "781a476d-ab31-41c4-90dc-a4f5b9583ff9"
      },
      "execution_count": null,
      "outputs": [
        {
          "output_type": "stream",
          "name": "stdout",
          "text": [
            "        Date    Open_test    High_test     Low_test  Volume_test   Open_yahoo  \\\n",
            "1 2016-06-30  17712.75977  17930.60938  17711.80078    133030000  17712.75977   \n",
            "2 2016-06-29  17456.01953  17704.50977  17456.01953    106380000  17456.01953   \n",
            "3 2016-06-28  17190.50977  17409.72070  17190.50977    112190000  17190.50977   \n",
            "4 2016-06-27  17355.21094  17355.21094  17063.08008    138740000  17355.21094   \n",
            "5 2016-06-24  17946.63086  17946.63086  17356.33984    239000000  17946.63086   \n",
            "\n",
            "    High_yahoo    Low_yahoo  Volume_yahoo  \n",
            "1  17930.60938  17711.80078     133030000  \n",
            "2  17704.50977  17456.01953     106380000  \n",
            "3  17409.72070  17190.50977     112190000  \n",
            "4  17355.21094  17063.08008     138740000  \n",
            "5  17946.63086  17356.33984     239000000  \n"
          ]
        }
      ]
    },
    {
      "cell_type": "markdown",
      "source": [
        "# Evaluation of Consistent Open, High, Low, and Volume Values Between Test and Yahoo Finance Data"
      ],
      "metadata": {
        "id": "Yt-DFNaWqjuV"
      }
    },
    {
      "cell_type": "code",
      "source": [
        "# Check if Open, High, Low, and Volume values are the same\n",
        "consistent_data = merged_djia_data[\n",
        "    (merged_djia_data['Open_test'] == merged_djia_data['Open_yahoo']) &\n",
        "    (merged_djia_data['High_test'] == merged_djia_data['High_yahoo']) &\n",
        "    (merged_djia_data['Low_test'] == merged_djia_data['Low_yahoo']) &\n",
        "    (merged_djia_data['Volume_test'] == merged_djia_data['Volume_yahoo'])\n",
        "]\n",
        "\n",
        "# Display rows with consistent data\n",
        "print(\"Consistent data for evaluation:\")\n",
        "print(consistent_data)\n"
      ],
      "metadata": {
        "colab": {
          "base_uri": "https://localhost:8080/"
        },
        "id": "rb70qWM_odk8",
        "outputId": "ff4d37fa-3878-422a-e31a-ae719d781ba2"
      },
      "execution_count": null,
      "outputs": [
        {
          "output_type": "stream",
          "name": "stdout",
          "text": [
            "Consistent data for evaluation:\n",
            "          Date    Open_test    High_test     Low_test  Volume_test  \\\n",
            "1   2016-06-30  17712.75977  17930.60938  17711.80078    133030000   \n",
            "2   2016-06-29  17456.01953  17704.50977  17456.01953    106380000   \n",
            "3   2016-06-28  17190.50977  17409.72070  17190.50977    112190000   \n",
            "4   2016-06-27  17355.21094  17355.21094  17063.08008    138740000   \n",
            "5   2016-06-24  17946.63086  17946.63086  17356.33984    239000000   \n",
            "..         ...          ...          ...          ...          ...   \n",
            "120 2016-01-11  16358.70996  16461.84961  16232.03027    127790000   \n",
            "122 2016-01-07  16888.35938  16888.35938  16463.63086    176240000   \n",
            "123 2016-01-06  17154.83008  17154.83008  16817.61914    120250000   \n",
            "124 2016-01-05  17147.50000  17195.83984  17038.60938    105750000   \n",
            "125 2016-01-04  17405.48047  17405.48047  16957.63086    148060000   \n",
            "\n",
            "      Open_yahoo   High_yahoo    Low_yahoo  Volume_yahoo  \n",
            "1    17712.75977  17930.60938  17711.80078     133030000  \n",
            "2    17456.01953  17704.50977  17456.01953     106380000  \n",
            "3    17190.50977  17409.72070  17190.50977     112190000  \n",
            "4    17355.21094  17355.21094  17063.08008     138740000  \n",
            "5    17946.63086  17946.63086  17356.33984     239000000  \n",
            "..           ...          ...          ...           ...  \n",
            "120  16358.70996  16461.84961  16232.03027     127790000  \n",
            "122  16888.35938  16888.35938  16463.63086     176240000  \n",
            "123  17154.83008  17154.83008  16817.61914     120250000  \n",
            "124  17147.50000  17195.83984  17038.60938     105750000  \n",
            "125  17405.48047  17405.48047  16957.63086     148060000  \n",
            "\n",
            "[113 rows x 9 columns]\n"
          ]
        }
      ]
    },
    {
      "cell_type": "markdown",
      "source": [
        "# Comparison of Predicted and Actual Adjusted Close Values for DJIA"
      ],
      "metadata": {
        "id": "zLdPYSC4q8Hz"
      }
    },
    {
      "cell_type": "code",
      "source": [
        "# Merge the predictions with the actual adjusted close values from Yahoo\n",
        "final_data = pd.merge(predictions,\n",
        "                       djia_data[['Date', 'Adj Close']],\n",
        "                       on='Date',\n",
        "                       how='left',\n",
        "                       suffixes=('_predicted', '_actual'))\n",
        "\n",
        "# Round the predicted and actual adjusted close values to 2 decimal points\n",
        "final_data['Predicted_Adj_Close'] = final_data['Predicted_Adj_Close'].round(2)\n",
        "final_data['Adj Close'] = final_data['Adj Close'].round(2)\n",
        "\n",
        "# Remove rows with NaN values\n",
        "final_data.dropna(inplace=True)\n",
        "\n",
        "# Display the merged data to check\n",
        "print(final_data.head())\n"
      ],
      "metadata": {
        "colab": {
          "base_uri": "https://localhost:8080/"
        },
        "id": "wmFajqH0rwaH",
        "outputId": "a40de837-3dca-4176-cb87-fb0557177c59"
      },
      "execution_count": null,
      "outputs": [
        {
          "output_type": "stream",
          "name": "stdout",
          "text": [
            "        Date  Predicted_Adj_Close  Adj Close\n",
            "1 2016-06-30             17905.37   17929.99\n",
            "2 2016-06-29             17669.13   17694.68\n",
            "3 2016-06-28             17385.18   17409.72\n",
            "4 2016-06-27             17122.32   17140.24\n",
            "5 2016-06-24             17462.59   17400.75\n"
          ]
        }
      ]
    },
    {
      "cell_type": "markdown",
      "source": [
        "# Mean Squared Error Calculation for DJIA Adjusted Close Predictions\n",
        "\n",
        "\n",
        "\n",
        "\n",
        "\n",
        "\n"
      ],
      "metadata": {
        "id": "nLizdRLQrRSY"
      }
    },
    {
      "cell_type": "code",
      "source": [
        "from sklearn.metrics import mean_squared_error\n",
        "\n",
        "# Calculate the Mean Squared Error (MSE)\n",
        "mse = mean_squared_error(final_data['Adj Close'], final_data['Predicted_Adj_Close'])\n",
        "print(\"Mean Squared Error between predicted and actual DJIA Adjusted Close:\", mse)\n"
      ],
      "metadata": {
        "colab": {
          "base_uri": "https://localhost:8080/"
        },
        "id": "5Nf5gvFxr0rL",
        "outputId": "6c74dd2c-2e6d-4cc8-ef63-736025baf45b"
      },
      "execution_count": null,
      "outputs": [
        {
          "output_type": "stream",
          "name": "stdout",
          "text": [
            "Mean Squared Error between predicted and actual DJIA Adjusted Close: 3577.4658775999883\n"
          ]
        }
      ]
    },
    {
      "cell_type": "markdown",
      "source": [
        "# **Ridge Regression**"
      ],
      "metadata": {
        "id": "C5w8H9hkrhzT"
      }
    },
    {
      "cell_type": "code",
      "source": [
        "import pandas as pd\n",
        "from sklearn.linear_model import Ridge\n",
        "from sklearn.metrics import mean_squared_error\n",
        "\n",
        "# Assuming you have already merged the sentiment data and stock prices into `test_data`\n",
        "# Load your training data (replace with your actual training dataset)\n",
        "# For example:\n",
        "# X_train = training_data[['Open', 'High', 'Low', 'Volume', 'Sentiment_Encoded']]\n",
        "# y_train = training_data['Adj Close']\n",
        "\n",
        "# Prepare features for the test data\n",
        "features = ['Open', 'High', 'Low', 'Volume', 'Sentiment_Encoded']  # Use the same features as in training\n",
        "X_test = test_data[features]\n",
        "\n",
        "# Initialize the Ridge regression model\n",
        "ridge_model = Ridge(alpha=1.0)  # Adjust the alpha parameter as needed\n",
        "\n",
        "# Fit the model on the training data\n",
        "ridge_model.fit(X_train, y_train)  # Ensure you have X_train and y_train defined\n",
        "\n",
        "# Make predictions on the test data\n",
        "y_pred_test = ridge_model.predict(X_test)\n",
        "\n",
        "# Create a DataFrame to hold the results\n",
        "results = test_data.copy()\n",
        "results['Predicted_Adj_Close'] = y_pred_test  # Add the predicted values to the results DataFrame\n",
        "\n",
        "# Print the first few rows of the results\n",
        "print(results[['Date', 'Predicted_Adj_Close']].head())\n",
        "\n",
        "# Optionally, save the results to a new CSV file\n",
        "results[['Date', 'Predicted_Adj_Close']].to_csv('test_predictions_ridge_regression.csv', index=False)\n",
        "\n"
      ],
      "metadata": {
        "colab": {
          "base_uri": "https://localhost:8080/"
        },
        "id": "Alf_kgxLuSIc",
        "outputId": "2e77c85b-0682-4083-860c-609d43b0e18e"
      },
      "execution_count": null,
      "outputs": [
        {
          "output_type": "stream",
          "name": "stdout",
          "text": [
            "        Date  Predicted_Adj_Close\n",
            "0 2016-07-01         17995.768174\n",
            "1 2016-06-30         17905.358590\n",
            "2 2016-06-29         17669.137709\n",
            "3 2016-06-28         17385.166925\n",
            "4 2016-06-27         17122.306727\n"
          ]
        },
        {
          "output_type": "stream",
          "name": "stderr",
          "text": [
            "/usr/local/lib/python3.10/dist-packages/sklearn/linear_model/_ridge.py:216: LinAlgWarning: Ill-conditioned matrix (rcond=1.03668e-16): result may not be accurate.\n",
            "  return linalg.solve(A, Xy, assume_a=\"pos\", overwrite_a=True).T\n"
          ]
        }
      ]
    },
    {
      "cell_type": "markdown",
      "source": [
        "# Evaluation of Ridge Regression Predictions for DJIA Adjusted Close\n",
        "\n",
        "\n",
        "\n",
        "\n",
        "\n",
        "\n"
      ],
      "metadata": {
        "id": "6Cte40PSrw0u"
      }
    },
    {
      "cell_type": "code",
      "source": [
        "import pandas as pd\n",
        "\n",
        "# Load the predictions from the CSV file\n",
        "predictions = pd.read_csv('test_predictions_ridge_regression.csv')\n",
        "\n",
        "# Display the first few rows of the predictions DataFrame\n",
        "print(predictions.head())\n",
        "import yfinance as yf\n",
        "\n",
        "# Convert the 'Date' column to datetime format\n",
        "predictions['Date'] = pd.to_datetime(predictions['Date'])\n",
        "\n",
        "# Define the date range based on predictions\n",
        "start_date = predictions['Date'].min()\n",
        "end_date = predictions['Date'].max()\n",
        "\n",
        "# Define the stock symbol for DJIA\n",
        "ticker = \"^DJI\"\n",
        "\n",
        "# Fetch historical data for DJIA from Yahoo Finance\n",
        "djia_data = yf.download(ticker, start=start_date, end=end_date)\n",
        "\n",
        "# Reset the index to have 'Date' as a column\n",
        "djia_data.reset_index(inplace=True)\n",
        "\n",
        "# Display the first few rows of the downloaded data\n",
        "print(djia_data.head())\n",
        "import pandas as pd\n",
        "\n",
        "# Load your test DJIA table (assuming it is a CSV file)\n",
        "test_djia_data = pd.read_csv('Test_DJIA_Table.csv')\n",
        "\n",
        "# Convert the 'Date' column to datetime format, specifying that the day comes first\n",
        "test_djia_data['Date'] = pd.to_datetime(test_djia_data['Date'], dayfirst=True)\n",
        "\n",
        "# Display the first few rows of the test DJIA table\n",
        "print(test_djia_data.head())\n",
        "# Merge the test DJIA data with the Yahoo Finance data on 'Date'\n",
        "merged_djia_data = pd.merge(test_djia_data,\n",
        "                             djia_data[['Date', 'Open', 'High', 'Low', 'Volume']],\n",
        "                             on='Date',\n",
        "                             how='left',\n",
        "                             suffixes=('_test', '_yahoo'))\n",
        "# Convert relevant columns to numeric, forcing errors to NaN\n",
        "numeric_columns = ['Open_test', 'High_test', 'Low_test', 'Volume_test',\n",
        "                   'Open_yahoo', 'High_yahoo', 'Low_yahoo', 'Volume_yahoo']\n",
        "for column in numeric_columns:\n",
        "    merged_djia_data[column] = pd.to_numeric(merged_djia_data[column], errors='coerce')\n",
        "# Round both test and Yahoo finance values to 5 decimal places for comparison\n",
        "for column in ['Open_test', 'High_test', 'Low_test', 'Open_yahoo', 'High_yahoo', 'Low_yahoo']:\n",
        "    merged_djia_data[column] = merged_djia_data[column].round(5)\n",
        "# Remove rows with NaN values\n",
        "merged_djia_data.dropna(inplace=True)\n",
        "\n",
        "# Convert Volume_yahoo to integer\n",
        "merged_djia_data['Volume_yahoo'] = merged_djia_data['Volume_yahoo'].astype(int)\n",
        "\n",
        "# Display the merged data to check for discrepancies\n",
        "print(merged_djia_data.head())\n",
        "# Check if Open, High, Low, and Volume values are the same\n",
        "consistent_data = merged_djia_data[\n",
        "    (merged_djia_data['Open_test'] == merged_djia_data['Open_yahoo']) &\n",
        "    (merged_djia_data['High_test'] == merged_djia_data['High_yahoo']) &\n",
        "    (merged_djia_data['Low_test'] == merged_djia_data['Low_yahoo']) &\n",
        "    (merged_djia_data['Volume_test'] == merged_djia_data['Volume_yahoo'])\n",
        "]\n",
        "\n",
        "# Display rows with consistent data\n",
        "print(\"Consistent data for evaluation:\")\n",
        "print(consistent_data)\n",
        "# Merge the predictions with the actual adjusted close values from Yahoo\n",
        "final_data = pd.merge(predictions,\n",
        "                       djia_data[['Date', 'Adj Close']],\n",
        "                       on='Date',\n",
        "                       how='left',\n",
        "                       suffixes=('_predicted', '_actual'))\n",
        "\n",
        "# Round the predicted and actual adjusted close values to 2 decimal points\n",
        "final_data['Predicted_Adj_Close'] = final_data['Predicted_Adj_Close'].round(2)\n",
        "final_data['Adj Close'] = final_data['Adj Close'].round(2)\n",
        "\n",
        "# Remove rows with NaN values\n",
        "final_data.dropna(inplace=True)\n",
        "\n",
        "# Display the merged data to check\n",
        "print(final_data.head())\n",
        "from sklearn.metrics import mean_squared_error\n",
        "\n",
        "# Calculate the Mean Squared Error (MSE)\n",
        "mse = mean_squared_error(final_data['Adj Close'], final_data['Predicted_Adj_Close'])\n",
        "print(\"Mean Squared Error between predicted and actual DJIA Adjusted Close:\", mse)\n"
      ],
      "metadata": {
        "colab": {
          "base_uri": "https://localhost:8080/"
        },
        "id": "OpeJO7daucwK",
        "outputId": "7e2b836a-8ece-4fc2-8305-2e98b6221cb0"
      },
      "execution_count": null,
      "outputs": [
        {
          "output_type": "stream",
          "name": "stderr",
          "text": [
            "\r[*********************100%***********************]  1 of 1 completed"
          ]
        },
        {
          "output_type": "stream",
          "name": "stdout",
          "text": [
            "         Date  Predicted_Adj_Close\n",
            "0  2016-07-01         17995.768174\n",
            "1  2016-06-30         17905.358590\n",
            "2  2016-06-29         17669.137709\n",
            "3  2016-06-28         17385.166925\n",
            "4  2016-06-27         17122.306727\n",
            "        Date          Open          High           Low         Close  \\\n",
            "0 2016-01-04  17405.480469  17405.480469  16957.630859  17148.939453   \n",
            "1 2016-01-05  17147.500000  17195.839844  17038.609375  17158.660156   \n",
            "2 2016-01-06  17154.830078  17154.830078  16817.619141  16906.509766   \n",
            "3 2016-01-07  16888.359375  16888.359375  16463.630859  16514.099609   \n",
            "4 2016-01-08  16519.169922  16651.890625  16314.570312  16346.450195   \n",
            "\n",
            "      Adj Close     Volume  \n",
            "0  17148.939453  148060000  \n",
            "1  17158.660156  105750000  \n",
            "2  16906.509766  120250000  \n",
            "3  16514.099609  176240000  \n",
            "4  16346.450195  141850000  \n",
            "        Date         Open         High          Low     Volume\n",
            "0 2016-07-01  17924.24023  18002.38086  17916.91016   82160000\n",
            "1 2016-06-30  17712.75977  17930.60938  17711.80078  133030000\n",
            "2 2016-06-29  17456.01953  17704.50977  17456.01953  106380000\n",
            "3 2016-06-28  17190.50977  17409.72070  17190.50977  112190000\n",
            "4 2016-06-27  17355.21094  17355.21094  17063.08008  138740000\n",
            "        Date    Open_test    High_test     Low_test  Volume_test   Open_yahoo  \\\n",
            "1 2016-06-30  17712.75977  17930.60938  17711.80078    133030000  17712.75977   \n",
            "2 2016-06-29  17456.01953  17704.50977  17456.01953    106380000  17456.01953   \n",
            "3 2016-06-28  17190.50977  17409.72070  17190.50977    112190000  17190.50977   \n",
            "4 2016-06-27  17355.21094  17355.21094  17063.08008    138740000  17355.21094   \n",
            "5 2016-06-24  17946.63086  17946.63086  17356.33984    239000000  17946.63086   \n",
            "\n",
            "    High_yahoo    Low_yahoo  Volume_yahoo  \n",
            "1  17930.60938  17711.80078     133030000  \n",
            "2  17704.50977  17456.01953     106380000  \n",
            "3  17409.72070  17190.50977     112190000  \n",
            "4  17355.21094  17063.08008     138740000  \n",
            "5  17946.63086  17356.33984     239000000  \n",
            "Consistent data for evaluation:\n",
            "          Date    Open_test    High_test     Low_test  Volume_test  \\\n",
            "1   2016-06-30  17712.75977  17930.60938  17711.80078    133030000   \n",
            "2   2016-06-29  17456.01953  17704.50977  17456.01953    106380000   \n",
            "3   2016-06-28  17190.50977  17409.72070  17190.50977    112190000   \n",
            "4   2016-06-27  17355.21094  17355.21094  17063.08008    138740000   \n",
            "5   2016-06-24  17946.63086  17946.63086  17356.33984    239000000   \n",
            "..         ...          ...          ...          ...          ...   \n",
            "120 2016-01-11  16358.70996  16461.84961  16232.03027    127790000   \n",
            "122 2016-01-07  16888.35938  16888.35938  16463.63086    176240000   \n",
            "123 2016-01-06  17154.83008  17154.83008  16817.61914    120250000   \n",
            "124 2016-01-05  17147.50000  17195.83984  17038.60938    105750000   \n",
            "125 2016-01-04  17405.48047  17405.48047  16957.63086    148060000   \n",
            "\n",
            "      Open_yahoo   High_yahoo    Low_yahoo  Volume_yahoo  \n",
            "1    17712.75977  17930.60938  17711.80078     133030000  \n",
            "2    17456.01953  17704.50977  17456.01953     106380000  \n",
            "3    17190.50977  17409.72070  17190.50977     112190000  \n",
            "4    17355.21094  17355.21094  17063.08008     138740000  \n",
            "5    17946.63086  17946.63086  17356.33984     239000000  \n",
            "..           ...          ...          ...           ...  \n",
            "120  16358.70996  16461.84961  16232.03027     127790000  \n",
            "122  16888.35938  16888.35938  16463.63086     176240000  \n",
            "123  17154.83008  17154.83008  16817.61914     120250000  \n",
            "124  17147.50000  17195.83984  17038.60938     105750000  \n",
            "125  17405.48047  17405.48047  16957.63086     148060000  \n",
            "\n",
            "[113 rows x 9 columns]\n",
            "        Date  Predicted_Adj_Close  Adj Close\n",
            "1 2016-06-30             17905.36   17929.99\n",
            "2 2016-06-29             17669.14   17694.68\n",
            "3 2016-06-28             17385.17   17409.72\n",
            "4 2016-06-27             17122.31   17140.24\n",
            "5 2016-06-24             17462.58   17400.75\n",
            "Mean Squared Error between predicted and actual DJIA Adjusted Close: 3577.587197600013\n"
          ]
        },
        {
          "output_type": "stream",
          "name": "stderr",
          "text": [
            "\n"
          ]
        }
      ]
    },
    {
      "cell_type": "markdown",
      "source": [
        "Definition: MSE measures the average squared difference between predicted and actual values. A lower MSE indicates a better fit of the model to the data."
      ],
      "metadata": {
        "id": "0a-8j3aGv5r9"
      }
    },
    {
      "cell_type": "markdown",
      "source": [
        "The DJIA prices are in thousands (e.g., around 17,000), so an MSE of approximately 3577 may not be excessively high relative to the scale of the data."
      ],
      "metadata": {
        "id": "grH5RgKUwAFa"
      }
    }
  ]
}